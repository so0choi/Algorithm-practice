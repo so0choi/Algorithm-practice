{
 "cells": [
  {
   "cell_type": "code",
   "execution_count": 2,
   "metadata": {},
   "outputs": [],
   "source": [
    "import json"
   ]
  },
  {
   "cell_type": "code",
   "execution_count": 3,
   "metadata": {},
   "outputs": [
    {
     "name": "stdout",
     "output_type": "stream",
     "text": [
      "['JSONDecodeError', 'JSONDecoder', 'JSONEncoder', '__all__', '__author__', '__builtins__', '__cached__', '__doc__', '__file__', '__loader__', '__name__', '__package__', '__path__', '__spec__', '__version__', '_default_decoder', '_default_encoder', 'codecs', 'decoder', 'detect_encoding', 'dump', 'dumps', 'encoder', 'load', 'loads', 'scanner']\n"
     ]
    }
   ],
   "source": [
    "print(dir(json))"
   ]
  },
  {
   "cell_type": "code",
   "execution_count": 14,
   "metadata": {},
   "outputs": [],
   "source": [
    "돌의내구도 = [1, 2, 1, 4]\n",
    "독 = [{\n",
    "    \"이름\" : \"루비독\",\n",
    "    \"나이\" : \"95년생\",\n",
    "    \"점프력\" : \"3\",\n",
    "    \"몸무게\" : \"4\",\n",
    "    },{\n",
    "    \"이름\" : \"피치독\",\n",
    "    \"나이\" : \"95년생\",\n",
    "    \"점프력\" : \"3\",\n",
    "    \"몸무게\" : \"3\",\n",
    "    },{\n",
    "    \"이름\" : \"씨-독\",\n",
    "    \"나이\" : \"72년생\",\n",
    "    \"점프력\" : \"2\",\n",
    "    \"몸무게\" : \"1\",\n",
    "    },{\n",
    "    \"이름\" : \"코볼독\",\n",
    "    \"나이\" : \"59년생\",\n",
    "    \"점프력\" : \"1\",\n",
    "    \"몸무게\" : \"1\",\n",
    "    }\n",
    "]"
   ]
  },
  {
   "cell_type": "code",
   "execution_count": 10,
   "metadata": {},
   "outputs": [
    {
     "name": "stdout",
     "output_type": "stream",
     "text": [
      "['루비독', '피치독', '씨-독', '코볼독']\n"
     ]
    }
   ],
   "source": [
    "def 징검다리건너기(돌의내구도, 독):\n",
    "    answer = [ i['이름'] for i in 독]\n",
    "    return answer\n",
    "\n",
    "print(징검다리건너기(돌의내구도, 독))"
   ]
  },
  {
   "cell_type": "code",
   "execution_count": 15,
   "metadata": {},
   "outputs": [
    {
     "name": "stdout",
     "output_type": "stream",
     "text": [
      "['씨-독']\n"
     ]
    }
   ],
   "source": [
    "def 징검다리건너기(돌의내구도, 독):\n",
    "    answer = [ i['이름'] for i in 독]\n",
    "    for i in 독:\n",
    "        독의위치 = 0\n",
    "        while 독의위치 < len(돌의내구도)-1: #다리를 건넌것\n",
    "            독의위치 += int(i['점프력'])\n",
    "            돌의내구도[독의위치-1] -= int(i['몸무게'])\n",
    "            if 돌의내구도[독의위치-1]<0:\n",
    "                answer[answer.index(i['이름'])] = 'fail'\n",
    "                break\n",
    "    return [i for i in answer if i!='fail']\n",
    "\n",
    "print(징검다리건너기(돌의내구도.copy(), 독.copy()))"
   ]
  },
  {
   "cell_type": "code",
   "execution_count": 20,
   "metadata": {},
   "outputs": [
    {
     "name": "stdout",
     "output_type": "stream",
     "text": [
      "[1000, 2, 3, 4, 5]\n"
     ]
    },
    {
     "data": {
      "text/plain": [
       "[1, 2, 3, 4, 5]"
      ]
     },
     "execution_count": 20,
     "metadata": {},
     "output_type": "execute_result"
    }
   ],
   "source": [
    "ll = [1,2,3,4,5]\n",
    "def change(l):\n",
    "    l[0] = 1000\n",
    "    return l\n",
    "print(change(ll.copy()))\n",
    "ll"
   ]
  },
  {
   "cell_type": "code",
   "execution_count": 21,
   "metadata": {},
   "outputs": [
    {
     "name": "stdout",
     "output_type": "stream",
     "text": [
      "['씨-독']\n"
     ]
    }
   ],
   "source": [
    "# remove O(N)\n",
    "# del O(1)\n",
    "\n",
    "def 징검다리건너기(돌의내구도, 독):\n",
    "    answer = [ i['이름'] for i in 독]\n",
    "    for i in 독:\n",
    "        독의위치 = 0\n",
    "        while 독의위치 < len(돌의내구도)-1: #다리를 건넌것\n",
    "            독의위치 += int(i['점프력'])\n",
    "            돌의내구도[독의위치-1] -= int(i['몸무게'])\n",
    "            if 돌의내구도[독의위치-1]<0:\n",
    "                del answer[answer.index(i['이름'])]\n",
    "                break\n",
    "    return answer\n",
    "\n",
    "print(징검다리건너기(돌의내구도.copy(), 독.copy()))"
   ]
  },
  {
   "cell_type": "code",
   "execution_count": 22,
   "metadata": {},
   "outputs": [
    {
     "name": "stdout",
     "output_type": "stream",
     "text": [
      "['루비독', '씨-독']\n"
     ]
    }
   ],
   "source": [
    "# remove O(N)\n",
    "# del O(1)\n",
    "돌의내구도 = [5,3,4,1,3,8,3]\n",
    "def 징검다리건너기(돌의내구도, 독):\n",
    "    answer = [ i['이름'] for i in 독]\n",
    "    for i in 독:\n",
    "        독의위치 = 0\n",
    "        while 독의위치 < len(돌의내구도)-1: #다리를 건넌것\n",
    "            독의위치 += int(i['점프력'])\n",
    "            돌의내구도[독의위치-1] -= int(i['몸무게'])\n",
    "            if 돌의내구도[독의위치-1]<0:\n",
    "                del answer[answer.index(i['이름'])]\n",
    "                break\n",
    "    return answer\n",
    "\n",
    "print(징검다리건너기(돌의내구도.copy(), 독.copy()))"
   ]
  },
  {
   "cell_type": "code",
   "execution_count": 23,
   "metadata": {},
   "outputs": [
    {
     "data": {
      "text/plain": [
       "'[{\"이름\": \"루비독\", \"나이\": \"95년생\", \"점프력\": \"3\", \"몸무게\": \"4\"}, {\"이름\": \"피치독\", \"나이\": \"95년생\", \"점프력\": \"3\", \"몸무게\": \"3\"}, {\"이름\": \"씨-독\", \"나이\": \"72년생\", \"점프력\": \"2\", \"몸무게\": \"1\"}, {\"이름\": \"코볼독\", \"나이\": \"59년생\", \"점프력\": \"1\", \"몸무게\": \"1\"}]'"
      ]
     },
     "execution_count": 23,
     "metadata": {},
     "output_type": "execute_result"
    }
   ],
   "source": [
    "JSON독 = json.dumps(독, ensure_ascii=False)\n",
    "JSON독\n",
    "#STRING 처리"
   ]
  },
  {
   "cell_type": "code",
   "execution_count": 24,
   "metadata": {},
   "outputs": [
    {
     "data": {
      "text/plain": [
       "[{'이름': '루비독', '나이': '95년생', '점프력': '3', '몸무게': '4'},\n",
       " {'이름': '피치독', '나이': '95년생', '점프력': '3', '몸무게': '3'},\n",
       " {'이름': '씨-독', '나이': '72년생', '점프력': '2', '몸무게': '1'},\n",
       " {'이름': '코볼독', '나이': '59년생', '점프력': '1', '몸무게': '1'}]"
      ]
     },
     "execution_count": 24,
     "metadata": {},
     "output_type": "execute_result"
    }
   ],
   "source": [
    "JSON독 = json.loads(JSON독)\n",
    "JSON독\n",
    "# 리스트 처리"
   ]
  },
  {
   "cell_type": "code",
   "execution_count": 25,
   "metadata": {},
   "outputs": [
    {
     "data": {
      "text/plain": [
       "{'이름': '루비독', '나이': '95년생', '점프력': '3', '몸무게': '4'}"
      ]
     },
     "execution_count": 25,
     "metadata": {},
     "output_type": "execute_result"
    }
   ],
   "source": [
    "JSON독[0]"
   ]
  },
  {
   "cell_type": "code",
   "execution_count": 26,
   "metadata": {},
   "outputs": [
    {
     "name": "stdout",
     "output_type": "stream",
     "text": [
      "['루비독', '씨-독']\n"
     ]
    }
   ],
   "source": [
    "print(징검다리건너기(돌의내구도.copy(), JSON독.copy()))"
   ]
  },
  {
   "cell_type": "markdown",
   "metadata": {},
   "source": [
    "## 내가 풀어보기"
   ]
  },
  {
   "cell_type": "code",
   "execution_count": 52,
   "metadata": {},
   "outputs": [],
   "source": [
    "stone = [5, 3, 4, 1, 3, 8, 3]\n",
    "dog = [{\n",
    "    \"이름\" : \"루비독\",\n",
    "    \"나이\" : \"95년생\",\n",
    "    \"점프력\" : \"3\",\n",
    "    \"몸무게\" : \"4\",\n",
    "    },{\n",
    "    \"이름\" : \"피치독\",\n",
    "    \"나이\" : \"95년생\",\n",
    "    \"점프력\" : \"3\",\n",
    "    \"몸무게\" : \"3\",\n",
    "    },{\n",
    "    \"이름\" : \"씨-독\",\n",
    "    \"나이\" : \"72년생\",\n",
    "    \"점프력\" : \"2\",\n",
    "    \"몸무게\" : \"1\",\n",
    "    },{\n",
    "    \"이름\" : \"코볼독\",\n",
    "    \"나이\" : \"59년생\",\n",
    "    \"점프력\" : \"1\",\n",
    "    \"몸무게\" : \"1\",\n",
    "    }\n",
    "]"
   ]
  },
  {
   "cell_type": "code",
   "execution_count": 53,
   "metadata": {},
   "outputs": [],
   "source": [
    "jsonDogs = json.dumps(dogs)"
   ]
  },
  {
   "cell_type": "code",
   "execution_count": 54,
   "metadata": {},
   "outputs": [],
   "source": [
    "jsonDogs = json.loads(jsonDogs)"
   ]
  },
  {
   "cell_type": "code",
   "execution_count": 55,
   "metadata": {
    "scrolled": true
   },
   "outputs": [
    {
     "name": "stdout",
     "output_type": "stream",
     "text": [
      "[{'이름': '루비독', '나이': '95년생', '점프력': '3', '몸무게': '4'}, {'이름': '피치독', '나이': '95년생', '점프력': '3', '몸무게': '3'}, {'이름': '씨-독', '나이': '72년생', '점프력': '2', '몸무게': '1'}, {'이름': '코볼독', '나이': '59년생', '점프력': '1', '몸무게': '1'}]\n"
     ]
    }
   ],
   "source": [
    "print(jsonDogs) #json -> list로 변환 완료"
   ]
  },
  {
   "cell_type": "code",
   "execution_count": 49,
   "metadata": {},
   "outputs": [
    {
     "name": "stdout",
     "output_type": "stream",
     "text": [
      "['루비독', '씨-독']\n"
     ]
    }
   ],
   "source": [
    "# remove O(N)\n",
    "# del O(1)\n",
    "돌의내구도 = [5,3,4,1,3,8,3]\n",
    "def 징검다리건너기(돌의내구도, 독):\n",
    "    answer = [ i['이름'] for i in 독]\n",
    "    for i in 독:\n",
    "        독의위치 = 0\n",
    "        while 독의위치 < len(돌의내구도)-1: #다리를 건넌것\n",
    "            독의위치 += int(i['점프력'])\n",
    "            돌의내구도[독의위치-1] -= int(i['몸무게'])\n",
    "            if 돌의내구도[독의위치-1]<0:\n",
    "                del answer[answer.index(i['이름'])]\n",
    "                break\n",
    "    return answer\n",
    "\n",
    "print(징검다리건너기(돌의내구도.copy(), 독.copy()))"
   ]
  },
  {
   "cell_type": "code",
   "execution_count": 59,
   "metadata": {},
   "outputs": [
    {
     "name": "stdout",
     "output_type": "stream",
     "text": [
      "['루비독', '씨-독']\n"
     ]
    }
   ],
   "source": [
    "def crossRiver(stones, dogs):\n",
    "    answer = [i['이름'] for i in dogs]\n",
    "    for dog in dogs:\n",
    "        dogIndex = 0\n",
    "        while dogIndex < len(stones)-1:\n",
    "            dogIndex += int(dog['점프력'])\n",
    "            stones[dogIndex-1] -= int(dog['몸무게'])\n",
    "            if stones[dogIndex-1] < 0:\n",
    "                del answer[answer.index(dog['이름'])]\n",
    "                break\n",
    "    return answer\n",
    "\n",
    "print(crossRiver(stone.copy(),jsonDogs.copy()))"
   ]
  },
  {
   "cell_type": "code",
   "execution_count": null,
   "metadata": {},
   "outputs": [],
   "source": []
  },
  {
   "cell_type": "code",
   "execution_count": 61,
   "metadata": {},
   "outputs": [
    {
     "name": "stdout",
     "output_type": "stream",
     "text": [
      "['루비독', '씨-독']\n"
     ]
    }
   ],
   "source": [
    "def crossRiver(stones, dogs):\n",
    "    answer = [d['이름'] for d in dogs]\n",
    "    for dog in dogs:\n",
    "        dogIndex = 0\n",
    "        while dogIndex < len(stones)-1:\n",
    "            dogIndex += int(dog['점프력'])\n",
    "            stones[dogIndex-1] -= int(dog['몸무게'])\n",
    "            if stones[dogIndex-1] < 0:\n",
    "                del answer[answer.index(dog['이름'])]\n",
    "                break\n",
    "    return answer\n",
    "\n",
    "print(crossRiver(stone.copy(),jsonDogs.copy()))"
   ]
  },
  {
   "cell_type": "code",
   "execution_count": null,
   "metadata": {},
   "outputs": [],
   "source": []
  }
 ],
 "metadata": {
  "kernelspec": {
   "display_name": "Python 3.7.6 64-bit ('base': conda)",
   "language": "python",
   "name": "python37664bitbaseconda8391ded08ec54e87b7dceb008b4b8c9b"
  },
  "language_info": {
   "codemirror_mode": {
    "name": "ipython",
    "version": 3
   },
   "file_extension": ".py",
   "mimetype": "text/x-python",
   "name": "python",
   "nbconvert_exporter": "python",
   "pygments_lexer": "ipython3",
   "version": "3.7.6"
  }
 },
 "nbformat": 4,
 "nbformat_minor": 4
}
