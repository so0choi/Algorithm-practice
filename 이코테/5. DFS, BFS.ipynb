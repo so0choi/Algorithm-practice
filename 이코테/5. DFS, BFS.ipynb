{
 "cells": [
  {
   "cell_type": "markdown",
   "metadata": {},
   "source": [
    "## DFS 재귀 구현"
   ]
  },
  {
   "cell_type": "code",
   "execution_count": 1,
   "metadata": {},
   "outputs": [],
   "source": [
    "graph = [ # 인접 리스트 형식으로 표시\n",
    "    [],\n",
    "    [2,3,8],\n",
    "    [1,7],\n",
    "    [1,4,5],\n",
    "    [3,5],\n",
    "    [3,4],\n",
    "    [7],\n",
    "    [2,6,8],\n",
    "    [1,7]\n",
    "]"
   ]
  },
  {
   "cell_type": "code",
   "execution_count": 5,
   "metadata": {},
   "outputs": [
    {
     "name": "stdout",
     "output_type": "stream",
     "text": [
      "1 2 7 6 8 3 4 5 "
     ]
    }
   ],
   "source": [
    "def dfs(graph, v, visited):\n",
    "    visited[v] = True\n",
    "    print(v, end=' ')\n",
    "    for i in graph[v]:\n",
    "        if not visited[i]:\n",
    "            dfs(graph, i, visited)\n",
    "dfs(graph, 1, [0]*len(graph))"
   ]
  },
  {
   "cell_type": "markdown",
   "metadata": {},
   "source": [
    "## BFS 구현"
   ]
  },
  {
   "cell_type": "code",
   "execution_count": 7,
   "metadata": {},
   "outputs": [
    {
     "name": "stdout",
     "output_type": "stream",
     "text": [
      "1 2 3 8 7 4 5 6 "
     ]
    }
   ],
   "source": [
    "from collections import deque\n",
    "def bfs(graph,v):\n",
    "    queue = deque([v])\n",
    "    visited = [0]*len(graph)\n",
    "    visited[v] = True\n",
    "    while queue:\n",
    "        cur = queue.popleft()\n",
    "        print(cur,end=' ')\n",
    "        for i in graph[cur]:\n",
    "            if not visited[i]:\n",
    "                visited[i] = True\n",
    "                queue.append(i)\n",
    "bfs(graph,1)"
   ]
  },
  {
   "cell_type": "markdown",
   "metadata": {},
   "source": [
    "보통 DFS보다 BFS가 빠르다는 것 기억하고있자"
   ]
  },
  {
   "cell_type": "markdown",
   "metadata": {},
   "source": [
    "## 5-1. 음료수 얼려먹기"
   ]
  },
  {
   "cell_type": "code",
   "execution_count": 20,
   "metadata": {},
   "outputs": [
    {
     "name": "stdout",
     "output_type": "stream",
     "text": [
      "\n"
     ]
    },
    {
     "ename": "ValueError",
     "evalue": "not enough values to unpack (expected 2, got 0)",
     "output_type": "error",
     "traceback": [
      "\u001b[1;31m------------------------------------------------------------\u001b[0m",
      "\u001b[1;31mValueError\u001b[0m                 Traceback (most recent call last)",
      "\u001b[1;32m<ipython-input-20-de4dd7627299>\u001b[0m in \u001b[0;36m<module>\u001b[1;34m\u001b[0m\n\u001b[1;32m----> 1\u001b[1;33m \u001b[0mn\u001b[0m\u001b[1;33m,\u001b[0m\u001b[0mm\u001b[0m \u001b[1;33m=\u001b[0m \u001b[0mmap\u001b[0m\u001b[1;33m(\u001b[0m\u001b[0mint\u001b[0m\u001b[1;33m,\u001b[0m\u001b[0minput\u001b[0m\u001b[1;33m(\u001b[0m\u001b[1;33m)\u001b[0m\u001b[1;33m.\u001b[0m\u001b[0msplit\u001b[0m\u001b[1;33m(\u001b[0m\u001b[1;33m)\u001b[0m\u001b[1;33m)\u001b[0m\u001b[1;33m\u001b[0m\u001b[1;33m\u001b[0m\u001b[0m\n\u001b[0m\u001b[0;32m      2\u001b[0m \u001b[0mboard\u001b[0m \u001b[1;33m=\u001b[0m \u001b[1;33m[\u001b[0m\u001b[0mlist\u001b[0m\u001b[1;33m(\u001b[0m\u001b[0mmap\u001b[0m\u001b[1;33m(\u001b[0m\u001b[0mint\u001b[0m\u001b[1;33m,\u001b[0m\u001b[0mlist\u001b[0m\u001b[1;33m(\u001b[0m\u001b[0minput\u001b[0m\u001b[1;33m(\u001b[0m\u001b[1;33m)\u001b[0m\u001b[1;33m)\u001b[0m\u001b[1;33m)\u001b[0m\u001b[1;33m)\u001b[0m \u001b[1;32mfor\u001b[0m \u001b[0m_\u001b[0m \u001b[1;32min\u001b[0m \u001b[0mrange\u001b[0m\u001b[1;33m(\u001b[0m\u001b[0mn\u001b[0m\u001b[1;33m)\u001b[0m \u001b[1;33m]\u001b[0m\u001b[1;33m\u001b[0m\u001b[1;33m\u001b[0m\u001b[0m\n\u001b[0;32m      3\u001b[0m \u001b[0mvisited\u001b[0m \u001b[1;33m=\u001b[0m \u001b[1;33m[\u001b[0m\u001b[1;33m[\u001b[0m\u001b[1;32mFalse\u001b[0m\u001b[1;33m]\u001b[0m \u001b[1;33m*\u001b[0m\u001b[0mm\u001b[0m \u001b[1;32mfor\u001b[0m \u001b[0m_\u001b[0m \u001b[1;32min\u001b[0m \u001b[0mrange\u001b[0m\u001b[1;33m(\u001b[0m\u001b[0mn\u001b[0m\u001b[1;33m)\u001b[0m\u001b[1;33m]\u001b[0m\u001b[1;33m\u001b[0m\u001b[1;33m\u001b[0m\u001b[0m\n\u001b[0;32m      4\u001b[0m \u001b[1;33m\u001b[0m\u001b[0m\n\u001b[0;32m      5\u001b[0m \u001b[1;32mdef\u001b[0m \u001b[0mice\u001b[0m\u001b[1;33m(\u001b[0m\u001b[0mboard\u001b[0m\u001b[1;33m)\u001b[0m\u001b[1;33m:\u001b[0m\u001b[1;33m\u001b[0m\u001b[1;33m\u001b[0m\u001b[0m\n",
      "\u001b[1;31mValueError\u001b[0m: not enough values to unpack (expected 2, got 0)"
     ]
    }
   ],
   "source": [
    "n,m = map(int,input().split())\n",
    "board = [list(map(int,list(input()))) for _ in range(n) ]\n",
    "visited = [[False] *m for _ in range(n)]\n",
    "\n",
    "def bfs_ice(board):\n",
    "    ans = 0\n",
    "    dx = [-1,0,1,0]\n",
    "    dy = [0,1,0,-1]\n",
    "    for i in range(n):\n",
    "        for j in range(m):\n",
    "            if board[i][j] == 0 and visited[i][j]==False:\n",
    "                visited[i][j] = True\n",
    "                q = deque([(i,j)])\n",
    "                ans += 1\n",
    "                while q:\n",
    "                    cur = q.popleft()\n",
    "                    for d in range(4):\n",
    "                        nx, ny = cur[0]+dx[d], cur[1]+dy[d]\n",
    "                        if 0<=nx<n and 0<=ny<m and board[nx][ny]==0 and visited[nx][ny]==False:\n",
    "                            visited[nx][ny] = True\n",
    "                            q.append((nx,ny))\n",
    "\n",
    "    return ans\n",
    "\n",
    "print(ice(board))"
   ]
  },
  {
   "cell_type": "markdown",
   "metadata": {},
   "source": [
    "책의 답안 예시"
   ]
  },
  {
   "cell_type": "code",
   "execution_count": 23,
   "metadata": {},
   "outputs": [
    {
     "name": "stdout",
     "output_type": "stream",
     "text": [
      "4 5\n",
      "00110\n",
      "00011\n",
      "11111\n",
      "00000\n",
      "3\n"
     ]
    }
   ],
   "source": [
    "n,m = map(int,input().split())\n",
    "board = [list(map(int,list(input()))) for _ in range(n) ]\n",
    "#visited를 만들지 않고 확인한 칸은 1 로 바꾼다\n",
    "ans = 0\n",
    "dx = [-1,0,1,0]\n",
    "dy = [0,1,0,-1]\n",
    "def dfs_ice(x,y):\n",
    "    if not (0<=x<n and 0<=y<m):\n",
    "        return False\n",
    "    if board[x][y]==0:\n",
    "        board[x][y]=1\n",
    "        for i in range(4):\n",
    "            dfs_ice(x+dx[i],y+dy[i])\n",
    "        return True\n",
    "    return False\n",
    "      \n",
    "for i in range(n):\n",
    "    for j in range(m):\n",
    "        if dfs_ice(i,j) == True:\n",
    "            ans += 1\n",
    "print(ans)\n",
    "            "
   ]
  },
  {
   "cell_type": "markdown",
   "metadata": {},
   "source": [
    "## 5-2. 미로탈출"
   ]
  },
  {
   "cell_type": "code",
   "execution_count": 33,
   "metadata": {},
   "outputs": [
    {
     "name": "stdout",
     "output_type": "stream",
     "text": [
      "5 6\n",
      "101010\n",
      "111111\n",
      "000001\n",
      "111111\n",
      "111111\n",
      "10\n"
     ]
    }
   ],
   "source": [
    "n,m = map(int, input().split())\n",
    "board = [list(map(int,list(input()))) for _ in range(n)]\n",
    "\n",
    "def find_maze(board):\n",
    "    ans = 0\n",
    "    dx = [-1,0,1,0]\n",
    "    dy = [0,1,0,-1]\n",
    "    q = deque([(0,0)])\n",
    "    visited = [[False]*m for _ in range(n)]\n",
    "    while q:\n",
    "        cur = q.popleft()\n",
    "        for d in range(4):\n",
    "            nx, ny = cur[0]+dx[d], cur[1]+dy[d]\n",
    "            if 0<=nx<n and 0<=ny<m and board[nx][ny]==1:\n",
    "                board[nx][ny] = board[cur[0]][cur[1]]+1\n",
    "                q.append((nx,ny))\n",
    "    return board[n-1][m-1]\n",
    "\n",
    "print(find_maze(board))"
   ]
  },
  {
   "cell_type": "markdown",
   "metadata": {},
   "source": [
    "## 2178. 미로탈출"
   ]
  },
  {
   "cell_type": "code",
   "execution_count": 4,
   "metadata": {},
   "outputs": [
    {
     "name": "stdout",
     "output_type": "stream",
     "text": [
      "2 2\n",
      "11\n",
      "11\n",
      "3\n"
     ]
    }
   ],
   "source": [
    "from collections import deque\n",
    "n,m = map(int, input().split())\n",
    "board = [list(map(int,input())) for _ in range(n)]\n",
    "def solution():\n",
    "    ans = 0\n",
    "    q = deque([(0,0)])\n",
    "    visited = set([(0,0)])\n",
    "    dx = [1,0,-1,0]\n",
    "    dy = [0,1,0,-1]\n",
    "    while q:\n",
    "        cur = q.popleft()\n",
    "        x, y = cur[0],cur[1]\n",
    "        if cur == (n-1,m-1):\n",
    "            return board[x][y]\n",
    "        for d in range(4):\n",
    "            nx, ny = x + dx[d], y+dy[d]\n",
    "            if 0<=nx<n and 0<=ny<m and board[nx][ny]==1 and (nx,ny) not in visited:\n",
    "                visited.add((nx,ny))\n",
    "                board[nx][ny] = board[x][y]+1\n",
    "                q.append((nx,ny))\n",
    "print(solution())\n",
    "101010\n",
    "101011\n",
    "111011"
   ]
  },
  {
   "cell_type": "markdown",
   "metadata": {},
   "source": [
    "## 11724. 연결 요소의 개수"
   ]
  },
  {
   "cell_type": "code",
   "execution_count": 9,
   "metadata": {},
   "outputs": [
    {
     "name": "stdout",
     "output_type": "stream",
     "text": [
      "6 5\n",
      "1 2\n",
      "2 5\n",
      "5 1\n",
      "3 4\n",
      "4 6\n",
      "[[], [2, 5], [1, 5], [4], [3, 6], [2, 1], [4]]\n",
      "2\n"
     ]
    }
   ],
   "source": [
    "from collections import deque\n",
    "n,m = map(int, input().split())\n",
    "graph = [[] for i in range(n+1)]\n",
    "for _ in range(m):\n",
    "    a,b = map(int,input().split())\n",
    "    graph[a].append(b)\n",
    "    graph[b].append(a)\n",
    "print(graph)\n",
    "visited = set()\n",
    "q = deque()\n",
    "ans = 0\n",
    "for i in range(1,n+1):\n",
    "    if i not in visited:\n",
    "        ans+=1\n",
    "        q.append(i)\n",
    "        visited.add(i)\n",
    "        while q:\n",
    "            cur = q.popleft()\n",
    "            for node in graph[cur]:\n",
    "                if node not in visited:\n",
    "                    visited.add(node)\n",
    "                    q.append(node)\n",
    "print(ans)"
   ]
  },
  {
   "cell_type": "code",
   "execution_count": 12,
   "metadata": {},
   "outputs": [
    {
     "name": "stdout",
     "output_type": "stream",
     "text": [
      "6 8\n",
      "1 2\n",
      "2 5\n",
      "5 1\n",
      "3 4\n",
      "4 6\n",
      "5 4\n",
      "2 4\n",
      "3 4\n",
      "1\n"
     ]
    }
   ],
   "source": [
    "\n",
    "n,m = map(int, input().split())\n",
    "graph = [[] for i in range(n+1)]\n",
    "for _ in range(m):\n",
    "    a,b = map(int,input().split())\n",
    "    graph[a].append(b)\n",
    "    graph[b].append(a)\n",
    "def DFS(graph, v, visited):\n",
    "    if v in visited:\n",
    "        return\n",
    "    visited.add(v)\n",
    "    for node in graph[v]:\n",
    "        DFS(graph, node, visited)\n",
    "ans = 0     \n",
    "visited = set()\n",
    "for i in range(1,n+1):\n",
    "    if i not in visited:\n",
    "        ans+=1\n",
    "        DFS(graph, i, visited)\n",
    "print(ans)"
   ]
  },
  {
   "cell_type": "markdown",
   "metadata": {},
   "source": [
    "## 7562. 나이트의 이동"
   ]
  },
  {
   "cell_type": "code",
   "execution_count": 2,
   "metadata": {},
   "outputs": [
    {
     "name": "stdout",
     "output_type": "stream",
     "text": [
      "3\n",
      "8\n",
      "0 0\n",
      "7 0\n",
      "6\n",
      "100\n",
      "0 0\n",
      "30 50\n",
      "29\n",
      "10\n",
      "1 1\n",
      "1 1\n",
      "1\n"
     ]
    }
   ],
   "source": [
    "from collections import deque\n",
    "test = int(input())\n",
    "dx = [-1, -2, -2,-1,1,2,2,1]\n",
    "dy = [-2, -1, 1,2,2,1,-1,-2]\n",
    "\n",
    "for _ in range(test):\n",
    "    size = int(input())\n",
    "    board = [[0]*size for _ in range(size)]\n",
    "    start = tuple(map(int, input().split()))\n",
    "    end = tuple(map(int, input().split()))\n",
    "    board[start[0]][start[1]] += 1\n",
    "    q = deque([start])\n",
    "    visited = set([start])\n",
    "    while q:\n",
    "        cur = q.popleft()\n",
    "        if cur == end:\n",
    "            break\n",
    "        for d in range(8):\n",
    "            nx, ny = cur[0] + dx[d], cur[1]+dy[d]\n",
    "            if (0<=nx<size and 0<=ny<size and (nx,ny) and board[nx][ny]==0):\n",
    "                q.append((nx,ny))\n",
    "                board[nx][ny] = board[cur[0]][cur[1]]+1\n",
    "    \n",
    "    print(board[end[0]][end[1]]-1)"
   ]
  },
  {
   "cell_type": "markdown",
   "metadata": {},
   "source": [
    "## 18352. 특정거리의 도시 찾기"
   ]
  },
  {
   "cell_type": "code",
   "execution_count": 1,
   "metadata": {},
   "outputs": [
    {
     "name": "stdout",
     "output_type": "stream",
     "text": [
      "5 5 1 2\n",
      "1 2\n",
      "1 4\n",
      "2 3\n",
      "3 5\n",
      "4 5\n",
      "3\n"
     ]
    }
   ],
   "source": [
    "from collections import deque\n",
    "n,m,k,x = map(int,input().split())\n",
    "city = [[] for _ in range(n+1)]\n",
    "for _ in range(m):\n",
    "    a,b = map(int,input().split())\n",
    "    city[a].append(b)\n",
    "q = deque([x])\n",
    "distance = [-1]*(n+1)\n",
    "distance[x] = 0\n",
    "\n",
    "while q:\n",
    "    cur = q.popleft()\n",
    "    for c in city[cur]:\n",
    "        if distance[c]==-1:\n",
    "            q.append(c)\n",
    "            distance[c] = distance[cur]+1\n",
    "sign = True\n",
    "for i in range(1,n+1):\n",
    "    if distance[i] == k:\n",
    "        print(i)\n",
    "        sign=False\n",
    "if sign:\n",
    "    print(-1)"
   ]
  },
  {
   "cell_type": "markdown",
   "metadata": {},
   "source": [
    "## 18405. 경쟁적 전염"
   ]
  },
  {
   "cell_type": "code",
   "execution_count": 7,
   "metadata": {},
   "outputs": [
    {
     "name": "stdout",
     "output_type": "stream",
     "text": [
      "3 3\n",
      "1 0 2\n",
      "0 0 0\n",
      "3 0 0\n",
      "1 2 2\n",
      "[1, 1, 2]\n",
      "[1, 0, 2]\n",
      "[3, 3, 0]\n",
      "0\n"
     ]
    }
   ],
   "source": [
    "from collections import deque\n",
    "import sys\n",
    "n,k = map(int,input().split())\n",
    "board = []\n",
    "for i in range(n):\n",
    "    board.append(list(map(int, sys.stdin.readline().rstrip().split())))\n",
    "s,x,y = map(int,input().split())\n",
    "\n",
    "dx = [-1,0,1,0]\n",
    "dy = [0,1,0,-1]\n",
    "\n",
    "next_q = []\n",
    "for i in range(n):\n",
    "    for j in range(n):\n",
    "        if board[i][j] != 0:\n",
    "            next_q.append([board[i][j],(i,j)])\n",
    "next_q.sort(key=lambda x:x[0])\n",
    "q = deque(next_q)\n",
    "while s:\n",
    "    next_q = []\n",
    "    while q:\n",
    "        cur = q.popleft()\n",
    "        val = cur[0]\n",
    "        cur_x, cur_y = cur[1][0], cur[1][1]\n",
    "        for direction in range(4):\n",
    "            new_x, new_y = cur_x + dx[direction], cur_y + dy[direction]\n",
    "            if 0<=new_x<n and 0<=new_y <n and board[new_x][new_y]==0:\n",
    "                board[new_x][new_y] = val\n",
    "                next_q.append([val,(new_x,new_y)])\n",
    "    s-=1\n",
    "    q = deque(next_q)\n",
    "\n",
    "print(board[x-1][y-1])"
   ]
  },
  {
   "cell_type": "markdown",
   "metadata": {},
   "source": [
    "## 18428. 감시피하기"
   ]
  },
  {
   "cell_type": "code",
   "execution_count": 30,
   "metadata": {},
   "outputs": [
    {
     "name": "stdout",
     "output_type": "stream",
     "text": [
      "4\n",
      "S S S T\n",
      "X X X X\n",
      "X X X X\n",
      "T T T X\n",
      "NO\n"
     ]
    }
   ],
   "source": [
    "n = int(input())\n",
    "# board = [['X','S','X','X','T'],['T','X','S','X','X'],['X','X','X','X','X'],['X','T','X','X','X'],['X','X','T','X','X']]\n",
    "# teacher = [(0,4),(1,0),(3,1),(4,2)]\n",
    "board = []\n",
    "teacher = []\n",
    "for i in range(n):\n",
    "    board.append(input().split())\n",
    "    for j in range(n):\n",
    "        if board[i][j]=='T':\n",
    "            teacher.append((i,j))\n",
    "def check(board):\n",
    "    dx = [1,0,-1,0]\n",
    "    dy = [0,1,0,-1]\n",
    "    for t in teacher:\n",
    "        tx,ty = t\n",
    "        for d in range(4):\n",
    "            nx,ny = tx+dx[d], ty+dy[d]\n",
    "            while (0<=nx<n and 0<=ny<n):\n",
    "                if board[nx][ny] == 'S':\n",
    "                    return False\n",
    "                elif board[nx][ny] == 'O':\n",
    "                    break\n",
    "                nx,ny = nx+dx[d], ny+dy[d]\n",
    "    return True\n",
    "\n",
    "def dfs(board,n_count,last_x,last_y):\n",
    "    if n_count == 0:\n",
    "        return check(board)\n",
    "    for j in range(last_y,n):\n",
    "        if board[last_x][j] =='X':\n",
    "            board[last_x][j] = 'O'\n",
    "            if dfs(board, n_count-1, last_x, j):\n",
    "                return True\n",
    "            board[last_x][j] = 'X'\n",
    "    for i in range(last_x,n):\n",
    "        for j in range(n):\n",
    "            if board[i][j]=='X':\n",
    "                board[i][j] = 'O'\n",
    "                if dfs(board, n_count-1, i,j):\n",
    "                    return True\n",
    "                board[i][j] = 'X'\n",
    "    return False\n",
    "\n",
    "if dfs(board,3,0,0): print('YES')\n",
    "else: print('NO')"
   ]
  },
  {
   "cell_type": "markdown",
   "metadata": {},
   "source": [
    "## 연구소"
   ]
  },
  {
   "cell_type": "code",
   "execution_count": 21,
   "metadata": {},
   "outputs": [
    {
     "name": "stdout",
     "output_type": "stream",
     "text": [
      "4 6\n",
      "0 0 0 0 0 0\n",
      "1 0 0 0 0 2\n",
      "1 1 1 0 0 2\n",
      "0 0 0 0 0 2\n",
      "9\n"
     ]
    }
   ],
   "source": [
    "from collections import deque\n",
    "from itertools import combinations\n",
    "\n",
    "n, m = map(int,input().split())\n",
    "# board = [[0,0,0,0,0,0],[1,0,0,0,0,2],[1,1,1,0,0,2],[0,0,0,0,0,2]]\n",
    "# virus = [(1,5),(2,5),(3,5)]\n",
    "# n_v = 3\n",
    "no_safe = 3\n",
    "for i in range(n):\n",
    "    board.append(list(map(int, input().split())))\n",
    "    for j in range(m):\n",
    "        if board[i][j] == 2:\n",
    "            virus.append((i,j))\n",
    "            no_safe +=1\n",
    "        elif board[i][j] == 1:\n",
    "            no_safe +=1\n",
    "    \n",
    "dx = [0,1,0,-1]\n",
    "dy = [1,0,-1,0]\n",
    "\n",
    "def check(board):\n",
    "    visited = [[False]*m for _ in range(n)]\n",
    "    result = n*m - no_safe\n",
    "    for v in virus:\n",
    "        vx,vy = v[0],v[1]\n",
    "        q = deque([(vx,vy)])\n",
    "        visited[vx][vy]==1\n",
    "        while q:\n",
    "            cur = q.popleft()\n",
    "            x,y = cur[0],cur[1]\n",
    "            for d in range(4):\n",
    "                nx,ny = x+dx[d], y+dy[d]\n",
    "                if 0<=nx<n and 0<=ny<m and board[nx][ny]==0 and visited[nx][ny]==False:\n",
    "                    visited[nx][ny] = True\n",
    "                    result-=1\n",
    "                    q.append((nx,ny))\n",
    "    return result\n",
    "\n",
    "def sol(board,n_wall,last_i,last_j,ans):\n",
    "    if n_wall == 0:\n",
    "        return check(board)\n",
    "    for j in range(last_j,m):\n",
    "        if board[last_i][j]==0:\n",
    "            board[last_i][j]=1\n",
    "            new_ans= sol(board, n_wall-1, last_i, j,ans)\n",
    "            ans = max(ans, new_ans)\n",
    "            board[last_i][j] = 0\n",
    "    for i in range(last_i+1,n):\n",
    "        for j in range(m):\n",
    "            if board[i][j]==0:\n",
    "                board[i][j]=1\n",
    "                new_ans= sol(board, n_wall-1, i, j,ans)\n",
    "                ans = max(ans, new_ans)\n",
    "                board[i][j]=0\n",
    "    return ans\n",
    "\n",
    "print(sol(board,3,0,0,-1))"
   ]
  },
  {
   "cell_type": "markdown",
   "metadata": {},
   "source": [
    "## 14888. 연산자 끼워넣기"
   ]
  },
  {
   "cell_type": "code",
   "execution_count": 17,
   "metadata": {},
   "outputs": [
    {
     "name": "stdout",
     "output_type": "stream",
     "text": [
      "6\n",
      "1 2 3 4 5 6\n",
      "2 1 1 1\n",
      "54\n",
      "-24\n"
     ]
    }
   ],
   "source": [
    "# itertools - permutations 사용한 풀이\n",
    "from itertools import permutations\n",
    "n =int(input())\n",
    "num = list(map(int, input().split()))\n",
    "oper = list(map(int, input().split()))\n",
    "oper_s = '+' * oper[0] + '-' * oper[1] + '*' * oper[2] + '/' * oper[3]\n",
    "\n",
    "def cal(oper):\n",
    "    ans = num[0]\n",
    "    for i in range(1,n):\n",
    "        op = oper[i-1]\n",
    "        if op == '+':\n",
    "            ans += num[i]\n",
    "        elif op == '-':\n",
    "            ans -= num[i]\n",
    "        elif op == '*':\n",
    "            ans *= num[i]\n",
    "        else:\n",
    "            if ans < 0:\n",
    "                temp = abs(ans) // num[i]\n",
    "                ans = -temp\n",
    "            else:\n",
    "                ans //= num[i]\n",
    "    return ans\n",
    "\n",
    "ans_max = -1\n",
    "ans_min = 9876543210\n",
    "\n",
    "permu = set(permutations(oper_s))\n",
    "for p in permu:\n",
    "    \n",
    "    result = cal(p)\n",
    "    if ans_max < result: ans_max = result\n",
    "    if ans_min > result: ans_min = result\n",
    "\n",
    "print(ans_max)\n",
    "print(ans_min)"
   ]
  },
  {
   "cell_type": "markdown",
   "metadata": {},
   "source": [
    "DFS 사용"
   ]
  },
  {
   "cell_type": "code",
   "execution_count": 21,
   "metadata": {},
   "outputs": [
    {
     "name": "stdout",
     "output_type": "stream",
     "text": [
      "6\n",
      "1 2 3 4 5 6\n",
      "2 1 1 1\n",
      "54\n",
      "-24\n"
     ]
    }
   ],
   "source": [
    "n =int(input())\n",
    "num = list(map(int, input().split()))\n",
    "add, sub, mul, div = list(map(int, input().split()))\n",
    "\n",
    "min_ans = 9876543210\n",
    "max_ans = -9876543210\n",
    "\n",
    "def dfs(i, result):\n",
    "    global add, sub, mul, div, min_ans, max_ans\n",
    "    if i == n:\n",
    "        if result > max_ans: max_ans = result\n",
    "        if result < min_ans: min_ans = result\n",
    "    else:\n",
    "        if add:\n",
    "            add-=1\n",
    "            dfs(i+1, result+num[i])\n",
    "            add+=1\n",
    "        if sub:\n",
    "            sub-=1\n",
    "            dfs(i+1, result-num[i])\n",
    "            sub+=1\n",
    "        if mul:\n",
    "            mul-=1\n",
    "            dfs(i+1, result*num[i])\n",
    "            mul+=1\n",
    "        if div:\n",
    "            div-=1\n",
    "            dfs(i+1, int(result/num[i]))\n",
    "            div+=1\n",
    "dfs(1, num[0])\n",
    "print(max_ans, min_ans, sep='\\n')"
   ]
  },
  {
   "cell_type": "markdown",
   "metadata": {},
   "source": [
    "## 16234. 인구 이동"
   ]
  },
  {
   "cell_type": "code",
   "execution_count": 27,
   "metadata": {},
   "outputs": [
    {
     "name": "stdout",
     "output_type": "stream",
     "text": [
      "4 10 50\n",
      "10 100 20 90\n",
      "80 100 60 70\n",
      "70 20 30 40\n",
      "50 20 100 10\n",
      "3\n"
     ]
    }
   ],
   "source": [
    "from collections import deque\n",
    "n, l, r = map(int, input().split())\n",
    "board = [list(map(int, input().split())) for _ in range(n)]\n",
    "\n",
    "dx = [0,1,0,-1]\n",
    "dy = [1,0,-1,0]\n",
    "\n",
    "result = 0\n",
    "while True:\n",
    "    visited = [[False]*n for _ in range(n)]\n",
    "    sign = True\n",
    "    for i in range(n):\n",
    "        for j in range(n):\n",
    "            if visited[i][j] == False:\n",
    "                visited[i][j] = True\n",
    "                q = deque([(i,j)])\n",
    "                section = [(i,j)]\n",
    "                section_sum = board[i][j]\n",
    "                section_len = 1\n",
    "                while q:\n",
    "                    x,y = q.popleft()\n",
    "                    for d in range(4):\n",
    "                        nx, ny = x+dx[d], y+dy[d]\n",
    "                        if 0<=nx<n and 0<=ny<n and visited[nx][ny]==False:\n",
    "                            if l <= abs(board[x][y] - board[nx][ny]) <= r:\n",
    "                                sign = False\n",
    "                                visited[nx][ny] = True\n",
    "                                q.append((nx,ny))\n",
    "                                section.append((nx,ny))\n",
    "                                section_sum += board[nx][ny]\n",
    "                                section_len += 1\n",
    "                if not sign:\n",
    "                    ppl = section_sum // section_len\n",
    "                    for s in section:\n",
    "                        x,y = s\n",
    "                        board[x][y] = ppl\n",
    "    if sign:\n",
    "        break\n",
    "    result+=1\n",
    "print(result)\n",
    "                "
   ]
  }
 ],
 "metadata": {
  "kernelspec": {
   "display_name": "Python 3",
   "language": "python",
   "name": "python3"
  },
  "language_info": {
   "codemirror_mode": {
    "name": "ipython",
    "version": 3
   },
   "file_extension": ".py",
   "mimetype": "text/x-python",
   "name": "python",
   "nbconvert_exporter": "python",
   "pygments_lexer": "ipython3",
   "version": "3.7.6"
  }
 },
 "nbformat": 4,
 "nbformat_minor": 4
}
