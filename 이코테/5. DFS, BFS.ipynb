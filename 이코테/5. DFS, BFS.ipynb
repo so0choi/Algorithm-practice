{
 "cells": [
  {
   "cell_type": "markdown",
   "metadata": {},
   "source": [
    "## DFS 재귀 구현"
   ]
  },
  {
   "cell_type": "code",
   "execution_count": 1,
   "metadata": {},
   "outputs": [],
   "source": [
    "graph = [ # 인접 리스트 형식으로 표시\n",
    "    [],\n",
    "    [2,3,8],\n",
    "    [1,7],\n",
    "    [1,4,5],\n",
    "    [3,5],\n",
    "    [3,4],\n",
    "    [7],\n",
    "    [2,6,8],\n",
    "    [1,7]\n",
    "]"
   ]
  },
  {
   "cell_type": "code",
   "execution_count": 5,
   "metadata": {},
   "outputs": [
    {
     "name": "stdout",
     "output_type": "stream",
     "text": [
      "1 2 7 6 8 3 4 5 "
     ]
    }
   ],
   "source": [
    "def dfs(graph, v, visited):\n",
    "    visited[v] = True\n",
    "    print(v, end=' ')\n",
    "    for i in graph[v]:\n",
    "        if not visited[i]:\n",
    "            dfs(graph, i, visited)\n",
    "dfs(graph, 1, [0]*len(graph))"
   ]
  },
  {
   "cell_type": "markdown",
   "metadata": {},
   "source": [
    "## BFS 구현"
   ]
  },
  {
   "cell_type": "code",
   "execution_count": 7,
   "metadata": {},
   "outputs": [
    {
     "name": "stdout",
     "output_type": "stream",
     "text": [
      "1 2 3 8 7 4 5 6 "
     ]
    }
   ],
   "source": [
    "from collections import deque\n",
    "def bfs(graph,v):\n",
    "    queue = deque([v])\n",
    "    visited = [0]*len(graph)\n",
    "    visited[v] = True\n",
    "    while queue:\n",
    "        cur = queue.popleft()\n",
    "        print(cur,end=' ')\n",
    "        for i in graph[cur]:\n",
    "            if not visited[i]:\n",
    "                visited[i] = True\n",
    "                queue.append(i)\n",
    "bfs(graph,1)"
   ]
  },
  {
   "cell_type": "markdown",
   "metadata": {},
   "source": [
    "보통 DFS보다 BFS가 빠르다는 것 기억하고있자"
   ]
  },
  {
   "cell_type": "markdown",
   "metadata": {},
   "source": [
    "## 5-1. 음료수 얼려먹기"
   ]
  },
  {
   "cell_type": "code",
   "execution_count": 20,
   "metadata": {},
   "outputs": [
    {
     "name": "stdout",
     "output_type": "stream",
     "text": [
      "\n"
     ]
    },
    {
     "ename": "ValueError",
     "evalue": "not enough values to unpack (expected 2, got 0)",
     "output_type": "error",
     "traceback": [
      "\u001b[1;31m------------------------------------------------------------\u001b[0m",
      "\u001b[1;31mValueError\u001b[0m                 Traceback (most recent call last)",
      "\u001b[1;32m<ipython-input-20-de4dd7627299>\u001b[0m in \u001b[0;36m<module>\u001b[1;34m\u001b[0m\n\u001b[1;32m----> 1\u001b[1;33m \u001b[0mn\u001b[0m\u001b[1;33m,\u001b[0m\u001b[0mm\u001b[0m \u001b[1;33m=\u001b[0m \u001b[0mmap\u001b[0m\u001b[1;33m(\u001b[0m\u001b[0mint\u001b[0m\u001b[1;33m,\u001b[0m\u001b[0minput\u001b[0m\u001b[1;33m(\u001b[0m\u001b[1;33m)\u001b[0m\u001b[1;33m.\u001b[0m\u001b[0msplit\u001b[0m\u001b[1;33m(\u001b[0m\u001b[1;33m)\u001b[0m\u001b[1;33m)\u001b[0m\u001b[1;33m\u001b[0m\u001b[1;33m\u001b[0m\u001b[0m\n\u001b[0m\u001b[0;32m      2\u001b[0m \u001b[0mboard\u001b[0m \u001b[1;33m=\u001b[0m \u001b[1;33m[\u001b[0m\u001b[0mlist\u001b[0m\u001b[1;33m(\u001b[0m\u001b[0mmap\u001b[0m\u001b[1;33m(\u001b[0m\u001b[0mint\u001b[0m\u001b[1;33m,\u001b[0m\u001b[0mlist\u001b[0m\u001b[1;33m(\u001b[0m\u001b[0minput\u001b[0m\u001b[1;33m(\u001b[0m\u001b[1;33m)\u001b[0m\u001b[1;33m)\u001b[0m\u001b[1;33m)\u001b[0m\u001b[1;33m)\u001b[0m \u001b[1;32mfor\u001b[0m \u001b[0m_\u001b[0m \u001b[1;32min\u001b[0m \u001b[0mrange\u001b[0m\u001b[1;33m(\u001b[0m\u001b[0mn\u001b[0m\u001b[1;33m)\u001b[0m \u001b[1;33m]\u001b[0m\u001b[1;33m\u001b[0m\u001b[1;33m\u001b[0m\u001b[0m\n\u001b[0;32m      3\u001b[0m \u001b[0mvisited\u001b[0m \u001b[1;33m=\u001b[0m \u001b[1;33m[\u001b[0m\u001b[1;33m[\u001b[0m\u001b[1;32mFalse\u001b[0m\u001b[1;33m]\u001b[0m \u001b[1;33m*\u001b[0m\u001b[0mm\u001b[0m \u001b[1;32mfor\u001b[0m \u001b[0m_\u001b[0m \u001b[1;32min\u001b[0m \u001b[0mrange\u001b[0m\u001b[1;33m(\u001b[0m\u001b[0mn\u001b[0m\u001b[1;33m)\u001b[0m\u001b[1;33m]\u001b[0m\u001b[1;33m\u001b[0m\u001b[1;33m\u001b[0m\u001b[0m\n\u001b[0;32m      4\u001b[0m \u001b[1;33m\u001b[0m\u001b[0m\n\u001b[0;32m      5\u001b[0m \u001b[1;32mdef\u001b[0m \u001b[0mice\u001b[0m\u001b[1;33m(\u001b[0m\u001b[0mboard\u001b[0m\u001b[1;33m)\u001b[0m\u001b[1;33m:\u001b[0m\u001b[1;33m\u001b[0m\u001b[1;33m\u001b[0m\u001b[0m\n",
      "\u001b[1;31mValueError\u001b[0m: not enough values to unpack (expected 2, got 0)"
     ]
    }
   ],
   "source": [
    "n,m = map(int,input().split())\n",
    "board = [list(map(int,list(input()))) for _ in range(n) ]\n",
    "visited = [[False] *m for _ in range(n)]\n",
    "\n",
    "def bfs_ice(board):\n",
    "    ans = 0\n",
    "    dx = [-1,0,1,0]\n",
    "    dy = [0,1,0,-1]\n",
    "    for i in range(n):\n",
    "        for j in range(m):\n",
    "            if board[i][j] == 0 and visited[i][j]==False:\n",
    "                visited[i][j] = True\n",
    "                q = deque([(i,j)])\n",
    "                ans += 1\n",
    "                while q:\n",
    "                    cur = q.popleft()\n",
    "                    for d in range(4):\n",
    "                        nx, ny = cur[0]+dx[d], cur[1]+dy[d]\n",
    "                        if 0<=nx<n and 0<=ny<m and board[nx][ny]==0 and visited[nx][ny]==False:\n",
    "                            visited[nx][ny] = True\n",
    "                            q.append((nx,ny))\n",
    "\n",
    "    return ans\n",
    "\n",
    "print(ice(board))"
   ]
  },
  {
   "cell_type": "markdown",
   "metadata": {},
   "source": [
    "책의 답안 예시"
   ]
  },
  {
   "cell_type": "code",
   "execution_count": 23,
   "metadata": {},
   "outputs": [
    {
     "name": "stdout",
     "output_type": "stream",
     "text": [
      "4 5\n",
      "00110\n",
      "00011\n",
      "11111\n",
      "00000\n",
      "3\n"
     ]
    }
   ],
   "source": [
    "n,m = map(int,input().split())\n",
    "board = [list(map(int,list(input()))) for _ in range(n) ]\n",
    "#visited를 만들지 않고 확인한 칸은 1 로 바꾼다\n",
    "ans = 0\n",
    "dx = [-1,0,1,0]\n",
    "dy = [0,1,0,-1]\n",
    "def dfs_ice(x,y):\n",
    "    if not (0<=x<n and 0<=y<m):\n",
    "        return False\n",
    "    if board[x][y]==0:\n",
    "        board[x][y]=1\n",
    "        for i in range(4):\n",
    "            dfs_ice(x+dx[i],y+dy[i])\n",
    "        return True\n",
    "    return False\n",
    "      \n",
    "for i in range(n):\n",
    "    for j in range(m):\n",
    "        if dfs_ice(i,j) == True:\n",
    "            ans += 1\n",
    "print(ans)\n",
    "            "
   ]
  },
  {
   "cell_type": "markdown",
   "metadata": {},
   "source": [
    "## 5-2. 미로탈출"
   ]
  },
  {
   "cell_type": "code",
   "execution_count": 33,
   "metadata": {},
   "outputs": [
    {
     "name": "stdout",
     "output_type": "stream",
     "text": [
      "5 6\n",
      "101010\n",
      "111111\n",
      "000001\n",
      "111111\n",
      "111111\n",
      "10\n"
     ]
    }
   ],
   "source": [
    "n,m = map(int, input().split())\n",
    "board = [list(map(int,list(input()))) for _ in range(n)]\n",
    "\n",
    "def find_maze(board):\n",
    "    ans = 0\n",
    "    dx = [-1,0,1,0]\n",
    "    dy = [0,1,0,-1]\n",
    "    q = deque([(0,0)])\n",
    "    visited = [[False]*m for _ in range(n)]\n",
    "    while q:\n",
    "        cur = q.popleft()\n",
    "        for d in range(4):\n",
    "            nx, ny = cur[0]+dx[d], cur[1]+dy[d]\n",
    "            if 0<=nx<n and 0<=ny<m and board[nx][ny]==1:\n",
    "                board[nx][ny] = board[cur[0]][cur[1]]+1\n",
    "                q.append((nx,ny))\n",
    "    return board[n-1][m-1]\n",
    "\n",
    "print(find_maze(board))"
   ]
  },
  {
   "cell_type": "markdown",
   "metadata": {},
   "source": [
    "## 11724. 연결 요소의 개수"
   ]
  },
  {
   "cell_type": "code",
   "execution_count": 9,
   "metadata": {},
   "outputs": [
    {
     "name": "stdout",
     "output_type": "stream",
     "text": [
      "6 5\n",
      "1 2\n",
      "2 5\n",
      "5 1\n",
      "3 4\n",
      "4 6\n",
      "[[], [2, 5], [1, 5], [4], [3, 6], [2, 1], [4]]\n",
      "2\n"
     ]
    }
   ],
   "source": [
    "from collections import deque\n",
    "n,m = map(int, input().split())\n",
    "graph = [[] for i in range(n+1)]\n",
    "for _ in range(m):\n",
    "    a,b = map(int,input().split())\n",
    "    graph[a].append(b)\n",
    "    graph[b].append(a)\n",
    "print(graph)\n",
    "visited = set()\n",
    "q = deque()\n",
    "ans = 0\n",
    "for i in range(1,n+1):\n",
    "    if i not in visited:\n",
    "        ans+=1\n",
    "        q.append(i)\n",
    "        visited.add(i)\n",
    "        while q:\n",
    "            cur = q.popleft()\n",
    "            for node in graph[cur]:\n",
    "                if node not in visited:\n",
    "                    visited.add(node)\n",
    "                    q.append(node)\n",
    "print(ans)"
   ]
  },
  {
   "cell_type": "code",
   "execution_count": 12,
   "metadata": {},
   "outputs": [
    {
     "name": "stdout",
     "output_type": "stream",
     "text": [
      "6 8\n",
      "1 2\n",
      "2 5\n",
      "5 1\n",
      "3 4\n",
      "4 6\n",
      "5 4\n",
      "2 4\n",
      "3 4\n",
      "1\n"
     ]
    }
   ],
   "source": [
    "\n",
    "n,m = map(int, input().split())\n",
    "graph = [[] for i in range(n+1)]\n",
    "for _ in range(m):\n",
    "    a,b = map(int,input().split())\n",
    "    graph[a].append(b)\n",
    "    graph[b].append(a)\n",
    "def DFS(graph, v, visited):\n",
    "    if v in visited:\n",
    "        return\n",
    "    visited.add(v)\n",
    "    for node in graph[v]:\n",
    "        DFS(graph, node, visited)\n",
    "ans = 0     \n",
    "visited = set()\n",
    "for i in range(1,n+1):\n",
    "    if i not in visited:\n",
    "        ans+=1\n",
    "        DFS(graph, i, visited)\n",
    "print(ans)"
   ]
  },
  {
   "cell_type": "markdown",
   "metadata": {},
   "source": [
    "## 7562. 나이트의 이동"
   ]
  },
  {
   "cell_type": "code",
   "execution_count": 2,
   "metadata": {},
   "outputs": [
    {
     "name": "stdout",
     "output_type": "stream",
     "text": [
      "3\n",
      "8\n",
      "0 0\n",
      "7 0\n",
      "6\n",
      "100\n",
      "0 0\n",
      "30 50\n",
      "29\n",
      "10\n",
      "1 1\n",
      "1 1\n",
      "1\n"
     ]
    }
   ],
   "source": [
    "from collections import deque\n",
    "test = int(input())\n",
    "dx = [-1, -2, -2,-1,1,2,2,1]\n",
    "dy = [-2, -1, 1,2,2,1,-1,-2]\n",
    "\n",
    "for _ in range(test):\n",
    "    size = int(input())\n",
    "    board = [[0]*size for _ in range(size)]\n",
    "    start = tuple(map(int, input().split()))\n",
    "    end = tuple(map(int, input().split()))\n",
    "    board[start[0]][start[1]] += 1\n",
    "    q = deque([start])\n",
    "    visited = set([start])\n",
    "    while q:\n",
    "        cur = q.popleft()\n",
    "        if cur == end:\n",
    "            break\n",
    "        for d in range(8):\n",
    "            nx, ny = cur[0] + dx[d], cur[1]+dy[d]\n",
    "            if (0<=nx<size and 0<=ny<size and (nx,ny) and board[nx][ny]==0):\n",
    "                q.append((nx,ny))\n",
    "                board[nx][ny] = board[cur[0]][cur[1]]+1\n",
    "    \n",
    "    print(board[end[0]][end[1]]-1)"
   ]
  }
 ],
 "metadata": {
  "kernelspec": {
   "display_name": "Python 3",
   "language": "python",
   "name": "python3"
  }
 },
 "nbformat": 4,
 "nbformat_minor": 4
}
