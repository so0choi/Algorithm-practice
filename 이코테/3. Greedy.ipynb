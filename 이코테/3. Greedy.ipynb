{
 "cells": [
  {
   "cell_type": "markdown",
   "metadata": {},
   "source": [
    "## 3-1. 큰 수의 법칙"
   ]
  },
  {
   "cell_type": "markdown",
   "metadata": {},
   "source": [
    "내가 푼 답"
   ]
  },
  {
   "cell_type": "code",
   "execution_count": 3,
   "metadata": {},
   "outputs": [
    {
     "name": "stdout",
     "output_type": "stream",
     "text": [
      "5 16 4\n",
      "1 2 3 4 5\n",
      "80\n"
     ]
    }
   ],
   "source": [
    "n,m,k = map(int, input().split())\n",
    "num = list(map(int, input().split()))\n",
    "ans  = 0\n",
    "max_idx = num.index(max(num))\n",
    "ans += m//k*k*num[max_idx]\n",
    "num[max_idx] = -1\n",
    "second_max_idx = num.index(max(num))\n",
    "ans+= m%k*num[second_max_idx]\n",
    "print(ans)\n"
   ]
  },
  {
   "cell_type": "markdown",
   "metadata": {},
   "source": [
    "아무래도 틀린 것 같음\n",
    "- 정답 아이디어<br>\n",
    "max 함수를 두 번 사용하는 것 보다 리스트를 정렬 시키고 가장 큰 두 개 숫자만 고르기<br>\n",
    "길이 k+1의 수열이 반복되고 있다."
   ]
  },
  {
   "cell_type": "code",
   "execution_count": 4,
   "metadata": {},
   "outputs": [
    {
     "name": "stdout",
     "output_type": "stream",
     "text": [
      "5 8 3\n",
      "2 4 5 4 6\n",
      "46\n"
     ]
    }
   ],
   "source": [
    "n,m,k = map(int, input().split())\n",
    "ans = 0\n",
    "num = list(map(int, input().split()))\n",
    "num.sort()\n",
    "max1, max2 = num[-1], num[-2]\n",
    "count1 = k * (m // (k+1)) + m%(k+1)\n",
    "count2 = m - count1\n",
    "ans = max1*count1 + max2*count2\n",
    "print(ans)"
   ]
  },
  {
   "cell_type": "markdown",
   "metadata": {},
   "source": [
    "## 3-2. 숫자 카드 게임"
   ]
  },
  {
   "cell_type": "code",
   "execution_count": 6,
   "metadata": {},
   "outputs": [
    {
     "name": "stdout",
     "output_type": "stream",
     "text": [
      "2 4\n",
      "7 3 1 8\n",
      "3 3 3 4\n",
      "3\n"
     ]
    }
   ],
   "source": [
    "n,m = map(int, input().split())\n",
    "cards = [list(map(int, input().split())) for _ in range(n)]\n",
    "ans = -1\n",
    "for i in range(n):\n",
    "    ans = max(ans, min(cards[i]))\n",
    "print(ans)"
   ]
  },
  {
   "cell_type": "markdown",
   "metadata": {},
   "source": [
    "## 3-3. 1이 될 때까지"
   ]
  },
  {
   "cell_type": "code",
   "execution_count": 15,
   "metadata": {},
   "outputs": [
    {
     "name": "stdout",
     "output_type": "stream",
     "text": [
      "3 4\n",
      "2\n"
     ]
    }
   ],
   "source": [
    "n,k = map(int, input().split())\n",
    "ans = 0\n",
    "while n!=1:\n",
    "    ans+=1\n",
    "    if n%k == 0:\n",
    "        n/=k\n",
    "    else:\n",
    "        n-=1\n",
    "print(ans)"
   ]
  },
  {
   "cell_type": "markdown",
   "metadata": {},
   "source": [
    "시간초과 날 것"
   ]
  },
  {
   "cell_type": "code",
   "execution_count": 23,
   "metadata": {},
   "outputs": [
    {
     "name": "stdout",
     "output_type": "stream",
     "text": [
      "25 3\n",
      "6\n"
     ]
    }
   ],
   "source": [
    "n,k = map(int, input().split())\n",
    "ans = n%k\n",
    "n -= ans\n",
    "while True:\n",
    "    temp = n//k * k #k의 배수가 되도록 한번에 빼준다 \n",
    "    ans+= n-temp #그만큼 횟수 더한거\n",
    "    n = temp\n",
    "    if n < k:\n",
    "        break\n",
    "    n//=k\n",
    "    ans+=1\n",
    "\n",
    "print(ans+(n-1))"
   ]
  },
  {
   "cell_type": "markdown",
   "metadata": {},
   "source": [
    "## 2217. 로프"
   ]
  },
  {
   "cell_type": "code",
   "execution_count": 7,
   "metadata": {},
   "outputs": [
    {
     "name": "stdout",
     "output_type": "stream",
     "text": [
      "2\n",
      "10\n",
      "15\n",
      "20\n"
     ]
    }
   ],
   "source": [
    "n = int(input())\n",
    "ropes = [ int(input()) for _ in range(n)]\n",
    "ans = 0\n",
    "set_rope = set(ropes)\n",
    "for idx in set_rope:\n",
    "    temp = 0\n",
    "    for rope in ropes:\n",
    "        if rope>=idx:\n",
    "            temp+=1\n",
    "    ans = max(ans, temp*idx)\n",
    "print(ans)"
   ]
  },
  {
   "cell_type": "markdown",
   "metadata": {},
   "source": [
    "## 10610. 30"
   ]
  },
  {
   "cell_type": "code",
   "execution_count": 33,
   "metadata": {},
   "outputs": [
    {
     "name": "stdout",
     "output_type": "stream",
     "text": [
      "3\n",
      "-1\n"
     ]
    }
   ],
   "source": [
    "n = list(input())\n",
    "if '0' in n and sum(list(map(int,n)))%3==0:\n",
    "    n.sort(reverse=True)\n",
    "    print(''.join(n))\n",
    "else:\n",
    "    print(-1)"
   ]
  },
  {
   "cell_type": "markdown",
   "metadata": {},
   "source": [
    "## 모험가 길드"
   ]
  },
  {
   "cell_type": "code",
   "execution_count": 8,
   "metadata": {},
   "outputs": [
    {
     "name": "stdout",
     "output_type": "stream",
     "text": [
      "5\n",
      "2 3 1 2 2\n",
      "2\n"
     ]
    }
   ],
   "source": [
    "n = int(input())\n",
    "members = list(map(int,input().split()))\n",
    "members.sort()\n",
    "group = 0\n",
    "ans = 0\n",
    "for m in members:\n",
    "    group += 1\n",
    "    if group >= m:\n",
    "        ans+=1\n",
    "        group = 0\n",
    "print(ans)"
   ]
  },
  {
   "cell_type": "markdown",
   "metadata": {},
   "source": [
    "## 곱하기 혹은 더하기"
   ]
  },
  {
   "cell_type": "code",
   "execution_count": 17,
   "metadata": {},
   "outputs": [
    {
     "name": "stdout",
     "output_type": "stream",
     "text": [
      "567\n",
      "210\n"
     ]
    }
   ],
   "source": [
    "s = list(map(int,input()))\n",
    "ans = s[0]\n",
    "for i in range(1,len(s)):\n",
    "    if s[i]<=1 or ans<=1:\n",
    "        ans += s[i]\n",
    "    else:\n",
    "        ans*=s[i]\n",
    "print(ans)"
   ]
  },
  {
   "cell_type": "markdown",
   "metadata": {},
   "source": [
    "## 문자열 뒤집기"
   ]
  },
  {
   "cell_type": "code",
   "execution_count": 4,
   "metadata": {},
   "outputs": [
    {
     "name": "stdout",
     "output_type": "stream",
     "text": [
      "1100011\n",
      "1\n"
     ]
    }
   ],
   "source": [
    "s= input()\n",
    "ans = [0,0]\n",
    "for i in ['0','1']:\n",
    "    idx = 0\n",
    "    while idx < len(s):\n",
    "        if s[idx] != i:\n",
    "            temp = s[idx]\n",
    "            ans[int(i)]+=1\n",
    "            while idx<len(s) and s[idx] == temp:\n",
    "                idx+=1\n",
    "        idx+=1\n",
    "print(min(ans))"
   ]
  },
  {
   "cell_type": "markdown",
   "metadata": {},
   "source": [
    "문제는 해결했지만 반복문을 2번 돌기 때문에 한 번 돌면서도 해결할 수 있는 코드가 더 시간이 절약되는 좋은 코드"
   ]
  },
  {
   "cell_type": "code",
   "execution_count": 12,
   "metadata": {},
   "outputs": [
    {
     "name": "stdout",
     "output_type": "stream",
     "text": [
      "101010101\n",
      "4\n"
     ]
    }
   ],
   "source": [
    "s = input()\n",
    "ans0, ans1= 0,0\n",
    "if s[0] == '1':\n",
    "    ans1 += 1\n",
    "else:\n",
    "    ans0 += 1\n",
    "for i in range(len(s)-1):\n",
    "    if s[i] != s[i+1]:\n",
    "        if s[i+1] == '0':\n",
    "            ans0+=1\n",
    "        else:\n",
    "            ans1+=1\n",
    "print(min(ans0,ans1))"
   ]
  },
  {
   "cell_type": "markdown",
   "metadata": {},
   "source": [
    "반복이 두번밖에 안되어 그런지 의외로 시간 차이는 나지 않았다"
   ]
  },
  {
   "cell_type": "markdown",
   "metadata": {},
   "source": [
    "## 만들 수 없는 금액"
   ]
  },
  {
   "cell_type": "code",
   "execution_count": 18,
   "metadata": {},
   "outputs": [
    {
     "name": "stdout",
     "output_type": "stream",
     "text": [
      "5\n",
      "3 2 1 1 9\n",
      "8\n"
     ]
    }
   ],
   "source": [
    "from itertools import permutations\n",
    "n = int(input())\n",
    "coin = list(map(int, input().split()))\n",
    "coin.sort()\n",
    "target = 1\n",
    "for c in coin:\n",
    "    if c <= target:\n",
    "        target+=c\n",
    "    else:\n",
    "        break\n",
    "print(target)"
   ]
  },
  {
   "cell_type": "markdown",
   "metadata": {},
   "source": [
    "## 볼링공 고르기 - 2019 sw 마에스트로 입학 테스트"
   ]
  },
  {
   "cell_type": "code",
   "execution_count": 20,
   "metadata": {},
   "outputs": [
    {
     "name": "stdout",
     "output_type": "stream",
     "text": [
      "8 5\n",
      "1 5 4 3 2 4 5 2\n",
      "25\n"
     ]
    }
   ],
   "source": [
    "n,m = map(int,input().split())\n",
    "weight = [0]*(m+1)\n",
    "weights = list(map(int, input().split()))\n",
    "for w in weights:\n",
    "    weight[w]+=1\n",
    "ans = 0\n",
    "for i in range(m):\n",
    "    for j in range(i+1,m+1):\n",
    "        ans += weight[i]*weight[j]\n",
    "print(ans)"
   ]
  },
  {
   "cell_type": "code",
   "execution_count": 21,
   "metadata": {},
   "outputs": [
    {
     "name": "stdout",
     "output_type": "stream",
     "text": [
      "8 5\n",
      "1 5 4 3 2 4 5 2\n",
      "25\n"
     ]
    }
   ],
   "source": [
    "n,m = map(int,input().split())\n",
    "weight = [0]*(m+1)\n",
    "weights = list(map(int, input().split()))\n",
    "for w in weights:\n",
    "    weight[w]+=1\n",
    "ans = 0\n",
    "for i in range(1, m+1):\n",
    "    n -= weight[i]\n",
    "    ans += weight[i]*n\n",
    "print(ans)"
   ]
  },
  {
   "cell_type": "markdown",
   "metadata": {},
   "source": [
    "위에서 두번에 걸쳐서 했던 작업을 한 번에 수행하고 있다. 최대 무게가 늘어나면 위 코드는 더 오래 걸릴것으로 판단된다."
   ]
  },
  {
   "cell_type": "markdown",
   "metadata": {},
   "source": [
    "## 무지의 먹방 라이브"
   ]
  },
  {
   "cell_type": "code",
   "execution_count": null,
   "metadata": {},
   "outputs": [],
   "source": [
    "def solution(food_times, k):\n",
    "    n = len(food_times)\n",
    "    if k<=n:\n",
    "        return (k+1)%n\n",
    "    if sum(food_times)<k:\n",
    "        return -1\n",
    "    count = 1\n",
    "    zero = set()\n",
    "    while k >= n:\n",
    "        k-=n\n",
    "        for i in range(len(food_times)):\n",
    "            if i not in zero:\n",
    "                if food_times[i] - count == 0:\n",
    "                    zero.add(i)\n",
    "                    n -= 1\n",
    "        count += 1\n",
    "    return sorted(list(set([i for i in range(len(food_times))]) - zero))[k]+1"
   ]
  },
  {
   "cell_type": "markdown",
   "metadata": {},
   "source": [
    "시간 초과 해결 불가.. heqp을 이용해서 풀어야 한다"
   ]
  },
  {
   "cell_type": "code",
   "execution_count": null,
   "metadata": {},
   "outputs": [],
   "source": []
  }
 ],
 "metadata": {
  "kernelspec": {
   "display_name": "Python 3",
   "language": "python",
   "name": "python3"
  },
  "language_info": {
   "codemirror_mode": {
    "name": "ipython",
    "version": 3
   },
   "file_extension": ".py",
   "mimetype": "text/x-python",
   "name": "python",
   "nbconvert_exporter": "python",
   "pygments_lexer": "ipython3",
   "version": "3.7.6"
  }
 },
 "nbformat": 4,
 "nbformat_minor": 4
}
