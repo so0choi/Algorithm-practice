{
 "cells": [
  {
   "cell_type": "markdown",
   "metadata": {},
   "source": [
    "## 3-1. 큰 수의 법칙"
   ]
  },
  {
   "cell_type": "markdown",
   "metadata": {},
   "source": [
    "내가 푼 답"
   ]
  },
  {
   "cell_type": "code",
   "execution_count": 3,
   "metadata": {},
   "outputs": [
    {
     "name": "stdout",
     "output_type": "stream",
     "text": [
      "5 16 4\n",
      "1 2 3 4 5\n",
      "80\n"
     ]
    }
   ],
   "source": [
    "n,m,k = map(int, input().split())\n",
    "num = list(map(int, input().split()))\n",
    "ans  = 0\n",
    "max_idx = num.index(max(num))\n",
    "ans += m//k*k*num[max_idx]\n",
    "num[max_idx] = -1\n",
    "second_max_idx = num.index(max(num))\n",
    "ans+= m%k*num[second_max_idx]\n",
    "print(ans)\n"
   ]
  },
  {
   "cell_type": "markdown",
   "metadata": {},
   "source": [
    "아무래도 틀린 것 같음\n",
    "- 정답 아이디어<br>\n",
    "max 함수를 두 번 사용하는 것 보다 리스트를 정렬 시키고 가장 큰 두 개 숫자만 고르기<br>\n",
    "길이 k+1의 수열이 반복되고 있다."
   ]
  },
  {
   "cell_type": "code",
   "execution_count": 4,
   "metadata": {},
   "outputs": [
    {
     "name": "stdout",
     "output_type": "stream",
     "text": [
      "5 8 3\n",
      "2 4 5 4 6\n",
      "46\n"
     ]
    }
   ],
   "source": [
    "n,m,k = map(int, input().split())\n",
    "ans = 0\n",
    "num = list(map(int, input().split()))\n",
    "num.sort()\n",
    "max1, max2 = num[-1], num[-2]\n",
    "count1 = k * (m // (k+1)) + m%(k+1)\n",
    "count2 = m - count1\n",
    "ans = max1*count1 + max2*count2\n",
    "print(ans)"
   ]
  },
  {
   "cell_type": "markdown",
   "metadata": {},
   "source": [
    "## 3-2. 숫자 카드 게임"
   ]
  },
  {
   "cell_type": "code",
   "execution_count": 6,
   "metadata": {},
   "outputs": [
    {
     "name": "stdout",
     "output_type": "stream",
     "text": [
      "2 4\n",
      "7 3 1 8\n",
      "3 3 3 4\n",
      "3\n"
     ]
    }
   ],
   "source": [
    "n,m = map(int, input().split())\n",
    "cards = [list(map(int, input().split())) for _ in range(n)]\n",
    "ans = -1\n",
    "for i in range(n):\n",
    "    ans = max(ans, min(cards[i]))\n",
    "print(ans)"
   ]
  },
  {
   "cell_type": "markdown",
   "metadata": {},
   "source": [
    "## 3-3. 1이 될 때까지"
   ]
  },
  {
   "cell_type": "code",
   "execution_count": 15,
   "metadata": {},
   "outputs": [
    {
     "name": "stdout",
     "output_type": "stream",
     "text": [
      "3 4\n",
      "2\n"
     ]
    }
   ],
   "source": [
    "n,k = map(int, input().split())\n",
    "ans = 0\n",
    "while n!=1:\n",
    "    ans+=1\n",
    "    if n%k == 0:\n",
    "        n/=k\n",
    "    else:\n",
    "        n-=1\n",
    "print(ans)"
   ]
  },
  {
   "cell_type": "markdown",
   "metadata": {},
   "source": [
    "시간초과 날 것"
   ]
  },
  {
   "cell_type": "code",
   "execution_count": 23,
   "metadata": {},
   "outputs": [
    {
     "name": "stdout",
     "output_type": "stream",
     "text": [
      "25 3\n",
      "6\n"
     ]
    }
   ],
   "source": [
    "n,k = map(int, input().split())\n",
    "ans = n%k\n",
    "n -= ans\n",
    "while True:\n",
    "    temp = n//k * k #k의 배수가 되도록 한번에 빼준다 \n",
    "    ans+= n-temp #그만큼 횟수 더한거\n",
    "    n = temp\n",
    "    if n < k:\n",
    "        break\n",
    "    n//=k\n",
    "    ans+=1\n",
    "\n",
    "print(ans+(n-1))"
   ]
  },
  {
   "cell_type": "markdown",
   "metadata": {},
   "source": [
    "## 2217. 로프"
   ]
  },
  {
   "cell_type": "code",
   "execution_count": 7,
   "metadata": {},
   "outputs": [
    {
     "name": "stdout",
     "output_type": "stream",
     "text": [
      "2\n",
      "10\n",
      "15\n",
      "20\n"
     ]
    }
   ],
   "source": [
    "n = int(input())\n",
    "ropes = [ int(input()) for _ in range(n)]\n",
    "ans = 0\n",
    "set_rope = set(ropes)\n",
    "for idx in set_rope:\n",
    "    temp = 0\n",
    "    for rope in ropes:\n",
    "        if rope>=idx:\n",
    "            temp+=1\n",
    "    ans = max(ans, temp*idx)\n",
    "print(ans)"
   ]
  },
  {
   "cell_type": "markdown",
   "metadata": {},
   "source": [
    "## 10610. 30"
   ]
  },
  {
   "cell_type": "code",
   "execution_count": 33,
   "metadata": {},
   "outputs": [
    {
     "name": "stdout",
     "output_type": "stream",
     "text": [
      "3\n",
      "-1\n"
     ]
    }
   ],
   "source": [
    "n = list(input())\n",
    "if '0' in n and sum(list(map(int,n)))%3==0:\n",
    "    n.sort(reverse=True)\n",
    "    print(''.join(n))\n",
    "else:\n",
    "    print(-1)"
   ]
  }
 ],
 "metadata": {
  "kernelspec": {
   "display_name": "Python 3",
   "language": "python",
   "name": "python3"
  },
  "language_info": {
   "codemirror_mode": {
    "name": "ipython",
    "version": 3
   },
   "file_extension": ".py",
   "mimetype": "text/x-python",
   "name": "python",
   "nbconvert_exporter": "python",
   "pygments_lexer": "ipython3",
   "version": "3.7.6"
  }
 },
 "nbformat": 4,
 "nbformat_minor": 4
}
