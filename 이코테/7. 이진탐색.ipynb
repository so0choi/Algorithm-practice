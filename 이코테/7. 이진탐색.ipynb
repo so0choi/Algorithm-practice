{
 "cells": [
  {
   "cell_type": "markdown",
   "metadata": {},
   "source": [
    "## 순차탐색"
   ]
  },
  {
   "cell_type": "code",
   "execution_count": 2,
   "metadata": {},
   "outputs": [
    {
     "name": "stdout",
     "output_type": "stream",
     "text": [
      "3\n"
     ]
    }
   ],
   "source": [
    "def sequential_search(arr, target):\n",
    "    for i in range(len(arr)):\n",
    "        if arr[i] == target:\n",
    "            return i+1\n",
    "print(sequential_search([1,2,3,4,5],3))"
   ]
  },
  {
   "cell_type": "markdown",
   "metadata": {},
   "source": [
    "## 이진탐색"
   ]
  },
  {
   "cell_type": "markdown",
   "metadata": {},
   "source": [
    "(재귀 사용한 이진탐색)"
   ]
  },
  {
   "cell_type": "code",
   "execution_count": 12,
   "metadata": {},
   "outputs": [
    {
     "name": "stdout",
     "output_type": "stream",
     "text": [
      "3\n"
     ]
    }
   ],
   "source": [
    "def binary_search(arr, target, start, end):\n",
    "    if start > end:\n",
    "        return None\n",
    "    mid = (start + end) // 2\n",
    "    if arr[mid] == target:\n",
    "        return mid\n",
    "    elif arr[mid] > target:\n",
    "        return binary_search(arr, target, start, mid-1)\n",
    "    else:\n",
    "        return binary_search(arr, target, mid+1, end)\n",
    "# n, target = map(int, input().split())\n",
    "# arr = list(map(int, input().split()))\n",
    "print(binary_search([1,3,5,7,9,11,13,15,17,19], 7, 0, 9))"
   ]
  },
  {
   "cell_type": "markdown",
   "metadata": {},
   "source": [
    "(반복문 사용한 이진탐색)"
   ]
  },
  {
   "cell_type": "code",
   "execution_count": 13,
   "metadata": {},
   "outputs": [
    {
     "name": "stdout",
     "output_type": "stream",
     "text": [
      "3\n"
     ]
    }
   ],
   "source": [
    "def bin_search(arr, target, start,end):\n",
    "    while start <= end:\n",
    "        mid = (start+end)//2\n",
    "        if arr[mid] == target:\n",
    "            return mid\n",
    "        elif arr[mid] > target:\n",
    "            end = mid -1\n",
    "        else:\n",
    "            start = mid+1\n",
    "print(bin_search([1,3,5,7,9,11,13,15,17,19], 7, 0, 9))"
   ]
  },
  {
   "cell_type": "markdown",
   "metadata": {},
   "source": [
    "## 2. 부품찾기\n",
    "탐색해야 하는 범위가 1,000,000 이므로 이진 탐색 고려할 것"
   ]
  },
  {
   "cell_type": "markdown",
   "metadata": {},
   "source": [
    "이진탐색 이용"
   ]
  },
  {
   "cell_type": "code",
   "execution_count": 15,
   "metadata": {},
   "outputs": [
    {
     "name": "stdout",
     "output_type": "stream",
     "text": [
      "5\n",
      "8 3 7 9 2\n",
      "3\n",
      "5 7 9\n",
      "no yes yes "
     ]
    }
   ],
   "source": [
    "n = int(input())\n",
    "n_list = list(map(int, input().split()))\n",
    "m = int(input())\n",
    "m_list = list(map(int, input().split()))\n",
    "n_list.sort()\n",
    "m_list.sort()\n",
    "\n",
    "def bin_search(arr, target, start, end):\n",
    "    while start <= end:\n",
    "        mid = (start+end)//2\n",
    "        if arr[mid] == target:\n",
    "            return mid\n",
    "        elif arr[mid] > target:\n",
    "            end = mid-1\n",
    "        else:\n",
    "            start = mid+1\n",
    "    return None\n",
    "\n",
    "for i in m_list:\n",
    "    result =  bin_search(n_list, i, 0, n)\n",
    "    if result:\n",
    "        print('yes', end= ' ')\n",
    "    else:\n",
    "        print('no',end = ' ')"
   ]
  },
  {
   "cell_type": "markdown",
   "metadata": {},
   "source": [
    "계수 탐색 이용"
   ]
  },
  {
   "cell_type": "code",
   "execution_count": 24,
   "metadata": {},
   "outputs": [
    {
     "name": "stdout",
     "output_type": "stream",
     "text": [
      "5\n",
      "8 3 7 9 2\n",
      "3\n",
      "5 7 9\n",
      "no yes yes "
     ]
    }
   ],
   "source": [
    "l = [0] * (1000000+1)\n",
    "n = int(input())\n",
    "n_list = list(map(int, input().split()))\n",
    "for i in n_list:\n",
    "    l[i] += 1\n",
    "m = int(input())\n",
    "m_list = list(map(int, input().split()))\n",
    "for i in m_list:\n",
    "    if l[i]:\n",
    "        print('yes', end=' ')\n",
    "    else:\n",
    "        print('no', end=' ')"
   ]
  },
  {
   "cell_type": "markdown",
   "metadata": {},
   "source": [
    "set 이용"
   ]
  },
  {
   "cell_type": "code",
   "execution_count": 25,
   "metadata": {},
   "outputs": [
    {
     "name": "stdout",
     "output_type": "stream",
     "text": [
      "5\n",
      "8 3 7 9 2\n",
      "3\n",
      "5 7 9\n",
      "no yes yes "
     ]
    }
   ],
   "source": [
    "n = int(input())\n",
    "n_list = set(list(map(int, input().split())))\n",
    "m = int(input())\n",
    "m_list = list(map(int, input().split()))\n",
    "for i in m_list:\n",
    "    if i in n_list:\n",
    "        print('yes', end=' ')\n",
    "    else:\n",
    "        print('no',end=' ')"
   ]
  },
  {
   "cell_type": "markdown",
   "metadata": {},
   "source": [
    "## 떡볶이 떡 만들기"
   ]
  },
  {
   "cell_type": "code",
   "execution_count": 31,
   "metadata": {},
   "outputs": [
    {
     "name": "stdout",
     "output_type": "stream",
     "text": [
      "4 6\n",
      "19 15 10 17\n",
      "15\n"
     ]
    }
   ],
   "source": [
    "n,m = map(int, input().split())\n",
    "data = list(map(int, input().split()))\n",
    "start = 0\n",
    "end = max(data)\n",
    "ans = -1\n",
    "while start<=end:\n",
    "    mid = (start + end)//2\n",
    "    temp = 0\n",
    "    for d in data:\n",
    "        if d > mid:\n",
    "            temp += d-mid\n",
    "    if temp >= m:\n",
    "        ans = mid\n",
    "        start = mid + 1\n",
    "    else:\n",
    "        end = mid -1\n",
    "print(ans)"
   ]
  },
  {
   "cell_type": "code",
   "execution_count": null,
   "metadata": {},
   "outputs": [],
   "source": [
    "n,m = map(int,input().split())\n",
    "data = list(map(int, input().split()))\n",
    "start,end = 0, max(data)\n",
    "ans = 0\n",
    "while start<=end:\n",
    "    mid = (start + end) // 2\n",
    "    temp = 0\n",
    "    for d in data:\n",
    "        if d > mid:\n",
    "            temp += d-mid\n",
    "    if temp>=m:\n",
    "        start = mid+1\n",
    "        ans = mid\n",
    "    else:\n",
    "        end = mid - 1\n",
    "print(ans)"
   ]
  },
  {
   "cell_type": "markdown",
   "metadata": {},
   "source": [
    "## 2512. 예산"
   ]
  },
  {
   "cell_type": "code",
   "execution_count": 43,
   "metadata": {
    "scrolled": true
   },
   "outputs": [
    {
     "name": "stdout",
     "output_type": "stream",
     "text": [
      "4\n",
      "120 110 140 150\n",
      "485\n",
      "300 0 150 75\n",
      "449 76 150 113\n",
      "494 114 150 132\n",
      "474 114 131 122\n",
      "484 123 131 127\n",
      "488 128 131 129\n",
      "486 128 128 128\n",
      "127\n"
     ]
    }
   ],
   "source": [
    "n = int(input())\n",
    "data = list(map(int,input().split()))\n",
    "m = int(input())\n",
    "start,end = 0, max(data)\n",
    "ans = 0\n",
    "while start<=end:\n",
    "    temp = 0\n",
    "    mid = (start+end)//2\n",
    "    for d in data:\n",
    "        temp = temp + d if d <=mid else temp + mid\n",
    "    if temp <= m:\n",
    "        ans = mid\n",
    "        start = mid+1\n",
    "    else:\n",
    "        end = mid - 1\n",
    "print(ans)"
   ]
  },
  {
   "cell_type": "markdown",
   "metadata": {},
   "source": [
    "## 2110. 공유기 설치"
   ]
  },
  {
   "cell_type": "code",
   "execution_count": 52,
   "metadata": {},
   "outputs": [
    {
     "name": "stdout",
     "output_type": "stream",
     "text": [
      "5 3\n",
      "1\n",
      "2\n",
      "8\n",
      "4\n",
      "9\n",
      "2 0 8 4\n",
      "3 0 3 1\n",
      "3 2 3 2\n",
      "3 3 3 3\n",
      "3\n"
     ]
    }
   ],
   "source": [
    "n,c = map(int,input().split())\n",
    "x = [int(input()) for _ in range(n)]\n",
    "x.sort()\n",
    "start, end = 0, x[-1]-x[0]\n",
    "ans = 0\n",
    "while start<=end:\n",
    "    mid = (start+end)//2\n",
    "    temp = 1\n",
    "    idx = 0\n",
    "    for i in range(1,n):\n",
    "        if x[i]-x[idx] >=mid:\n",
    "            temp+=1\n",
    "            idx = i\n",
    "        if temp == c:\n",
    "            break\n",
    "    if temp == c:\n",
    "        ans = mid\n",
    "        start = mid + 1\n",
    "    else:\n",
    "        end= mid - 1\n",
    "print(ans)"
   ]
  },
  {
   "cell_type": "markdown",
   "metadata": {},
   "source": [
    "## 수들의 합"
   ]
  },
  {
   "cell_type": "code",
   "execution_count": 59,
   "metadata": {},
   "outputs": [
    {
     "name": "stdout",
     "output_type": "stream",
     "text": [
      "200\n",
      "19\n"
     ]
    }
   ],
   "source": [
    "s = int(input())\n",
    "i = 1\n",
    "while s>=i:\n",
    "    if s - i >=0:\n",
    "        s-=i\n",
    "        i+=1\n",
    "print(i-1)"
   ]
  }
 ],
 "metadata": {
  "kernelspec": {
   "display_name": "Python 3",
   "language": "python",
   "name": "python3"
  },
  "language_info": {
   "codemirror_mode": {
    "name": "ipython",
    "version": 3
   },
   "file_extension": ".py",
   "mimetype": "text/x-python",
   "name": "python",
   "nbconvert_exporter": "python",
   "pygments_lexer": "ipython3",
   "version": "3.7.6"
  }
 },
 "nbformat": 4,
 "nbformat_minor": 4
}
