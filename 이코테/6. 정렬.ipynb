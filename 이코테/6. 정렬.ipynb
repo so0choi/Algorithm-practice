{
 "cells": [
  {
   "cell_type": "markdown",
   "metadata": {},
   "source": [
    "## 선택정렬"
   ]
  },
  {
   "cell_type": "code",
   "execution_count": 1,
   "metadata": {},
   "outputs": [],
   "source": [
    "arr = [3,0,2,9,10,4,5,1,7,6,8]"
   ]
  },
  {
   "cell_type": "code",
   "execution_count": 3,
   "metadata": {},
   "outputs": [
    {
     "name": "stdout",
     "output_type": "stream",
     "text": [
      "[0, 1, 2, 3, 4, 5, 6, 7, 8, 9, 10]\n"
     ]
    }
   ],
   "source": [
    "def selection(arr):\n",
    "    n = len(arr)\n",
    "    for i in range(n):\n",
    "        min_i = i\n",
    "        for j in range(i+1,n):\n",
    "            if arr[min_i] > arr[j]:\n",
    "                min_i = j\n",
    "        arr[i], arr[min_i] = arr[min_i],arr[i]\n",
    "    return arr\n",
    "ordered_arr = selection(arr)\n",
    "print(ordered_arr)"
   ]
  },
  {
   "cell_type": "markdown",
   "metadata": {},
   "source": [
    "## 삽입정렬"
   ]
  },
  {
   "cell_type": "code",
   "execution_count": 9,
   "metadata": {},
   "outputs": [
    {
     "name": "stdout",
     "output_type": "stream",
     "text": [
      "[0, 1, 2, 3, 4, 5, 6, 7, 8, 9, 10]\n"
     ]
    }
   ],
   "source": [
    "arr = [3,0,2,9,10,4,5,1,7,6,8]\n",
    "def insertsort(arr):\n",
    "    n = len(arr)\n",
    "    for i in range(1,n): #삽입정렬은 index 1부터 시작\n",
    "        for j in range(i,0,-1): \n",
    "            if arr[j] < arr[j-1]: #이번에 검사하는 원소가 앞의 정렬된 원소들 보다 작다면\n",
    "                arr[j],arr[j-1] = arr[j-1],arr[j]\n",
    "            # 자기 위치를 찾아갈 때 까지 바로 앞 원소와 크기를 비교해가며 자리를 바꾼다\n",
    "            else:\n",
    "                break\n",
    "    return arr\n",
    "\n",
    "print(insertsort(arr))"
   ]
  },
  {
   "cell_type": "markdown",
   "metadata": {},
   "source": [
    "## 퀵정렬"
   ]
  },
  {
   "cell_type": "code",
   "execution_count": 21,
   "metadata": {},
   "outputs": [
    {
     "name": "stdout",
     "output_type": "stream",
     "text": [
      "3 7\n",
      "4 3\n",
      "2 1\n",
      "11 10\n",
      "7 9\n",
      "9 8\n",
      "8 7\n",
      "7 6\n",
      "6 5\n",
      "[0, 1, 2, 3, 4, 5, 6, 7, 8, 9, 10]\n"
     ]
    }
   ],
   "source": [
    "arr = [3,0,2,9,10,4,5,1,7,6,8]\n",
    "def quicksort(arr, start, end):\n",
    "    if start>=end: #퀵정렬 종료조건 : length가 1일때\n",
    "        return\n",
    "    pivot = start # 호어 방식 ( 첫번째 원소를 피벗으로)\n",
    "    left = start+1\n",
    "    right = end\n",
    "    while left <= right:\n",
    "        while left<= end and arr[left] <= arr[pivot]:\n",
    "            left += 1\n",
    "        while right> start and arr[right] >= arr[pivot]:\n",
    "            right -=1\n",
    "        if left > right:\n",
    "            arr[right],arr[pivot] = arr[pivot],arr[right]\n",
    "        else:\n",
    "            arr[left],arr[right] = arr[right],arr[left]\n",
    "            \n",
    "    quicksort(arr, start,right-1)\n",
    "    quicksort(arr,right + 1, end)\n",
    "    \n",
    "quicksort(arr, 0, len(arr)-1)\n",
    "print(arr)"
   ]
  },
  {
   "cell_type": "code",
   "execution_count": 15,
   "metadata": {},
   "outputs": [
    {
     "name": "stdout",
     "output_type": "stream",
     "text": [
      "[0, 1, 2, 3, 4, 5, 6, 7, 8, 9, 10]\n"
     ]
    }
   ],
   "source": [
    "arr = [3,0,2,9,10,4,5,1,7,6,8]\n",
    "def quick_sort(array, start, end):\n",
    "    if start >= end: # 원소가 1개인 경우 종료\n",
    "        return\n",
    "    pivot = start # 피벗은 첫 번째 원소\n",
    "    left = start + 1\n",
    "    right = end\n",
    "    while(left <= right):\n",
    "        # 피벗보다 큰 데이터를 찾을 때까지 반복 \n",
    "        while(left <= end and array[left] <= array[pivot]):\n",
    "            left += 1\n",
    "        # 피벗보다 작은 데이터를 찾을 때까지 반복\n",
    "        while(right > start and array[right] >= array[pivot]):\n",
    "            right -= 1\n",
    "        if(left > right): # 엇갈렸다면 작은 데이터와 피벗을 교체\n",
    "            array[right], array[pivot] = array[pivot], array[right]\n",
    "        else: # 엇갈리지 않았다면 작은 데이터와 큰 데이터를 교체\n",
    "            array[left], array[right] = array[right], array[left]\n",
    "    # 분할 이후 왼쪽 부분과 오른쪽 부분에서 각각 정렬 수행\n",
    "    quick_sort(array, start, right - 1)\n",
    "    quick_sort(array, right + 1, end)\n",
    "quick_sort(arr, 0, len(arr)-1)\n",
    "print(arr)"
   ]
  },
  {
   "cell_type": "markdown",
   "metadata": {},
   "source": [
    "## 계수 정렬"
   ]
  },
  {
   "cell_type": "code",
   "execution_count": 26,
   "metadata": {},
   "outputs": [
    {
     "name": "stdout",
     "output_type": "stream",
     "text": [
      "0 1 2 3 4 5 6 7 8 9 10 "
     ]
    }
   ],
   "source": [
    "arr = [3,0,2,9,10,4,5,1,7,6,8]\n",
    "def gyesu(arr):\n",
    "    temp = [0] * (max(arr)+1)\n",
    "    for a in arr:\n",
    "        temp[a]+=1\n",
    "    for i in range(len(temp)):\n",
    "        for j in range(temp[i]):\n",
    "            print(i, end=' ')\n",
    "gyesu(arr)"
   ]
  },
  {
   "cell_type": "markdown",
   "metadata": {},
   "source": [
    "## 위에서 아래로"
   ]
  },
  {
   "cell_type": "code",
   "execution_count": 28,
   "metadata": {},
   "outputs": [
    {
     "name": "stdout",
     "output_type": "stream",
     "text": [
      "3\n",
      "15\n",
      "27\n",
      "12\n",
      "27 15 12 "
     ]
    }
   ],
   "source": [
    "t = int(input())\n",
    "num = [ int(input()) for _ in range(t) ]\n",
    "num.sort(reverse=True)\n",
    "for n in num:\n",
    "    print(n, end= ' ')"
   ]
  },
  {
   "cell_type": "markdown",
   "metadata": {},
   "source": [
    "## 성적이 낮은 순서로 학생 출력하기"
   ]
  },
  {
   "cell_type": "code",
   "execution_count": 32,
   "metadata": {},
   "outputs": [
    {
     "name": "stdout",
     "output_type": "stream",
     "text": [
      "2\n",
      "홍길동 95\n",
      "이순신 77\n",
      "이순신 홍길동 "
     ]
    }
   ],
   "source": [
    "n = int(input())\n",
    "d = []\n",
    "for _ in range(n):\n",
    "    k, s = input().split()\n",
    "    d.append((k,int(s)))\n",
    "d.sort(key = lambda x:x[1])\n",
    "for dd in d:\n",
    "    print(dd[0], end=' ')"
   ]
  },
  {
   "cell_type": "markdown",
   "metadata": {},
   "source": [
    "## 두 배열의 원소 교체"
   ]
  },
  {
   "cell_type": "code",
   "execution_count": 34,
   "metadata": {},
   "outputs": [
    {
     "name": "stdout",
     "output_type": "stream",
     "text": [
      "5 3\n",
      "1 2 5 4 3\n",
      "5 5 6 6 5\n",
      "26\n"
     ]
    }
   ],
   "source": [
    "n,k = map(int, input().split())\n",
    "arr_a = list(map(int, input().split()))\n",
    "arr_b = list(map(int, input().split()))\n",
    "arr_a.sort()\n",
    "arr_b.sort(reverse=True)\n",
    "for i in range(k):\n",
    "    arr_a[i] = arr_b[i]\n",
    "print(sum(arr_a))"
   ]
  }
 ],
 "metadata": {
  "kernelspec": {
   "display_name": "Python 3",
   "language": "python",
   "name": "python3"
  },
  "language_info": {
   "codemirror_mode": {
    "name": "ipython",
    "version": 3
   },
   "file_extension": ".py",
   "mimetype": "text/x-python",
   "name": "python",
   "nbconvert_exporter": "python",
   "pygments_lexer": "ipython3",
   "version": "3.7.6"
  }
 },
 "nbformat": 4,
 "nbformat_minor": 4
}
