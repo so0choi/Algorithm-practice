{
 "cells": [
  {
   "cell_type": "markdown",
   "metadata": {},
   "source": [
    "## 4-1. 상하좌우"
   ]
  },
  {
   "cell_type": "code",
   "execution_count": 5,
   "metadata": {},
   "outputs": [
    {
     "name": "stdout",
     "output_type": "stream",
     "text": [
      "5\n",
      "R R R U D D\n",
      "3 4\n"
     ]
    }
   ],
   "source": [
    "n = int(input())\n",
    "x,y = 1,1\n",
    "oper = list(input())\n",
    "for o in oper:\n",
    "    if o=='L' and y!=1: y-=1\n",
    "    elif o == 'U' and x!=1: x-=1\n",
    "    elif o=='R' and y!=n: y+=1\n",
    "    elif o=='D' and x!=n: x+=1\n",
    "        \n",
    "print(x,y)"
   ]
  },
  {
   "cell_type": "code",
   "execution_count": 7,
   "metadata": {},
   "outputs": [
    {
     "name": "stdout",
     "output_type": "stream",
     "text": [
      "5\n",
      "R R R U D D\n",
      "3 4\n"
     ]
    }
   ],
   "source": [
    "move = ['L','R','U','D']\n",
    "dx = [0,0,-1,1]\n",
    "dy = [-1,1,0,0]\n",
    "n = int(input())\n",
    "x,y = 1,1\n",
    "oper = input().split()\n",
    "for o in oper:\n",
    "    for i in range(len(move)):\n",
    "        if o == move[i]:\n",
    "            nx = x+ dx[i]\n",
    "            ny = y+ dy[i]\n",
    "            break\n",
    "    if nx<1 or nx>n or ny<1 or ny>n:\n",
    "        continue\n",
    "    x,y = nx, ny\n",
    "print(x,y)"
   ]
  },
  {
   "cell_type": "markdown",
   "metadata": {},
   "source": [
    "## 4-2. 시각"
   ]
  },
  {
   "cell_type": "code",
   "execution_count": 8,
   "metadata": {},
   "outputs": [
    {
     "name": "stdout",
     "output_type": "stream",
     "text": [
      "5\n",
      "11475\n"
     ]
    }
   ],
   "source": [
    "h = int(input())\n",
    "cur = ''\n",
    "ans = 0\n",
    "for i in range(h+1):\n",
    "    for j in range(60):\n",
    "        for k in range(60):\n",
    "            cur = str(i)+str(j)+str(k)\n",
    "            if '3' in cur:\n",
    "                ans+=1\n",
    "print(ans)"
   ]
  },
  {
   "cell_type": "markdown",
   "metadata": {},
   "source": [
    "## 4-3. 왕실의 나이트"
   ]
  },
  {
   "cell_type": "code",
   "execution_count": 11,
   "metadata": {},
   "outputs": [
    {
     "name": "stdout",
     "output_type": "stream",
     "text": [
      "c2\n",
      "6\n"
     ]
    }
   ],
   "source": [
    "cur = input()\n",
    "x,y = cur[0],int(cur[1])\n",
    "dx = [-1, -2, -2, -1, 1, 2, 1,2,]\n",
    "dy = [-2, -1,  1,  2, 2, 1, -2,-1]\n",
    "\n",
    "ans = 0\n",
    "for i in range(8):\n",
    "    nx,ny = ord(x)+dx[i], y+dy[i]\n",
    "    if 'a'<=chr(nx)<='h' and 1<=ny<=8:\n",
    "        ans+=1\n",
    "print(ans)"
   ]
  },
  {
   "cell_type": "markdown",
   "metadata": {},
   "source": [
    "방향 표시 방법 두 가지 모두 많이 쓰이므로 알아두기"
   ]
  },
  {
   "cell_type": "code",
   "execution_count": null,
   "metadata": {},
   "outputs": [],
   "source": [
    "steps = [\n",
    "    (-1,-2), (-2,-1), (-2, 1), (-1, 2),\n",
    "    (1, 2), (2, 1), (1, -2), (2, -1)\n",
    "]"
   ]
  },
  {
   "cell_type": "markdown",
   "metadata": {},
   "source": [
    "## 4-4. 게임 개발"
   ]
  },
  {
   "cell_type": "code",
   "execution_count": 14,
   "metadata": {},
   "outputs": [
    {
     "name": "stdout",
     "output_type": "stream",
     "text": [
      "5 6\n",
      "1 1 0\n",
      "1 1 1 1 1 1\n",
      "1 0 0 0 0 1\n",
      "1 1 0 1 0 1\n",
      "1 0 0 0 0 1\n",
      "1 1 1 1 1 1\n",
      "1 3 --> 1 4\n",
      "1 4 --> 1 5\n",
      "8\n"
     ]
    }
   ],
   "source": [
    "n,m = map(int,input().split())\n",
    "x,y,d = map(int, input().split())\n",
    "\n",
    "board = [list(map(int, input().split())) for _ in range(n)]\n",
    "direction = [0,1,2,3]\n",
    "dx = [-1,0,1,0]\n",
    "dy = [0,1,0,-1]\n",
    "visited = [(x,y)]\n",
    "ans = 0\n",
    "while True:\n",
    "    for i in range(4):\n",
    "        d = d-1 if d-1>=0 else 3 #왼쪽으로 회전\n",
    "        nx, ny = x + dx[d], y+dy[d]\n",
    "        if board[nx][ny]==0 and (nx,ny) not in visited:\n",
    "            ans+=1\n",
    "            visited.append((nx,ny))\n",
    "            x,y = nx, ny\n",
    "            break\n",
    "    else:\n",
    "        nx, ny = x-dx[d], y-dy[d]\n",
    "        if board[nx][ny]==1:\n",
    "            break\n",
    "        x,y = nx,ny\n",
    "print(ans)\n",
    "        "
   ]
  }
 ],
 "metadata": {
  "kernelspec": {
   "display_name": "Python 3",
   "language": "python",
   "name": "python3"
  },
  "language_info": {
   "codemirror_mode": {
    "name": "ipython",
    "version": 3
   },
   "file_extension": ".py",
   "mimetype": "text/x-python",
   "name": "python",
   "nbconvert_exporter": "python",
   "pygments_lexer": "ipython3",
   "version": "3.7.6"
  }
 },
 "nbformat": 4,
 "nbformat_minor": 4
}
