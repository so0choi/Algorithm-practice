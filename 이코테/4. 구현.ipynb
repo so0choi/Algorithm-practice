{
 "cells": [
  {
   "cell_type": "markdown",
   "metadata": {},
   "source": [
    "## 4-1. 상하좌우"
   ]
  },
  {
   "cell_type": "code",
   "execution_count": 5,
   "metadata": {},
   "outputs": [
    {
     "name": "stdout",
     "output_type": "stream",
     "text": [
      "5\n",
      "R R R U D D\n",
      "3 4\n"
     ]
    }
   ],
   "source": [
    "n = int(input())\n",
    "x,y = 1,1\n",
    "oper = list(input())\n",
    "for o in oper:\n",
    "    if o=='L' and y!=1: y-=1\n",
    "    elif o == 'U' and x!=1: x-=1\n",
    "    elif o=='R' and y!=n: y+=1\n",
    "    elif o=='D' and x!=n: x+=1\n",
    "        \n",
    "print(x,y)"
   ]
  },
  {
   "cell_type": "code",
   "execution_count": 7,
   "metadata": {},
   "outputs": [
    {
     "name": "stdout",
     "output_type": "stream",
     "text": [
      "5\n",
      "R R R U D D\n",
      "3 4\n"
     ]
    }
   ],
   "source": [
    "move = ['L','R','U','D']\n",
    "dx = [0,0,-1,1]\n",
    "dy = [-1,1,0,0]\n",
    "n = int(input())\n",
    "x,y = 1,1\n",
    "oper = input().split()\n",
    "for o in oper:\n",
    "    for i in range(len(move)):\n",
    "        if o == move[i]:\n",
    "            nx = x+ dx[i]\n",
    "            ny = y+ dy[i]\n",
    "            break\n",
    "    if nx<1 or nx>n or ny<1 or ny>n:\n",
    "        continue\n",
    "    x,y = nx, ny\n",
    "print(x,y)"
   ]
  },
  {
   "cell_type": "markdown",
   "metadata": {},
   "source": [
    "## 4-2. 시각"
   ]
  },
  {
   "cell_type": "code",
   "execution_count": 8,
   "metadata": {},
   "outputs": [
    {
     "name": "stdout",
     "output_type": "stream",
     "text": [
      "5\n",
      "11475\n"
     ]
    }
   ],
   "source": [
    "h = int(input())\n",
    "cur = ''\n",
    "ans = 0\n",
    "for i in range(h+1):\n",
    "    for j in range(60):\n",
    "        for k in range(60):\n",
    "            cur = str(i)+str(j)+str(k)\n",
    "            if '3' in cur:\n",
    "                ans+=1\n",
    "print(ans)"
   ]
  },
  {
   "cell_type": "markdown",
   "metadata": {},
   "source": [
    "## 4-3. 왕실의 나이트"
   ]
  },
  {
   "cell_type": "code",
   "execution_count": 11,
   "metadata": {},
   "outputs": [
    {
     "name": "stdout",
     "output_type": "stream",
     "text": [
      "c2\n",
      "6\n"
     ]
    }
   ],
   "source": [
    "cur = input()\n",
    "x,y = cur[0],int(cur[1])\n",
    "dx = [-1, -2, -2, -1, 1, 2, 1,2,]\n",
    "dy = [-2, -1,  1,  2, 2, 1, -2,-1]\n",
    "\n",
    "ans = 0\n",
    "for i in range(8):\n",
    "    nx,ny = ord(x)+dx[i], y+dy[i]\n",
    "    if 'a'<=chr(nx)<='h' and 1<=ny<=8:\n",
    "        ans+=1\n",
    "print(ans)"
   ]
  },
  {
   "cell_type": "markdown",
   "metadata": {},
   "source": [
    "방향 표시 방법 두 가지 모두 많이 쓰이므로 알아두기"
   ]
  },
  {
   "cell_type": "code",
   "execution_count": null,
   "metadata": {},
   "outputs": [],
   "source": [
    "steps = [\n",
    "    (-1,-2), (-2,-1), (-2, 1), (-1, 2),\n",
    "    (1, 2), (2, 1), (1, -2), (2, -1)\n",
    "]"
   ]
  },
  {
   "cell_type": "markdown",
   "metadata": {},
   "source": [
    "## 4-4. 게임 개발"
   ]
  },
  {
   "cell_type": "code",
   "execution_count": 14,
   "metadata": {},
   "outputs": [
    {
     "name": "stdout",
     "output_type": "stream",
     "text": [
      "5 6\n",
      "1 1 0\n",
      "1 1 1 1 1 1\n",
      "1 0 0 0 0 1\n",
      "1 1 0 1 0 1\n",
      "1 0 0 0 0 1\n",
      "1 1 1 1 1 1\n",
      "1 3 --> 1 4\n",
      "1 4 --> 1 5\n",
      "8\n"
     ]
    }
   ],
   "source": [
    "n,m = map(int,input().split())\n",
    "x,y,d = map(int, input().split())\n",
    "\n",
    "board = [list(map(int, input().split())) for _ in range(n)]\n",
    "direction = [0,1,2,3]\n",
    "dx = [-1,0,1,0]\n",
    "dy = [0,1,0,-1]\n",
    "visited = [(x,y)]\n",
    "ans = 0\n",
    "while True:\n",
    "    for i in range(4):\n",
    "        d = d-1 if d-1>=0 else 3 #왼쪽으로 회전\n",
    "        nx, ny = x + dx[d], y+dy[d]\n",
    "        if board[nx][ny]==0 and (nx,ny) not in visited:\n",
    "            ans+=1\n",
    "            visited.append((nx,ny))\n",
    "            x,y = nx, ny\n",
    "            break\n",
    "    else:\n",
    "        nx, ny = x-dx[d], y-dy[d]\n",
    "        if board[nx][ny]==1:\n",
    "            break\n",
    "        x,y = nx,ny\n",
    "print(ans)\n",
    "        "
   ]
  },
  {
   "cell_type": "markdown",
   "metadata": {},
   "source": [
    "## 2194. 유닛 이동시키기"
   ]
  },
  {
   "cell_type": "code",
   "execution_count": 28,
   "metadata": {},
   "outputs": [
    {
     "name": "stdout",
     "output_type": "stream",
     "text": [
      "1 1 1 1 0\n",
      "1 1\n",
      "1 1\n",
      "0\n"
     ]
    }
   ],
   "source": [
    "from collections import deque\n",
    "n,m,a,b,k = map(int, input().split()) #n,m 맵크기 axb 유닛크기\n",
    "board = [[0]*m for _ in range(n)]\n",
    "for _ in range(k):\n",
    "    x,y = map(int, input().split())\n",
    "    x-=1\n",
    "    y-=1\n",
    "    board[x][y] = -1\n",
    "start = tuple(map(int, input().split()))\n",
    "end = tuple(map(int, input().split()))\n",
    "\n",
    "def move(start, end):\n",
    "    \n",
    "    dx = [-1,0,1,0]\n",
    "    dy = [0,1,0,-1]\n",
    "    q = deque([start])\n",
    "    while q:\n",
    "        cur = q.popleft()\n",
    "        x,y = cur[0],cur[1]\n",
    "        if cur == end:\n",
    "            return board[x][y]\n",
    "        for d in range(4):\n",
    "            nx, ny = cur[0]+dx[d], cur[1]+dy[d]\n",
    "            if 0<=nx and 0<=ny and nx+a<=n and ny+b<=m and board[nx][ny]==0:\n",
    "                sliced_board = board[nx:nx+a]\n",
    "                sign = True\n",
    "                for sliced in sliced_board:\n",
    "                    if -1 in sliced[ny:ny+b]:\n",
    "                        sign = False\n",
    "                        break\n",
    "                if sign:\n",
    "                    q.append((nx,ny))\n",
    "                    board[nx][ny] = board[x][y]+1\n",
    "    return -1\n",
    "print(move((start[0]-1,start[1]-1), (end[0]-1, end[1]-1)))"
   ]
  },
  {
   "cell_type": "markdown",
   "metadata": {},
   "source": [
    "## 럭키 스트레이트"
   ]
  },
  {
   "cell_type": "code",
   "execution_count": 8,
   "metadata": {},
   "outputs": [
    {
     "name": "stdout",
     "output_type": "stream",
     "text": [
      "7755\n",
      "READY\n"
     ]
    }
   ],
   "source": [
    "n = input()\n",
    "sum1, sum2 = 0,0\n",
    "for i in range(len(n)//2):\n",
    "    sum1 += int(n[i])\n",
    "    sum2 += int(n[len(n)-i-1])\n",
    "if sum1==sum2:\n",
    "    print('LUCKY')\n",
    "else:\n",
    "    print('READY')"
   ]
  },
  {
   "cell_type": "markdown",
   "metadata": {},
   "source": [
    "## 문자열 재정렬"
   ]
  },
  {
   "cell_type": "code",
   "execution_count": 9,
   "metadata": {},
   "outputs": [
    {
     "name": "stdout",
     "output_type": "stream",
     "text": [
      "K1KA5CB7\n",
      "ABCKK13\n"
     ]
    }
   ],
   "source": [
    "s = input()\n",
    "num = 0\n",
    "data = []\n",
    "for i in s:\n",
    "    if '0'<=i<='9':\n",
    "        num += int(i)\n",
    "    else:\n",
    "        data.append(i)\n",
    "data.sort()\n",
    "ans = ''\n",
    "for d in data:\n",
    "    ans += d\n",
    "print(ans+str(num))"
   ]
  },
  {
   "cell_type": "markdown",
   "metadata": {},
   "source": [
    "## 문자열 압축"
   ]
  },
  {
   "cell_type": "code",
   "execution_count": 56,
   "metadata": {},
   "outputs": [
    {
     "name": "stdout",
     "output_type": "stream",
     "text": [
      "ababcdcdababcdcd\n",
      "1 a\n",
      "2 ab\n",
      "3 aba\n",
      "4 abab\n",
      "5 ababc\n",
      "6 ababcd\n",
      "7 ababcdc\n",
      "8 ababcdcd\n",
      "2ababcdcd\n"
     ]
    }
   ],
   "source": [
    "def solution(s):\n",
    "    len_s = len(s)\n",
    "    ans = len_s\n",
    "    for i in range(1,len_s//2+1):\n",
    "        part = s[:i]\n",
    "        part_count = 1\n",
    "        temp = ''\n",
    "        for j in range(i,len_s,i):\n",
    "            now = s[j:j+i]\n",
    "            if now == part:\n",
    "                part_count+=1\n",
    "            else:\n",
    "                if part_count!=1:\n",
    "                    temp += str(part_count)+part\n",
    "                else:\n",
    "                    temp += part\n",
    "                part_count = 1\n",
    "                part = now\n",
    "        temp += str(part_count) + part if part_count!=1 else part\n",
    "        ans = min(ans, len(temp))\n",
    "    return ans"
   ]
  },
  {
   "cell_type": "markdown",
   "metadata": {},
   "source": [
    "## 자물쇠와 열쇠"
   ]
  },
  {
   "cell_type": "code",
   "execution_count": 57,
   "metadata": {},
   "outputs": [
    {
     "name": "stdout",
     "output_type": "stream",
     "text": [
      "[[3, 1], [4, 2]]\n"
     ]
    }
   ],
   "source": [
    "def rotate(arr, n):\n",
    "    temp = [[0]*n for _ in range(n)]\n",
    "    for i in range(n):\n",
    "        for j in range(n):\n",
    "            temp[j][n-i-1] = arr[i][j]\n",
    "    return temp\n",
    "\n",
    "def check(lock, n):\n",
    "    for i in range(n):\n",
    "        for j in range(n):\n",
    "            if lock[n+i][n+j]!=1:\n",
    "                return False\n",
    "    return True\n",
    "\n",
    "def solution(key, lock):\n",
    "    n = len(lock)\n",
    "    m = len(key)\n",
    "    board = [[0]*(n*3) for _ in range(n*3)]\n",
    "    for i in range(n):\n",
    "        for j in range(n):\n",
    "            board[i+n][j+n] = lock[i][j] \n",
    "    for i in range(2*n):\n",
    "        for j in range(2*n):\n",
    "            for k in range(4): \n",
    "                for r in range(m):\n",
    "                    for c in range(m):\n",
    "                        board[i+r][j+c] += key[r][c]\n",
    "                if check(board, n):\n",
    "                    return True\n",
    "                for r in range(m):\n",
    "                    for c in range(m):\n",
    "                         board[i+r][j+c] -= key[r][c]\n",
    "                key = rotate(key, m)\n",
    "    return False"
   ]
  },
  {
   "cell_type": "markdown",
   "metadata": {},
   "source": [
    "## 3190.뱀"
   ]
  },
  {
   "cell_type": "code",
   "execution_count": 18,
   "metadata": {},
   "outputs": [
    {
     "name": "stdout",
     "output_type": "stream",
     "text": [
      "10\n",
      "5\n",
      "1 5\n",
      "1 3\n",
      "1 2\n",
      "1 6\n",
      "1 7\n",
      "4\n",
      "8 D\n",
      "10 D\n",
      "11 D\n",
      "13 L\n",
      "time: 0\n",
      "[2, 1, 1, 0, 1, 1, 1, 0, 0, 0]\n",
      "[0, 0, 0, 0, 0, 0, 0, 0, 0, 0]\n",
      "[0, 0, 0, 0, 0, 0, 0, 0, 0, 0]\n",
      "[0, 0, 0, 0, 0, 0, 0, 0, 0, 0]\n",
      "[0, 0, 0, 0, 0, 0, 0, 0, 0, 0]\n",
      "[0, 0, 0, 0, 0, 0, 0, 0, 0, 0]\n",
      "[0, 0, 0, 0, 0, 0, 0, 0, 0, 0]\n",
      "[0, 0, 0, 0, 0, 0, 0, 0, 0, 0]\n",
      "[0, 0, 0, 0, 0, 0, 0, 0, 0, 0]\n",
      "[0, 0, 0, 0, 0, 0, 0, 0, 0, 0]\n",
      "0 1\n",
      "time: 1\n",
      "[2, 2, 1, 0, 1, 1, 1, 0, 0, 0]\n",
      "[0, 0, 0, 0, 0, 0, 0, 0, 0, 0]\n",
      "[0, 0, 0, 0, 0, 0, 0, 0, 0, 0]\n",
      "[0, 0, 0, 0, 0, 0, 0, 0, 0, 0]\n",
      "[0, 0, 0, 0, 0, 0, 0, 0, 0, 0]\n",
      "[0, 0, 0, 0, 0, 0, 0, 0, 0, 0]\n",
      "[0, 0, 0, 0, 0, 0, 0, 0, 0, 0]\n",
      "[0, 0, 0, 0, 0, 0, 0, 0, 0, 0]\n",
      "[0, 0, 0, 0, 0, 0, 0, 0, 0, 0]\n",
      "[0, 0, 0, 0, 0, 0, 0, 0, 0, 0]\n",
      "0 2\n",
      "time: 2\n",
      "[2, 2, 2, 0, 1, 1, 1, 0, 0, 0]\n",
      "[0, 0, 0, 0, 0, 0, 0, 0, 0, 0]\n",
      "[0, 0, 0, 0, 0, 0, 0, 0, 0, 0]\n",
      "[0, 0, 0, 0, 0, 0, 0, 0, 0, 0]\n",
      "[0, 0, 0, 0, 0, 0, 0, 0, 0, 0]\n",
      "[0, 0, 0, 0, 0, 0, 0, 0, 0, 0]\n",
      "[0, 0, 0, 0, 0, 0, 0, 0, 0, 0]\n",
      "[0, 0, 0, 0, 0, 0, 0, 0, 0, 0]\n",
      "[0, 0, 0, 0, 0, 0, 0, 0, 0, 0]\n",
      "[0, 0, 0, 0, 0, 0, 0, 0, 0, 0]\n",
      "0 3\n",
      "time: 3\n",
      "[0, 2, 2, 2, 1, 1, 1, 0, 0, 0]\n",
      "[0, 0, 0, 0, 0, 0, 0, 0, 0, 0]\n",
      "[0, 0, 0, 0, 0, 0, 0, 0, 0, 0]\n",
      "[0, 0, 0, 0, 0, 0, 0, 0, 0, 0]\n",
      "[0, 0, 0, 0, 0, 0, 0, 0, 0, 0]\n",
      "[0, 0, 0, 0, 0, 0, 0, 0, 0, 0]\n",
      "[0, 0, 0, 0, 0, 0, 0, 0, 0, 0]\n",
      "[0, 0, 0, 0, 0, 0, 0, 0, 0, 0]\n",
      "[0, 0, 0, 0, 0, 0, 0, 0, 0, 0]\n",
      "[0, 0, 0, 0, 0, 0, 0, 0, 0, 0]\n",
      "0 4\n",
      "time: 4\n",
      "[0, 2, 2, 2, 2, 1, 1, 0, 0, 0]\n",
      "[0, 0, 0, 0, 0, 0, 0, 0, 0, 0]\n",
      "[0, 0, 0, 0, 0, 0, 0, 0, 0, 0]\n",
      "[0, 0, 0, 0, 0, 0, 0, 0, 0, 0]\n",
      "[0, 0, 0, 0, 0, 0, 0, 0, 0, 0]\n",
      "[0, 0, 0, 0, 0, 0, 0, 0, 0, 0]\n",
      "[0, 0, 0, 0, 0, 0, 0, 0, 0, 0]\n",
      "[0, 0, 0, 0, 0, 0, 0, 0, 0, 0]\n",
      "[0, 0, 0, 0, 0, 0, 0, 0, 0, 0]\n",
      "[0, 0, 0, 0, 0, 0, 0, 0, 0, 0]\n",
      "0 5\n",
      "time: 5\n",
      "[0, 2, 2, 2, 2, 2, 1, 0, 0, 0]\n",
      "[0, 0, 0, 0, 0, 0, 0, 0, 0, 0]\n",
      "[0, 0, 0, 0, 0, 0, 0, 0, 0, 0]\n",
      "[0, 0, 0, 0, 0, 0, 0, 0, 0, 0]\n",
      "[0, 0, 0, 0, 0, 0, 0, 0, 0, 0]\n",
      "[0, 0, 0, 0, 0, 0, 0, 0, 0, 0]\n",
      "[0, 0, 0, 0, 0, 0, 0, 0, 0, 0]\n",
      "[0, 0, 0, 0, 0, 0, 0, 0, 0, 0]\n",
      "[0, 0, 0, 0, 0, 0, 0, 0, 0, 0]\n",
      "[0, 0, 0, 0, 0, 0, 0, 0, 0, 0]\n",
      "0 6\n",
      "time: 6\n",
      "[0, 2, 2, 2, 2, 2, 2, 0, 0, 0]\n",
      "[0, 0, 0, 0, 0, 0, 0, 0, 0, 0]\n",
      "[0, 0, 0, 0, 0, 0, 0, 0, 0, 0]\n",
      "[0, 0, 0, 0, 0, 0, 0, 0, 0, 0]\n",
      "[0, 0, 0, 0, 0, 0, 0, 0, 0, 0]\n",
      "[0, 0, 0, 0, 0, 0, 0, 0, 0, 0]\n",
      "[0, 0, 0, 0, 0, 0, 0, 0, 0, 0]\n",
      "[0, 0, 0, 0, 0, 0, 0, 0, 0, 0]\n",
      "[0, 0, 0, 0, 0, 0, 0, 0, 0, 0]\n",
      "[0, 0, 0, 0, 0, 0, 0, 0, 0, 0]\n",
      "0 7\n",
      "time: 7\n",
      "[0, 0, 2, 2, 2, 2, 2, 2, 0, 0]\n",
      "[0, 0, 0, 0, 0, 0, 0, 0, 0, 0]\n",
      "[0, 0, 0, 0, 0, 0, 0, 0, 0, 0]\n",
      "[0, 0, 0, 0, 0, 0, 0, 0, 0, 0]\n",
      "[0, 0, 0, 0, 0, 0, 0, 0, 0, 0]\n",
      "[0, 0, 0, 0, 0, 0, 0, 0, 0, 0]\n",
      "[0, 0, 0, 0, 0, 0, 0, 0, 0, 0]\n",
      "[0, 0, 0, 0, 0, 0, 0, 0, 0, 0]\n",
      "[0, 0, 0, 0, 0, 0, 0, 0, 0, 0]\n",
      "[0, 0, 0, 0, 0, 0, 0, 0, 0, 0]\n",
      "0 8\n",
      "time: 8\n",
      "[0, 0, 0, 2, 2, 2, 2, 2, 2, 0]\n",
      "[0, 0, 0, 0, 0, 0, 0, 0, 0, 0]\n",
      "[0, 0, 0, 0, 0, 0, 0, 0, 0, 0]\n",
      "[0, 0, 0, 0, 0, 0, 0, 0, 0, 0]\n",
      "[0, 0, 0, 0, 0, 0, 0, 0, 0, 0]\n",
      "[0, 0, 0, 0, 0, 0, 0, 0, 0, 0]\n",
      "[0, 0, 0, 0, 0, 0, 0, 0, 0, 0]\n",
      "[0, 0, 0, 0, 0, 0, 0, 0, 0, 0]\n",
      "[0, 0, 0, 0, 0, 0, 0, 0, 0, 0]\n",
      "[0, 0, 0, 0, 0, 0, 0, 0, 0, 0]\n",
      "1 8\n",
      "time: 9\n",
      "[0, 0, 0, 0, 2, 2, 2, 2, 2, 0]\n",
      "[0, 0, 0, 0, 0, 0, 0, 0, 2, 0]\n",
      "[0, 0, 0, 0, 0, 0, 0, 0, 0, 0]\n",
      "[0, 0, 0, 0, 0, 0, 0, 0, 0, 0]\n",
      "[0, 0, 0, 0, 0, 0, 0, 0, 0, 0]\n",
      "[0, 0, 0, 0, 0, 0, 0, 0, 0, 0]\n",
      "[0, 0, 0, 0, 0, 0, 0, 0, 0, 0]\n",
      "[0, 0, 0, 0, 0, 0, 0, 0, 0, 0]\n",
      "[0, 0, 0, 0, 0, 0, 0, 0, 0, 0]\n",
      "[0, 0, 0, 0, 0, 0, 0, 0, 0, 0]\n",
      "2 8\n",
      "time: 10\n",
      "[0, 0, 0, 0, 0, 2, 2, 2, 2, 0]\n",
      "[0, 0, 0, 0, 0, 0, 0, 0, 2, 0]\n",
      "[0, 0, 0, 0, 0, 0, 0, 0, 2, 0]\n",
      "[0, 0, 0, 0, 0, 0, 0, 0, 0, 0]\n",
      "[0, 0, 0, 0, 0, 0, 0, 0, 0, 0]\n",
      "[0, 0, 0, 0, 0, 0, 0, 0, 0, 0]\n",
      "[0, 0, 0, 0, 0, 0, 0, 0, 0, 0]\n",
      "[0, 0, 0, 0, 0, 0, 0, 0, 0, 0]\n",
      "[0, 0, 0, 0, 0, 0, 0, 0, 0, 0]\n",
      "[0, 0, 0, 0, 0, 0, 0, 0, 0, 0]\n",
      "2 7\n",
      "time: 11\n",
      "[0, 0, 0, 0, 0, 0, 2, 2, 2, 0]\n",
      "[0, 0, 0, 0, 0, 0, 0, 0, 2, 0]\n",
      "[0, 0, 0, 0, 0, 0, 0, 2, 2, 0]\n",
      "[0, 0, 0, 0, 0, 0, 0, 0, 0, 0]\n",
      "[0, 0, 0, 0, 0, 0, 0, 0, 0, 0]\n",
      "[0, 0, 0, 0, 0, 0, 0, 0, 0, 0]\n",
      "[0, 0, 0, 0, 0, 0, 0, 0, 0, 0]\n",
      "[0, 0, 0, 0, 0, 0, 0, 0, 0, 0]\n",
      "[0, 0, 0, 0, 0, 0, 0, 0, 0, 0]\n",
      "[0, 0, 0, 0, 0, 0, 0, 0, 0, 0]\n",
      "1 7\n",
      "time: 12\n",
      "[0, 0, 0, 0, 0, 0, 0, 2, 2, 0]\n",
      "[0, 0, 0, 0, 0, 0, 0, 2, 2, 0]\n",
      "[0, 0, 0, 0, 0, 0, 0, 2, 2, 0]\n",
      "[0, 0, 0, 0, 0, 0, 0, 0, 0, 0]\n",
      "[0, 0, 0, 0, 0, 0, 0, 0, 0, 0]\n",
      "[0, 0, 0, 0, 0, 0, 0, 0, 0, 0]\n",
      "[0, 0, 0, 0, 0, 0, 0, 0, 0, 0]\n",
      "[0, 0, 0, 0, 0, 0, 0, 0, 0, 0]\n",
      "[0, 0, 0, 0, 0, 0, 0, 0, 0, 0]\n",
      "[0, 0, 0, 0, 0, 0, 0, 0, 0, 0]\n",
      "0 7\n",
      "13\n"
     ]
    }
   ],
   "source": [
    "from collections import deque\n",
    "\n",
    "n =int(input())\n",
    "board = [[0]*n for _ in range(n)]\n",
    "k = int(input())\n",
    "for _ in range(k):\n",
    "    x,y = map(int,input().split())\n",
    "    board[x-1][y-1]=1\n",
    "    \n",
    "l = int(input())\n",
    "op = []\n",
    "for _ in range(l):\n",
    "    a,b = input().split()\n",
    "    op.append((int(a), b))\n",
    "op = deque(op)\n",
    "\n",
    "time=0\n",
    "dx = [0,1,0,-1]\n",
    "dy = [1,0,-1,0]\n",
    "d_idx = 0\n",
    "head = [0,0]\n",
    "board[0][0] = 2\n",
    "snake = deque([head])\n",
    "\n",
    "while True:\n",
    "    time+=1\n",
    "    new_x, new_y = head[0] + dx[d_idx], head[1] + dy[d_idx]\n",
    "    if not (0 <= new_x < n and 0 <= new_y < n): break #벽에 부딫힌 경우\n",
    "    elif board[new_x][new_y] == 2: break #몸통 부딫힌 경우\n",
    "    # 꼬리 찾기\n",
    "    if board[new_x][new_y] != 1: #사과먹음\n",
    "        tail_x, tail_y = snake.popleft()\n",
    "        board[tail_x][tail_y] = 0\n",
    "    board[new_x][new_y] = 2\n",
    "    snake.append([new_x,new_y])\n",
    "    head = [new_x,new_y]\n",
    "    if op and time == op[0][0]:\n",
    "        o_time, o_direction = op.popleft()\n",
    "        if o_direction == 'L':\n",
    "            d_idx = d_idx-1 if d_idx!=0 else 3\n",
    "        else:\n",
    "            d_idx = d_idx+1 if d_idx!=3 else 0\n",
    "print(time)"
   ]
  },
  {
   "cell_type": "code",
   "execution_count": null,
   "metadata": {},
   "outputs": [],
   "source": []
  }
 ],
 "metadata": {
  "kernelspec": {
   "display_name": "Python 3",
   "language": "python",
   "name": "python3"
  },
  "language_info": {
   "codemirror_mode": {
    "name": "ipython",
    "version": 3
   },
   "file_extension": ".py",
   "mimetype": "text/x-python",
   "name": "python",
   "nbconvert_exporter": "python",
   "pygments_lexer": "ipython3",
   "version": "3.7.6"
  }
 },
 "nbformat": 4,
 "nbformat_minor": 4
}
