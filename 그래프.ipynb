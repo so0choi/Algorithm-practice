{
 "cells": [
  {
   "cell_type": "code",
   "execution_count": 2,
   "metadata": {},
   "outputs": [],
   "source": [
    "from collections import deque\n",
    "graph = {1:[2,3],\n",
    "        2:[1,4,5],\n",
    "        3:[1,5,7,8],\n",
    "        4:[2],\n",
    "        5:[2,3,6],\n",
    "        6:[5],\n",
    "        7:[3,8],\n",
    "        8:[3,7]}"
   ]
  },
  {
   "cell_type": "code",
   "execution_count": null,
   "metadata": {},
   "outputs": [],
   "source": [
    "def BFS_graph(graph, start):\n",
    "    q = deque([start])\n",
    "    visited = []\n",
    "    while q:\n",
    "        for c"
   ]
  }
 ],
 "metadata": {
  "kernelspec": {
   "display_name": "Python 3",
   "language": "python",
   "name": "python3"
  },
  "language_info": {
   "codemirror_mode": {
    "name": "ipython",
    "version": 3
   },
   "file_extension": ".py",
   "mimetype": "text/x-python",
   "name": "python",
   "nbconvert_exporter": "python",
   "pygments_lexer": "ipython3",
   "version": "3.7.6"
  }
 },
 "nbformat": 4,
 "nbformat_minor": 4
}
