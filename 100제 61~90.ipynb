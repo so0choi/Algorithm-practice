{
 "cells": [
  {
   "cell_type": "code",
   "execution_count": 16,
   "metadata": {},
   "outputs": [
    {
     "name": "stdout",
     "output_type": "stream",
     "text": [
      "aaabbccccccasss\n",
      "a3b2c6a1s3\n"
     ]
    }
   ],
   "source": [
    "#문제 61\n",
    "text = input()\n",
    "result=''\n",
    "storeString = text[0]\n",
    "count = 0\n",
    "for t in text:\n",
    "    if t == storeString:\n",
    "        count += 1\n",
    "    else:\n",
    "        result += storeString +str(count)\n",
    "        storeString = t\n",
    "        count = 1\n",
    "# 마지막 문자 갯수 세고 반복문 빠져나오게 되므로 뒤에 붙여줘야함\n",
    "result += storeString+str(count)\n",
    "print(result)"
   ]
  },
  {
   "cell_type": "code",
   "execution_count": 11,
   "metadata": {},
   "outputs": [
    {
     "name": "stdout",
     "output_type": "stream",
     "text": [
      "['b', 'b']\n",
      "['aaabbcccccca']\n",
      "[('a', 'aa'), ('b', 'b'), ('c', 'ccccc'), ('a', ''), ('s', 'ss')]\n",
      "a3b2c6a1s3\n"
     ]
    }
   ],
   "source": [
    "input_data = 'aaabbccccccasss'\n",
    "rule = re.compile('[a-c]+')\n",
    "\n",
    "one = re.findall('b', input_data)\n",
    "two = re.findall(rule, input_data)\n",
    "three = re.findall('(\\\\w)(\\\\1*)', input_data)\n",
    "\n",
    "print(one)\n",
    "print(two)\n",
    "print(three)\n",
    "\n",
    "s=''\n",
    "for i,j in three:\n",
    "    s+= i+ str(len(j)+1)\n",
    "print(s)"
   ]
  },
  {
   "cell_type": "code",
   "execution_count": 18,
   "metadata": {},
   "outputs": [
    {
     "name": "stdout",
     "output_type": "stream",
     "text": [
      "20190923\n"
     ]
    }
   ],
   "source": [
    "#문제 62 \n",
    "text = 'aacdddddddddeee'\n",
    "result = ''\n",
    "result += str(text.count('a'))\n",
    "result += str(text.count('b'))\n",
    "result += str(text.count('c'))\n",
    "result += str(text.count('d'))\n",
    "result += str(text.count('b'))\n",
    "result += str(text.count('d'))\n",
    "result += str(text.count('a'))\n",
    "result += str(text.count('e'))\n",
    "print(result)\n",
    "\n",
    "#더 깔끔한 답\n",
    "# a=string.count('a') #2\n",
    "# b=string.count('b') #0\n",
    "# c=string.count('c') #1\n",
    "# d=string.count('d') #9\n",
    "# print(int(str(a)+str(b)+str(c)+str(d)+str(b)+str(d)+str(a)+str(a+1)))"
   ]
  },
  {
   "cell_type": "code",
   "execution_count": 20,
   "metadata": {},
   "outputs": [
    {
     "name": "stdout",
     "output_type": "stream",
     "text": [
      "복잡한 세상 편하게 살자\n",
      "복세편살\n"
     ]
    }
   ],
   "source": [
    "#문제 63\n",
    "text = input().split()\n",
    "result = ''\n",
    "for t in text:\n",
    "    result += t[0]\n",
    "print(result)"
   ]
  },
  {
   "cell_type": "code",
   "execution_count": 22,
   "metadata": {},
   "outputs": [
    {
     "name": "stdout",
     "output_type": "stream",
     "text": [
      "28\n",
      "4\n"
     ]
    }
   ],
   "source": [
    "#문제 64\n",
    "weight = int(input())\n",
    "result = 0\n",
    "while True:\n",
    "    if weight%7 ==0:\n",
    "        result += weight//7\n",
    "        print(result)\n",
    "        break\n",
    "    weight -= 3\n",
    "    result+=1\n",
    "    if weight < 0:\n",
    "        print(-1)\n",
    "        break"
   ]
  },
  {
   "cell_type": "code",
   "execution_count": 28,
   "metadata": {},
   "outputs": [
    {
     "name": "stdout",
     "output_type": "stream",
     "text": [
      "[[1, 'a'], ['b', 2], [3, 'c'], ['d', 4]]\n"
     ]
    }
   ],
   "source": [
    "# 문제 65\n",
    "a = [1,2,3,4]\n",
    "b = ['a','b','c','d']\n",
    "result = []\n",
    "for i in range(4):\n",
    "    if i %2 == 0:\n",
    "        result.append([a[i],b[i]])\n",
    "    else:\n",
    "        result.append([b[i],a[i]])\n",
    "print(result)"
   ]
  },
  {
   "cell_type": "code",
   "execution_count": 62,
   "metadata": {},
   "outputs": [
    {
     "name": "stdout",
     "output_type": "stream",
     "text": [
      "['ABCDEF: yes', 'BCAD: no', 'ADEFQRX: yes', 'BEDFG: yes', 'AEBFDGCH: no']\n"
     ]
    }
   ],
   "source": [
    "# 문제 66\n",
    "tower = ['ABCDEF', 'BCAD', 'ADEFQRX', 'BEDFG', 'AEBFDGCH']\n",
    "rule = \"ABCD\"\n",
    "\n",
    "def checkTower(tower,rule):\n",
    "    result = []\n",
    "    for t in tower:\n",
    "        sign = 0 \n",
    "        for i in range(len(t)):\n",
    "            for j in range(1,len(rule)):\n",
    "                if t[i] == rule[j]:\n",
    "                    for temp in t[i+1:]:\n",
    "                        if temp in rule[:j]:\n",
    "                            result.append( t+': no')\n",
    "                            sign = -1\n",
    "                            break\n",
    "                if sign == -1:\n",
    "                    break\n",
    "        if sign == 0:\n",
    "            result.append(t+': yes')\n",
    "    return result\n",
    "\n",
    "print(checkTower(tower,rule))\n",
    "#내가 짠 코드 - 너무 중첩되어있고 복잡하고 비효율적인거 같다"
   ]
  },
  {
   "cell_type": "code",
   "execution_count": 64,
   "metadata": {},
   "outputs": [
    {
     "name": "stdout",
     "output_type": "stream",
     "text": [
      "['가능', '불가능', '가능', '가능', '불가능']\n"
     ]
    }
   ],
   "source": [
    "def solution(전체블록, 규칙):\n",
    "    answer = []\n",
    "    for 부분블록 in 전체블록:\n",
    "        answer.append(블록순서체크(부분블록, 규칙))\n",
    "    return answer\n",
    "\n",
    "def 블록순서체크(부분블록, 규칙):\n",
    "    임시변수 = 0 # 첫번째 규칙 index 저장\n",
    "    for 문자 in 부분블록:\n",
    "        if 문자 in 규칙:\n",
    "            if 임시변수 > 규칙.index(문자):\n",
    "                return '불가능'\n",
    "            임시변수 = 규칙.index(문자)\n",
    "    return '가능'\n",
    "\n",
    "전체블록 = ['ABCDEF', 'BCAD', 'ADEFQRX', 'BEDFG', 'AEBFDGCH']\n",
    "규칙 = 'ABCD'\n",
    "\n",
    "print(solution(전체블록, 규칙))"
   ]
  },
  {
   "cell_type": "code",
   "execution_count": 66,
   "metadata": {},
   "outputs": [
    {
     "name": "stdout",
     "output_type": "stream",
     "text": [
      "['yes', 'no', 'yes', 'yes', 'no']\n"
     ]
    }
   ],
   "source": [
    "def solution(towers, rule):\n",
    "    result = []\n",
    "    for tower in towers:\n",
    "        result.append(checkTower(tower, rule))\n",
    "    return result\n",
    "\n",
    "# 각 문자들의 rule안 인덱스만 비교하면 됨\n",
    "def checkTower(tower,rule):\n",
    "    checkRuleIndex = 0\n",
    "    for t in tower:\n",
    "        if t in rule:\n",
    "            if checkRuleIndex > rule.index(t):\n",
    "                return 'no'\n",
    "            checkRuleIndex = rule.index(t)\n",
    "    return 'yes'\n",
    "\n",
    "전체블록 = ['ABCDEF', 'BCAD', 'ADEFQRX', 'BEDFG', 'AEBFDGCH']\n",
    "규칙 = 'ABCD'\n",
    "\n",
    "print(solution(전체블록, 규칙))"
   ]
  },
  {
   "cell_type": "code",
   "execution_count": 68,
   "metadata": {},
   "outputs": [
    {
     "name": "stdout",
     "output_type": "stream",
     "text": [
      "59\n",
      "[4, 12]\n"
     ]
    }
   ],
   "source": [
    "# 문제 67\n",
    "n = int(input())\n",
    "def solution(n):\n",
    "    i = 2\n",
    "    temp = 0\n",
    "    while True:\n",
    "        if i * (i-1) //2 < n:\n",
    "            i += 1\n",
    "        else:\n",
    "            temp = (i-1) * (i-2) //2\n",
    "            break\n",
    "    return [n-temp, i]\n",
    "\n",
    "print(solution(n))"
   ]
  },
  {
   "cell_type": "code",
   "execution_count": 82,
   "metadata": {},
   "outputs": [
    {
     "name": "stdout",
     "output_type": "stream",
     "text": [
      "['지나갔습니다', '0시간 40분', '1시간 33분']\n"
     ]
    }
   ],
   "source": [
    "# 문제 68\n",
    "bus = [\"12:30\", \"13:20\", \"14:13\"]\n",
    "time = '12:40'\n",
    "result = []\n",
    "for t in bus:\n",
    "    bush, busm = map(int,t.split(':'))\n",
    "    nowh, nowm = map(int,time.split(':'))\n",
    "    caltime = (60 * bush + busm )-(60 * nowh + nowm)\n",
    "    if caltime < 0:\n",
    "        result.append('지나갔습니다')\n",
    "    else:\n",
    "        a = caltime // 60\n",
    "        b = caltime % 60\n",
    "        result.append(str(a)+'시간 '+str(b)+'분')\n",
    "print(result)"
   ]
  },
  {
   "cell_type": "code",
   "execution_count": 123,
   "metadata": {},
   "outputs": [
    {
     "name": "stdout",
     "output_type": "stream",
     "text": [
      "100\n",
      "[[3, 97], [11, 89], [17, 83], [29, 71], [41, 59], [47, 53]]\n",
      "[47, 53]\n",
      "[3, 97]\n"
     ]
    }
   ],
   "source": [
    "## 문제 69\n",
    "\n",
    "def findAllGold(n):\n",
    "    primeList = findPrime(n)\n",
    "    result = []\n",
    "    for i in primeList:\n",
    "        for j in primeList:\n",
    "            if i + j == n:\n",
    "                result.append([i,j])\n",
    "    return result[:len(result)//2]\n",
    "    \n",
    "def findMinGold(n):\n",
    "    primeList = findPrime(n)\n",
    "    result = []\n",
    "    for i in primeList:\n",
    "        for j in primeList:\n",
    "            if i + j == n:\n",
    "                result.append([i,j])\n",
    "    return result[len(result)//2-1]\n",
    "\n",
    "def findMaxGold(n):\n",
    "    primeList = findPrime(n)\n",
    "    for i in primeList:\n",
    "        for j in primeList:\n",
    "            if i + j == n:\n",
    "                return [i,j]\n",
    "    \n",
    "    \n",
    "def findPrime(n):\n",
    "    if n == 2:\n",
    "        return [2]\n",
    "    result = [True] * (n+1)\n",
    "    for i in range(2, int(n**(1/2))+1):\n",
    "        if result[i] == True:\n",
    "            for j in range(i+i,n+1,i):\n",
    "                result[j] = False\n",
    "    return [i for i in range(2,len(result)) if result[i]]\n",
    "\n",
    "n = int(input())\n",
    "print(findAllGold(n))\n",
    "print(findMinGold(n))\n",
    "print(findMaxGold(n))"
   ]
  },
  {
   "cell_type": "code",
   "execution_count": 2,
   "metadata": {},
   "outputs": [
    {
     "name": "stdout",
     "output_type": "stream",
     "text": [
      "100\n",
      "[3, 97, 11, 89, 17, 83, 29, 71, 41, 59, 47, 53]\n",
      "47 53\n"
     ]
    }
   ],
   "source": [
    "#골드바흐의 추측\n",
    "def cal():\n",
    "    n=10000*2\n",
    "    primes=[]    \n",
    "    a = [False,False] + [True]*(n-1)\n",
    "\n",
    "    for i in range(2,n+1):\n",
    "        if a[i]:\n",
    "            primes.append(i)\n",
    "        for j in range(2*i, n+1, i):\n",
    "            a[j] = False\n",
    "            \n",
    "    return primes\n",
    "\n",
    "a = cal()\n",
    "#골드바흐파티션\n",
    "n = int(input())\n",
    "l = []\n",
    "k = []\t\n",
    "\n",
    "for i in range(2, n//2+1):    \n",
    "    if i in a and n-i in a:\n",
    "        l.append(i)\n",
    "        l.append(n-i)\n",
    "print(l)\n",
    "for i in range(0,len(l)-1,2):\n",
    "    k.append(l[i+1]-l[i])\n",
    "    \n",
    "index = k.index(min(k))*2\n",
    "print(l[index], l[index+1])"
   ]
  },
  {
   "cell_type": "code",
   "execution_count": 5,
   "metadata": {},
   "outputs": [
    {
     "name": "stdout",
     "output_type": "stream",
     "text": [
      "[[1, 6], [2, 12]]\n"
     ]
    }
   ],
   "source": [
    "# 문제 70\n",
    "a = ([1,2],[2,4])\n",
    "b = ([1,0],[0,3])\n",
    "def solution(a,b):\n",
    "    if len(a[0]) != len(b):\n",
    "        return '-1'\n",
    "    \n",
    "    result = []\n",
    "    for i in range(len(b)):\n",
    "        result.append([0]*len(a[0]))\n",
    "        \n",
    "    for i in range(len(result)):\n",
    "        for j in range(len(result[i])):\n",
    "            for k in range(len(a[i])):\n",
    "                result[i][j] += a[i][k] * b[k][j]\n",
    "    return result\n",
    "\n",
    "print(solution(a,b))"
   ]
  },
  {
   "cell_type": "code",
   "execution_count": 10,
   "metadata": {},
   "outputs": [
    {
     "name": "stdout",
     "output_type": "stream",
     "text": [
      "['E', 'A', 'C', 'B', 'D', 'F']\n"
     ]
    }
   ],
   "source": [
    "# 문제 71\n",
    "graph = {'E': set(['D', 'A']),\n",
    "         'F': set(['D']),\n",
    "         'A': set(['E', 'C', 'B']),\n",
    "         'B': set(['A']),\n",
    "         'C': set(['A']),\n",
    "         'D': set(['E','F'])}\n",
    "\n",
    "def dfs(graph, start):\n",
    "    visited = []\n",
    "    stack = [start]\n",
    "    \n",
    "    while stack:\n",
    "        n = stack.pop()\n",
    "        if n not in visited:\n",
    "            visited.append(n)\n",
    "            stack += graph[n] - set(visited)\n",
    "    return visited\n",
    "\n",
    "print(dfs(graph,'E'))"
   ]
  },
  {
   "cell_type": "code",
   "execution_count": 12,
   "metadata": {},
   "outputs": [
    {
     "name": "stdout",
     "output_type": "stream",
     "text": [
      "['E', 'D', 'F', 'A', 'C', 'B']\n"
     ]
    }
   ],
   "source": [
    "tree = {\n",
    "        'A': ['B', 'C', 'E'],\n",
    "        'B': ['A'],\n",
    "        'C': ['A'],\n",
    "        'D': ['E', 'F'],\n",
    "        'E': ['A', 'D'],\n",
    "        'F': ['D']\n",
    "}\n",
    "\n",
    "def dfs(data, start):\n",
    "    visited = []\n",
    "    stack = [start]\n",
    "    while stack:\n",
    "        n = stack.pop()\n",
    "        if n not in visited:\n",
    "            visited.append(n)\n",
    "            stack.extend(data[n])\n",
    "\n",
    "    return visited\n",
    "\n",
    "print(dfs(tree, 'E'))"
   ]
  },
  {
   "cell_type": "code",
   "execution_count": 13,
   "metadata": {},
   "outputs": [
    {
     "name": "stdout",
     "output_type": "stream",
     "text": [
      "['E', 'D', 'A', 'F', 'B', 'C']\n"
     ]
    }
   ],
   "source": [
    "#문제 72\n",
    "graph = {'E': set(['D', 'A']),\n",
    "         'F': set(['D']),\n",
    "         'A': set(['E', 'C', 'B']),\n",
    "         'B': set(['A']),\n",
    "         'C': set(['A']),\n",
    "         'D': set(['E','F'])}\n",
    "def bfs(graph, start):\n",
    "    visited = []\n",
    "    queue =[start]\n",
    "    while queue:\n",
    "        n = queue.pop(0)\n",
    "        if n not in visited:\n",
    "            visited.append(n)\n",
    "            queue += graph[n] - set(visited)\n",
    "    return visited\n",
    "\n",
    "print(bfs(graph,'E'))"
   ]
  },
  {
   "cell_type": "code",
   "execution_count": 16,
   "metadata": {},
   "outputs": [
    {
     "name": "stdout",
     "output_type": "stream",
     "text": [
      "2\n"
     ]
    }
   ],
   "source": [
    "#문제 73 bfs 이용한 최단거리 \n",
    "graph = {'A': set(['B', 'C']),\n",
    "         'B': set(['A', 'D', 'E']),\n",
    "         'C': set(['A', 'F']),\n",
    "         'D': set(['B']),\n",
    "         'E': set(['B', 'F']),\n",
    "         'F': set(['C', 'E'])}\n",
    "start = 'A'\n",
    "end = 'F'\n",
    "def solution(graph, start, end):\n",
    "    queue = [start]\n",
    "    visited = [start]\n",
    "    count = -1\n",
    "    while queue:\n",
    "        count += 1\n",
    "        size = len(queue)\n",
    "        for i in range(size):\n",
    "            node = queue.pop(0)\n",
    "            if node == end:\n",
    "                return count\n",
    "            for next_node in graph[node]:\n",
    "                if next_node not in visited:\n",
    "                    visited.append(next_node)\n",
    "                    queue.append(next_node)\n",
    "        \n",
    "print(solution(graph, start, end))    "
   ]
  },
  {
   "cell_type": "code",
   "execution_count": 22,
   "metadata": {},
   "outputs": [
    {
     "name": "stdout",
     "output_type": "stream",
     "text": [
      "6\n"
     ]
    }
   ],
   "source": [
    "#문제 74 \n",
    "graph = {1: [2, 3, 4],\n",
    "2: [1, 3, 4, 5, 6],\n",
    "3: [1, 2, 7],\n",
    "4: [1, 2, 5, 6],\n",
    "5: [2, 4, 6, 7],\n",
    "6: [2, 4, 5, 7],\n",
    "7: [3, 5, 6]} \n",
    "\n",
    "start = 1\n",
    "end = 7\n",
    "queue = [start]\n",
    "visited = []\n",
    "\n",
    "def solution(n,visited):\n",
    "    if n[-1] == end:\n",
    "        return len(visited)\n",
    "    \n",
    "    if n[-1] in visited:\n",
    "        return len(visited)\n",
    "    \n",
    "    visited.append(n[-1])\n",
    "    length = 0\n",
    "    \n",
    "    for next_node in graph[n[-1]]:\n",
    "        n.append(next_node)\n",
    "        length = max(length, solution(n, visited))\n",
    "        queue.pop(-1)\n",
    "    return length\n",
    "\n",
    "\n",
    "print(solution(queue, visited))"
   ]
  },
  {
   "cell_type": "code",
   "execution_count": 28,
   "metadata": {},
   "outputs": [
    {
     "data": {
      "text/plain": [
       "4"
      ]
     },
     "execution_count": 28,
     "metadata": {},
     "output_type": "execute_result"
    }
   ],
   "source": [
    "### 문제 75\n",
    "def solution(n):\n",
    "    n = list(n)\n",
    "    answer = 0\n",
    "    count = 1\n",
    "    d = {3:1, 6:2, 9:3}\n",
    "    while n:\n",
    "        answer += d[int(n.pop())]* count\n",
    "        count*=3\n",
    "        \n",
    "    return answer\n",
    "\n",
    "solution('33')"
   ]
  },
  {
   "cell_type": "code",
   "execution_count": 35,
   "metadata": {
    "scrolled": true
   },
   "outputs": [
    {
     "name": "stdout",
     "output_type": "stream",
     "text": [
      "10\n"
     ]
    }
   ],
   "source": [
    "def solution(n):\n",
    "    n = list(n)\n",
    "    count = 1\n",
    "    result = 0\n",
    "    clap = { 3:1, 6:2, 9:3 }\n",
    "    while n:\n",
    "        result += clap[int(n.pop())] * count\n",
    "        count *= 3\n",
    "    return result\n",
    "\n",
    "print(solution('93'))"
   ]
  },
  {
   "cell_type": "code",
   "execution_count": 47,
   "metadata": {},
   "outputs": [],
   "source": [
    "import numpy as np"
   ]
  },
  {
   "cell_type": "code",
   "execution_count": 54,
   "metadata": {},
   "outputs": [
    {
     "name": "stdout",
     "output_type": "stream",
     "text": [
      "5 3\n",
      "3\n"
     ]
    }
   ],
   "source": [
    "#문제 76\n",
    "testCase = int(1)\n",
    "a, b = map(int, input().split())\n",
    "road = [[1,0,0,1,0],[0,1,0,0,1],[0,0,0,1,0],[0,0,0,0,0],[0,0,1,0,0]]\n",
    "data = np.array(road)\n",
    "# for i in range(a):\n",
    "#     road.append(input().split())\n",
    "s=0\n",
    "for i in range(b):\n",
    "    for j in range(b):\n",
    "        if np.sum(data[i:b+i,j:b+j]) > s:\n",
    "            s = np.sum(data[i:b+i, j:b+j])\n",
    "print(s)"
   ]
  },
  {
   "cell_type": "code",
   "execution_count": 98,
   "metadata": {
    "scrolled": true
   },
   "outputs": [
    {
     "name": "stdout",
     "output_type": "stream",
     "text": [
      "[0, 0, 0, 0, 0, 0, 0, 0, 0, 0, 0, 0, 0, 0]\n",
      "[0, 1, 1, 1, 1, 1, 1, 1, 1, 1, 1, 1, 1, 1]\n",
      "[0, 1, 1, 1, 1, 1, 1, 1, 1, 1, 1, 1, 1, 1]\n",
      "[0, 1, 2, 2, 2, 2, 2, 2, 2, 2, 2, 2, 2, 2]\n",
      "[0, 1, 2, 2, 2, 2, 2, 2, 2, 2, 2, 2, 2, 2]\n",
      "[0, 1, 2, 3, 3, 3, 3, 3, 3, 3, 3, 3, 3, 3]\n",
      "[0, 1, 2, 3, 3, 3, 3, 3, 3, 3, 3, 3, 3, 3]\n",
      "[0, 1, 2, 3, 4, 4, 4, 4, 4, 4, 4, 4, 4, 4]\n",
      "[0, 1, 2, 3, 4, 5, 5, 5, 5, 5, 5, 5, 5, 5]\n",
      "[0, 1, 2, 3, 4, 5, 6, 6, 6, 6, 6, 6, 6, 6]\n",
      "6\n"
     ]
    }
   ],
   "source": [
    "#문제 77\n",
    "# str1 = input()\n",
    "# str2 = input()\n",
    "str1 = 'THISISSTRINGS'\n",
    "str2 = 'TKHKIKSIS'\n",
    "a = len(str1)\n",
    "b = len(str2)\n",
    "\n",
    "def findLongest(str1, str2):\n",
    "    len1 = len(str1)\n",
    "    len2 = len(str2)\n",
    "    dp = [[0]*(len1+1) for _ in range(len2+1)]\n",
    "    for i in range(1,len2+1):\n",
    "        for j in range(1,len1+1):\n",
    "            if str2[i-1] == str1[j-1]:\n",
    "                dp[i][j] = dp[i-1][j-1] + 1\n",
    "            else:\n",
    "                dp[i][j] = max(dp[i-1][j],dp[i][j-1])\n",
    "    for i in dp:\n",
    "        print(i)\n",
    "    return dp[-1][-1]\n",
    "print(findLongest(str1,str2))"
   ]
  },
  {
   "cell_type": "code",
   "execution_count": 121,
   "metadata": {
    "scrolled": true
   },
   "outputs": [
    {
     "name": "stdout",
     "output_type": "stream",
     "text": [
      "6 3\n",
      "[1, 5]\n"
     ]
    }
   ],
   "source": [
    "#문제 78\n",
    "a,b = map(int, input().split())\n",
    "menu = [i for i in range(1,a+1)]\n",
    "i = b-1\n",
    "while len(menu) > 2:\n",
    "    if i > len(menu)-1:\n",
    "        i -= len(menu)\n",
    "    menu.pop(i)\n",
    "    i += b-1\n",
    "print(menu)"
   ]
  },
  {
   "cell_type": "markdown",
   "metadata": {},
   "source": [
    "menu = [1 2 3 4 5 6]<br>\n",
    "i = 0, len = 6<br>\n",
    "pop(0)\n",
    "<br><br>\n",
    "menu = [2 3 4 5 6]<br>\n",
    "i = 0+3-1 = 2, len = 5<br>\n",
    "menu.pop(2)<br><br>\n",
    "\n",
    "menu = [2 3 5 6]<br>\n",
    "i = 2+3-1, len = 4<br>\n",
    "i = 0<br>\n",
    "menu.pop(0)<br><br>\n",
    "\n"
   ]
  },
  {
   "cell_type": "code",
   "execution_count": 140,
   "metadata": {},
   "outputs": [
    {
     "name": "stdout",
     "output_type": "stream",
     "text": [
      "index:6\n",
      "value:39, 34\n"
     ]
    }
   ],
   "source": [
    "#문제 79\n",
    "l = [10,20,25,27,34,35,39]\n",
    "n = 2\n",
    "def rotate(inL, inN):\n",
    "    resultL = [0]*len(inL)\n",
    "    tempL = inL.copy()\n",
    "    for i in range(inN):\n",
    "        for j in range(len(tempL)):\n",
    "            resultL[j] = tempL[j-1]\n",
    "        tempL = resultL.copy()\n",
    "    min = 10000\n",
    "    index = -1\n",
    "    for i in range(len(resultL)):\n",
    "        if min > abs(resultL[i]-inL[i]):\n",
    "            min = abs(resultL[i] - inL[i])\n",
    "            index = i\n",
    "    print('index:{}'.format(index))\n",
    "    print('value:{}, {}'.format(inL[index],resultL[index]))\n",
    "\n",
    "rotate(l,n)"
   ]
  },
  {
   "cell_type": "code",
   "execution_count": 141,
   "metadata": {},
   "outputs": [
    {
     "name": "stdout",
     "output_type": "stream",
     "text": [
      "6\n",
      "39 34\n"
     ]
    }
   ],
   "source": [
    "l = [10,20,25,27,34,35,39]\n",
    "n = 2\n",
    "def rotate(inL, inN):\n",
    "    resultL = inL.copy()\n",
    "    calL = []\n",
    "    for i in range(inN):\n",
    "        resultL.insert(0, resultL.pop())\n",
    "    for i,j in zip(inL, resultL):\n",
    "        calL.append(abs(i-j))\n",
    "    index = calL.index(min(calL))\n",
    "    print(index)\n",
    "    print(inL[index], resultL[index])\n",
    "    \n",
    "rotate(l,n)"
   ]
  },
  {
   "cell_type": "code",
   "execution_count": 142,
   "metadata": {},
   "outputs": [],
   "source": [
    "from itertools import combinations"
   ]
  },
  {
   "cell_type": "code",
   "execution_count": 144,
   "metadata": {},
   "outputs": [
    {
     "name": "stdout",
     "output_type": "stream",
     "text": [
      "['ㄱㄴㄷ', 'ㄱㄴㄹ', 'ㄱㄷㄹ', 'ㄴㄷㄹ']\n"
     ]
    }
   ],
   "source": [
    "#문제 80\n",
    "l = input().split()\n",
    "n = int(input())\n",
    "print(list(map(''.join, combinations(l,n))))"
   ]
  },
  {
   "cell_type": "code",
   "execution_count": 157,
   "metadata": {},
   "outputs": [
    {
     "name": "stdout",
     "output_type": "stream",
     "text": [
      "뽑을 숫자의 수>>3\n",
      "리스트>>1 2 3 4 5\n",
      "[1, 2, 3, 4, 5]\n",
      "1 2 3 \n",
      "1 2 4 \n",
      "1 2 5 \n",
      "1 3 4 \n",
      "1 3 5 \n",
      "1 4 5 \n",
      "2 3 4 \n",
      "2 3 5 \n",
      "2 4 5 \n",
      "3 4 5 \n"
     ]
    }
   ],
   "source": [
    "n = int(input('뽑을 숫자의 수>>'))\n",
    "data = list(map(int, input('리스트>>').split()))\n",
    "print(data)\n",
    "select = [False]*len(data)\n",
    "def findComb(idx, cnt):\n",
    "    if cnt == 3:\n",
    "        for i in range(len(data)):\n",
    "            if select[i]==True:\n",
    "                print(data[i],end=' ')\n",
    "        print()\n",
    "        return None\n",
    "    for i in range(idx, len(data)):\n",
    "        if select[i]==True:\n",
    "            continue\n",
    "        select[i] = True\n",
    "        findComb(i, cnt+1)\n",
    "        select[i] = False\n",
    "        \n",
    "findComb(0,0)"
   ]
  },
  {
   "cell_type": "code",
   "execution_count": 4,
   "metadata": {
    "scrolled": true
   },
   "outputs": [
    {
     "name": "stdout",
     "output_type": "stream",
     "text": [
      "['0', '1', '0', '0', '0']\n",
      "['0', '1', '0', '0', '0']\n",
      "['0', '0', '0', '1', '0']\n",
      "['0', '0', '1', '0', '0']\n",
      "['0', '0', '0', '0', '0']\n",
      "\n",
      "['*', 'f', '*', '0', '0']\n",
      "['*', 'f', '*', '*', '0']\n",
      "['0', '*', '*', 'f', '*']\n",
      "['0', '*', 'f', '*', '0']\n",
      "['0', '0', '*', '0', '0']\n"
     ]
    }
   ],
   "source": [
    "#문제 81\n",
    "flag = [['0','1','0','0','0'],['0','1','0','0','0'],['0','0','0','1','0'],['0','0','1','0','0'],['0','0','0','0','0']] #지뢰 없이 깃발만 있는 리스트\n",
    "minesweeper = flag.copy() # 지뢰를 찾은 리스트\n",
    "for f in flag:\n",
    "    print(f)\n",
    "\n",
    "# for i in range(5):\n",
    "#     flag.append(input('깃발 값과 함께 입력하세요 : ').split(' '))\n",
    "    \n",
    "def findWeeper(minesweeper):\n",
    "    for i in range(len(minesweeper)):\n",
    "        for j in range(len(minesweeper[0])):\n",
    "            if minesweeper[i][j] == '1':\n",
    "                minesweeper[i][j] = 'f'\n",
    "                for c in checkFlag(minesweeper, i, j):\n",
    "                    minesweeper[c[0]][c[1]] = '*'\n",
    "\n",
    "def checkFlag(flag, i, j):\n",
    "    valid = []\n",
    "    if i-1 >= 0:\n",
    "        valid.append([i-1,j])\n",
    "    if j-1 >= 0:\n",
    "        valid.append([i,j-1])\n",
    "    if j+1 < len(flag[0]):\n",
    "        valid.append([i,j+1])\n",
    "    if i+1 < len(flag):\n",
    "        valid.append([i+1,j])\n",
    "    for k in valid:\n",
    "        if flag[k[0]][k[1]] != '0':\n",
    "            del valid[valid.index(k)]\n",
    "    return valid\n",
    "\n",
    "findWeeper(minesweeper)\n",
    "    \n",
    "print()\n",
    "for m in minesweeper:\n",
    "    print(m)\n",
    "\n"
   ]
  },
  {
   "cell_type": "code",
   "execution_count": 179,
   "metadata": {},
   "outputs": [
    {
     "name": "stdout",
     "output_type": "stream",
     "text": [
      "['0 1 0 0 0', '0 0 0 0 0', '0 0 0 1 0', '0 0 1 0 0', '0 0 0 0 0']\n",
      "['*', 'f', '*', '0', '0']\n",
      "['0', '*', '0', '*', '0']\n",
      "['0', '0', '*', 'f', '*']\n",
      "['0', '*', 'f', '*', '0']\n",
      "['0', '0', '*', '0', '0']\n"
     ]
    }
   ],
   "source": [
    "value ='''0 1 0 0 0\n",
    "0 0 0 0 0\n",
    "0 0 0 1 0\n",
    "0 0 1 0 0\n",
    "0 0 0 0 0'''\n",
    "print(value.split('\\n'))\n",
    "sp = value.split('\\n')\n",
    "count = 0\n",
    "for i in sp:\n",
    "    sp[count] = i.replace('1', 'f').split(' ')\n",
    "    count += 1\n",
    "\n",
    "count = 0\n",
    "search = 0\n",
    "for s in sp:\n",
    "    for i in s:\n",
    "        if i == 'f':\n",
    "            search = s.index(i)\n",
    "            if search > 0:\n",
    "                s[search-1] = '*'\n",
    "            if search < 4:\n",
    "                s[search+1] = '*'\n",
    "            if count > 0:\n",
    "                sp[count-1][search] = '*'\n",
    "            if count < 4:\n",
    "                 sp[count+1][search] = '*'\n",
    "    count += 1\n",
    "for i in sp:\n",
    "    print(i)"
   ]
  },
  {
   "cell_type": "code",
   "execution_count": 2,
   "metadata": {},
   "outputs": [
    {
     "name": "stdout",
     "output_type": "stream",
     "text": [
      "데이터 입력(1), 프로그램 종료(2) : 1\n",
      "데이터를 입력하세요(4*2\n",
      "False\n",
      "데이터 입력(1), 프로그램 종료(2) : 1\n",
      "데이터를 입력하세요d()\n",
      "True\n",
      "데이터 입력(1), 프로그램 종료(2) : 2\n"
     ]
    }
   ],
   "source": [
    "#문제 82\n",
    "def math(e):\n",
    "    count = 0\n",
    "    for text in e:\n",
    "        if text == '(':\n",
    "            count+=1\n",
    "        if text == ')':\n",
    "            count-=1\n",
    "    if count!=0:\n",
    "        return 'False'\n",
    "    else:\n",
    "        return 'True'\n",
    "while 1:\n",
    "    n = int(input('데이터 입력(1), 프로그램 종료(2) : '))\n",
    "    if n == 1:\n",
    "        data = input('데이터를 입력하세요')\n",
    "        print(math(data))\n",
    "    else:\n",
    "        break"
   ]
  },
  {
   "cell_type": "code",
   "execution_count": 3,
   "metadata": {},
   "outputs": [
    {
     "name": "stdout",
     "output_type": "stream",
     "text": [
      "데이터 입력(1), 프로그램 종료(2) : 1\n",
      "데이터를 입력하세요5 + 7 * {(3 * 5)}\n",
      "True\n",
      "데이터 입력(1), 프로그램 종료(2) : 1\n",
      "데이터를 입력하세요5 + 7){ * (3 * 5)\n",
      "False\n",
      "데이터 입력(1), 프로그램 종료(2) : 2\n"
     ]
    }
   ],
   "source": [
    "#문제 83\n",
    "def math(e):\n",
    "    m = {')':'(','}':'{'}\n",
    "    stack = []\n",
    "    for text in e:\n",
    "        if text in '({':\n",
    "            stack.append(text)\n",
    "        elif i in m:\n",
    "            if len(stack) == 0:\n",
    "                return False\n",
    "            else:\n",
    "                if m[text] != stack.pop():\n",
    "                    return False\n",
    "    return len(stack) == 0 #스택 안 비어있으면 괄호 수 안맞는 것\n",
    "while 1:\n",
    "    n = int(input('데이터 입력(1), 프로그램 종료(2) : '))\n",
    "    if n == 1:\n",
    "        data = input('데이터를 입력하세요')\n",
    "        print(math(data))\n",
    "    else:\n",
    "        break"
   ]
  },
  {
   "cell_type": "code",
   "execution_count": 4,
   "metadata": {},
   "outputs": [],
   "source": [
    "from itertools import combinations"
   ]
  },
  {
   "cell_type": "code",
   "execution_count": 15,
   "metadata": {},
   "outputs": [
    {
     "name": "stdout",
     "output_type": "stream",
     "text": [
      "1723\n",
      "['1', '7', '2', '3']\n",
      "2\n",
      "73\n",
      "<class 'list'>\n",
      "<class 'str'>\n"
     ]
    }
   ],
   "source": [
    "n = [i for i in input()]\n",
    "print(n)\n",
    "k = int(input())\n",
    "numbers = list(map(''.join, combinations(n,k)))\n",
    "print(max(numbers))\n",
    "print(type(numbers))\n",
    "print(type(numbers[0]))"
   ]
  },
  {
   "cell_type": "code",
   "execution_count": 36,
   "metadata": {},
   "outputs": [
    {
     "name": "stdout",
     "output_type": "stream",
     "text": [
      "6\n",
      "122131\n"
     ]
    }
   ],
   "source": [
    "#문제 85\n",
    "n = int(input())\n",
    "i = 1\n",
    "result = '1'\n",
    "for i in range(n-1):\n",
    "    temp = ''\n",
    "    l = [t for t in result]\n",
    "    for j in range(1,int(max(l))+1):\n",
    "        if str(j) in l:\n",
    "            temp += str(j) + str(result.count(str(j)))\n",
    "    result = temp\n",
    "print(result)"
   ]
  },
  {
   "cell_type": "code",
   "execution_count": 45,
   "metadata": {
    "scrolled": true
   },
   "outputs": [
    {
     "name": "stdout",
     "output_type": "stream",
     "text": [
      "[1, 1, 3, 2, 5]\n",
      "0\n",
      "[1, 3, 2, 5]\n",
      "1\n",
      "[1, 3, 2, 5]\n",
      "2\n",
      "[1, 3, 2, 5]\n",
      "3\n",
      "[1, 3, 2, 5]\n",
      "4\n",
      "[3, 2, 5]\n",
      "5\n",
      "5\n"
     ]
    }
   ],
   "source": [
    "#문제 86\n",
    "point = [1,1,3,2,5]\n",
    "dish = 3\n",
    "count = 0\n",
    "index = 0\n",
    "print(point)\n",
    "print(count)\n",
    "while True:\n",
    "    min_p = min(point)\n",
    "    if point[index] == min_p:\n",
    "        if index == dish:\n",
    "            break\n",
    "        else:\n",
    "            point.pop(index)\n",
    "            ate+=1\n",
    "            if index < (dish-1):\n",
    "                dish -=1\n",
    "    count+=1\n",
    "    print(point)\n",
    "    print(count)\n",
    "    index = (index+1) % len(point)\n",
    "    \n",
    "print(count)"
   ]
  },
  {
   "cell_type": "markdown",
   "metadata": {},
   "source": [
    "한 번 돌 때마다 <strong>min</strong>을 구하므로 성능이 좋지 않다 <br>\n",
    "<strong>append, pop(0)</strong> 을 반복하는 아래 코드가 더 시간상 효율적으로 보임 "
   ]
  },
  {
   "cell_type": "code",
   "execution_count": 53,
   "metadata": {},
   "outputs": [
    {
     "name": "stdout",
     "output_type": "stream",
     "text": [
      "5\n"
     ]
    }
   ],
   "source": [
    "def solution(point,dish):\n",
    "    dish -= 1\n",
    "    answer = 0\n",
    "    s = sorted(point)\n",
    "    while True:\n",
    "        p = point.pop(0)\n",
    "        if s[0] == p:\n",
    "            if dish == 0:\n",
    "                break\n",
    "            dish -= 1\n",
    "            s.pop(0)\n",
    "        else:\n",
    "            point.append(p)\n",
    "            dish = len(point)-1 if dish==0 else dish-1\n",
    "        answer+=1\n",
    "    return answer\n",
    "\n",
    "point = [1,1,3,2,5]\n",
    "dish = 3\n",
    "print(solution(point,dish))"
   ]
  },
  {
   "cell_type": "code",
   "execution_count": 69,
   "metadata": {},
   "outputs": [
    {
     "name": "stdout",
     "output_type": "stream",
     "text": [
      "{'손오공': 1, '메지터': 2, '비콜로': 3, '야모챠': 4}\n"
     ]
    }
   ],
   "source": [
    "#문제 87\n",
    "name = ['손오공','야모챠','메지터','비콜로']\n",
    "food = [70,10,55,40]\n",
    "\n",
    "def returnFood(x):\n",
    "    return x[1]\n",
    "\n",
    "def solution(name, food):\n",
    "    d={}\n",
    "    result = [ [i,j] for i,j in zip(name,point) ]\n",
    "    result = sorted(result, key=returnFood, reverse = True)\n",
    "    \n",
    "    for i in range(len(result)):\n",
    "        d[result[i][0]] = i+1\n",
    "    return d\n",
    "\n",
    "print(solution(name, food))"
   ]
  },
  {
   "cell_type": "code",
   "execution_count": 66,
   "metadata": {},
   "outputs": [
    {
     "name": "stdout",
     "output_type": "stream",
     "text": [
      "{'A': 1, 'B': 2, 'D': 3, 'C': 4}\n"
     ]
    }
   ],
   "source": [
    "name = 'A C B D'.split(' ')\n",
    "point = list(map(int, '70 10 55 40'.split(' ')))\n",
    "\n",
    "def hojun(x): #이름과 기능을 바꿔서 적용해보세요.\n",
    "    return x[1]\n",
    "\n",
    "def sol(name, point):\n",
    "    d = {}\n",
    "    z = [[i, j] for i, j in zip(name, point)]\n",
    "    z = sorted(z, key=hojun, reverse=True)\n",
    "    \n",
    "    for i in range(len(z)):\n",
    "        d[z[i][0]] = i+1\n",
    "    return d\n",
    "\n",
    "print(sol(name, point))"
   ]
  },
  {
   "cell_type": "code",
   "execution_count": 79,
   "metadata": {},
   "outputs": [
    {
     "name": "stdout",
     "output_type": "stream",
     "text": [
      "[2, 2, 2, 2, 2, 2]\n",
      "[2, 1, 2, 0, 0, 2]\n",
      "[2, 0, 2, 0, 2, 2]\n",
      "[2, 0, 0, 0, 2, 2]\n",
      "[2, 0, 0, 0, 0, 2]\n",
      "[2, 0, 0, 0, 0, 2]\n",
      "[2, 2, 2, 2, 2, 2]\n"
     ]
    }
   ],
   "source": [
    "#문제 88\n",
    "n = 4 #가로\n",
    "m = 5 #세로\n",
    "position = [0,0]\n",
    "obstacle = [[0,1],[1,1],[2,3],[1,3]]\n",
    "\n",
    "def make_map(n,m,position,obstacle):\n",
    "    map = [[0]*(n+2) for _ in range(m+2)]\n",
    "    map[position[0]+1][position[1]+1] = 1\n",
    "    for i in obstacle:\n",
    "        map[i[0]+1][i[1]+1] = 2 if  map[i[0]+1][i[1]+1]!=1 else 1\n",
    "    for i in range(n+2):\n",
    "        map[0][i] = 2\n",
    "        map[m+1][i] = 2\n",
    "    for i in range(m+2):\n",
    "        map[i][0] = 2\n",
    "        map[i][n+1] = 2\n",
    "    for m in map:\n",
    "        print(m)\n",
    "make_map(n,m,position,obstacle)"
   ]
  },
  {
   "cell_type": "code",
   "execution_count": 86,
   "metadata": {
    "scrolled": true
   },
   "outputs": [
    {
     "name": "stdout",
     "output_type": "stream",
     "text": [
      "이동 전\n",
      "[2, 2, 2, 2, 2, 2]\n",
      "[2, 1, 2, 0, 0, 2]\n",
      "[2, 0, 2, 0, 2, 2]\n",
      "[2, 0, 0, 0, 2, 2]\n",
      "[2, 0, 0, 0, 0, 2]\n",
      "[2, 0, 0, 0, 0, 2]\n",
      "[2, 2, 2, 2, 2, 2]\n",
      "\n",
      "이동 후\n",
      "[2, 2, 2, 2, 2, 2]\n",
      "[2, 0, 2, 0, 0, 2]\n",
      "[2, 0, 2, 0, 2, 2]\n",
      "[2, 0, 0, 0, 2, 2]\n",
      "[2, 0, 0, 0, 1, 2]\n",
      "[2, 0, 0, 0, 0, 2]\n",
      "[2, 2, 2, 2, 2, 2]\n"
     ]
    }
   ],
   "source": [
    "#문제 89\n",
    "n = 4 #가로\n",
    "m = 5 #세로\n",
    "position = [0,0]\n",
    "obstacle = [[0,1],[1,1],[2,3],[1,3]]\n",
    "\n",
    "def make_map(n,m,position,obstacle):\n",
    "    worldMap = [[0]*(n+2) for _ in range(m+2)]\n",
    "    worldMap[position[0]+1][position[1]+1] = 1\n",
    "    for i in obstacle:\n",
    "        worldMap[i[0]+1][i[1]+1] = 2 if  worldMap[i[0]+1][i[1]+1]!=1 else 1\n",
    "    for i in range(n+2):\n",
    "        worldMap[0][i] = 2\n",
    "        worldMap[m+1][i] = 2\n",
    "    for i in range(m+2):\n",
    "        worldMap[i][0] = 2\n",
    "        worldMap[i][n+1] = 2\n",
    "    return worldMap\n",
    "\n",
    "def move(worldMap,directions):\n",
    "    # find character's current position\n",
    "    for i,j in enumerate(worldMap):\n",
    "        if 1 in j:\n",
    "            x,y = i,j.index(1)\n",
    "    worldMap[x][y] = 0\n",
    "    for d in directions:\n",
    "        if d == 1 and worldMap[x-1][y] != 2:\n",
    "                x = x-1\n",
    "        elif d==2 and worldMap[x+1][y] != 2:\n",
    "                x = x+1\n",
    "        elif d==3 and worldMap[x][y-1] != 2:\n",
    "                y = y - 1\n",
    "        elif d==4 and worldMap[x][y+1] != 2:\n",
    "                y = y + 1\n",
    "    worldMap[x][y] = 1\n",
    "    for m in worldMap:\n",
    "        print(m)\n",
    "    return [x,y]\n",
    "\n",
    "worldMap = make_map(n,m,position,obstacle)\n",
    "directions = [2,2,2,4,4,4]\n",
    "print('이동 전')\n",
    "for m in worldMap:\n",
    "    print(m)\n",
    "print('\\n이동 후')\n",
    "position = move(worldMap, directions)"
   ]
  },
  {
   "cell_type": "code",
   "execution_count": 89,
   "metadata": {},
   "outputs": [],
   "source": [
    "import random as rand"
   ]
  },
  {
   "cell_type": "code",
   "execution_count": 105,
   "metadata": {},
   "outputs": [
    {
     "name": "stdout",
     "output_type": "stream",
     "text": [
      "['H', 'Z', 'G', 'L', 'R', 'C', 'P', 'S']\n",
      "\n",
      "{'T', 'H', 'P', 'D', 'R', 'W', 'S', 'C'}\n",
      "{'V', 'P', 'O', 'R', 'X', 'Q', 'S', 'G'}\n",
      "{'V', 'P', 'J', 'C', 'A', 'L', 'U', 'G'}\n",
      "{'W', 'C', 'L', 'Q', 'U', 'S', 'K', 'G'}\n",
      "{'P', 'I', 'D', 'R', 'X', 'L', 'K', 'C'}\n",
      "{'V', 'H', 'M', 'R', 'L', 'Q', 'U', 'S'}\n",
      "{'T', 'H', 'O', 'R', 'X', 'L', 'Q', 'G'}\n",
      "{'G', 'P', 'X', 'J', 'S', 'Z', 'C', 'N'}\n",
      "{'H', 'Y', 'J', 'L', 'E', 'Z', 'K', 'C'}\n",
      "{'H', 'J', 'W', 'A', 'L', 'Q', 'S', 'G'}\n",
      "{'P', 'M', 'F', 'C', 'L', 'S', 'G', 'N'}\n",
      "{'M', 'O', 'R', 'X', 'J', 'C', 'Z', 'G'}\n",
      "{'H', 'P', 'F', 'R', 'W', 'A', 'Z', 'G'}\n",
      "{'H', 'Y', 'P', 'F', 'X', 'W', 'L', 'S'}\n",
      "{'V', 'H', 'I', 'J', 'L', 'U', 'Z', 'C'}\n",
      "{'V', 'H', 'Y', 'P', 'F', 'R', 'E', 'Z'}\n",
      "{'V', 'G', 'F', 'O', 'R', 'S', 'Z', 'C'}\n",
      "{'F', 'O', 'R', 'D', 'C', 'A', 'Z', 'G'}\n",
      "{'H', 'P', 'W', 'A', 'L', 'U', 'E', 'G'}\n",
      "{'Y', 'P', 'M', 'X', 'Q', 'S', 'Z', 'C'}\n",
      "{'H', 'P', 'O', 'R', 'W', 'A', 'Z', 'N'}\n"
     ]
    }
   ],
   "source": [
    "#문제 90\n",
    "l = [chr(i) for i in range(65, 91)]\n",
    "total_medicine = []\n",
    "medicine = []\n",
    "\n",
    "# 이해를 돕기 위한 예제\n",
    "for i in range(8):\n",
    "    medicine.append(rand.choice(l))\n",
    "print(medicine)\n",
    "print()\n",
    "for i in range(100):\n",
    "    total_medicine.append(rand.sample(l, 8))\n",
    "\n",
    "def findMedicine(target, medicines):\n",
    "    targetSet = set(target)\n",
    "    result = []\n",
    "    for m in medicines:\n",
    "        mSet = set(m)\n",
    "        if len((mSet & targetSet)) >= 4:\n",
    "            result.append(mSet)\n",
    "    return result\n",
    "\n",
    "for r in findMedicine(medicine, total_medicine):\n",
    "    print(r)"
   ]
  }
 ],
 "metadata": {
  "kernelspec": {
   "display_name": "Python 3.7.6 64-bit ('base': conda)",
   "language": "python",
   "name": "python37664bitbaseconda8391ded08ec54e87b7dceb008b4b8c9b"
  },
  "language_info": {
   "codemirror_mode": {
    "name": "ipython",
    "version": 3
   },
   "file_extension": ".py",
   "mimetype": "text/x-python",
   "name": "python",
   "nbconvert_exporter": "python",
   "pygments_lexer": "ipython3",
   "version": "3.7.6"
  }
 },
 "nbformat": 4,
 "nbformat_minor": 4
}
