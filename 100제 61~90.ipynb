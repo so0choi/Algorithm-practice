{
 "cells": [
  {
   "cell_type": "code",
   "execution_count": 16,
   "metadata": {},
   "outputs": [
    {
     "name": "stdout",
     "output_type": "stream",
     "text": [
      "aaabbccccccasss\n",
      "a3b2c6a1s3\n"
     ]
    }
   ],
   "source": [
    "#문제 61\n",
    "text = input()\n",
    "result=''\n",
    "storeString = text[0]\n",
    "count = 0\n",
    "for t in text:\n",
    "    if t == storeString:\n",
    "        count += 1\n",
    "    else:\n",
    "        result += storeString +str(count)\n",
    "        storeString = t\n",
    "        count = 1\n",
    "# 마지막 문자 갯수 세고 반복문 빠져나오게 되므로 뒤에 붙여줘야함\n",
    "result += storeString+str(count)\n",
    "print(result)"
   ]
  },
  {
   "cell_type": "code",
   "execution_count": 11,
   "metadata": {},
   "outputs": [
    {
     "name": "stdout",
     "output_type": "stream",
     "text": [
      "['b', 'b']\n",
      "['aaabbcccccca']\n",
      "[('a', 'aa'), ('b', 'b'), ('c', 'ccccc'), ('a', ''), ('s', 'ss')]\n",
      "a3b2c6a1s3\n"
     ]
    }
   ],
   "source": [
    "input_data = 'aaabbccccccasss'\n",
    "rule = re.compile('[a-c]+')\n",
    "\n",
    "one = re.findall('b', input_data)\n",
    "two = re.findall(rule, input_data)\n",
    "three = re.findall('(\\\\w)(\\\\1*)', input_data)\n",
    "\n",
    "print(one)\n",
    "print(two)\n",
    "print(three)\n",
    "\n",
    "s=''\n",
    "for i,j in three:\n",
    "    s+= i+ str(len(j)+1)\n",
    "print(s)"
   ]
  },
  {
   "cell_type": "code",
   "execution_count": 18,
   "metadata": {},
   "outputs": [
    {
     "name": "stdout",
     "output_type": "stream",
     "text": [
      "20190923\n"
     ]
    }
   ],
   "source": [
    "#문제 62 \n",
    "text = 'aacdddddddddeee'\n",
    "result = ''\n",
    "result += str(text.count('a'))\n",
    "result += str(text.count('b'))\n",
    "result += str(text.count('c'))\n",
    "result += str(text.count('d'))\n",
    "result += str(text.count('b'))\n",
    "result += str(text.count('d'))\n",
    "result += str(text.count('a'))\n",
    "result += str(text.count('e'))\n",
    "print(result)\n",
    "\n",
    "#더 깔끔한 답\n",
    "# a=string.count('a') #2\n",
    "# b=string.count('b') #0\n",
    "# c=string.count('c') #1\n",
    "# d=string.count('d') #9\n",
    "# print(int(str(a)+str(b)+str(c)+str(d)+str(b)+str(d)+str(a)+str(a+1)))"
   ]
  },
  {
   "cell_type": "code",
   "execution_count": 20,
   "metadata": {},
   "outputs": [
    {
     "name": "stdout",
     "output_type": "stream",
     "text": [
      "복잡한 세상 편하게 살자\n",
      "복세편살\n"
     ]
    }
   ],
   "source": [
    "#문제 63\n",
    "text = input().split()\n",
    "result = ''\n",
    "for t in text:\n",
    "    result += t[0]\n",
    "print(result)"
   ]
  },
  {
   "cell_type": "code",
   "execution_count": 22,
   "metadata": {},
   "outputs": [
    {
     "name": "stdout",
     "output_type": "stream",
     "text": [
      "28\n",
      "4\n"
     ]
    }
   ],
   "source": [
    "#문제 64\n",
    "weight = int(input())\n",
    "result = 0\n",
    "while True:\n",
    "    if weight%7 ==0:\n",
    "        result += weight//7\n",
    "        print(result)\n",
    "        break\n",
    "    weight -= 3\n",
    "    result+=1\n",
    "    if weight < 0:\n",
    "        print(-1)\n",
    "        break"
   ]
  },
  {
   "cell_type": "code",
   "execution_count": 28,
   "metadata": {},
   "outputs": [
    {
     "name": "stdout",
     "output_type": "stream",
     "text": [
      "[[1, 'a'], ['b', 2], [3, 'c'], ['d', 4]]\n"
     ]
    }
   ],
   "source": [
    "# 문제 65\n",
    "a = [1,2,3,4]\n",
    "b = ['a','b','c','d']\n",
    "result = []\n",
    "for i in range(4):\n",
    "    if i %2 == 0:\n",
    "        result.append([a[i],b[i]])\n",
    "    else:\n",
    "        result.append([b[i],a[i]])\n",
    "print(result)"
   ]
  },
  {
   "cell_type": "code",
   "execution_count": 62,
   "metadata": {},
   "outputs": [
    {
     "name": "stdout",
     "output_type": "stream",
     "text": [
      "['ABCDEF: yes', 'BCAD: no', 'ADEFQRX: yes', 'BEDFG: yes', 'AEBFDGCH: no']\n"
     ]
    }
   ],
   "source": [
    "# 문제 66\n",
    "tower = ['ABCDEF', 'BCAD', 'ADEFQRX', 'BEDFG', 'AEBFDGCH']\n",
    "rule = \"ABCD\"\n",
    "\n",
    "def checkTower(tower,rule):\n",
    "    result = []\n",
    "    for t in tower:\n",
    "        sign = 0 \n",
    "        for i in range(len(t)):\n",
    "            for j in range(1,len(rule)):\n",
    "                if t[i] == rule[j]:\n",
    "                    for temp in t[i+1:]:\n",
    "                        if temp in rule[:j]:\n",
    "                            result.append( t+': no')\n",
    "                            sign = -1\n",
    "                            break\n",
    "                if sign == -1:\n",
    "                    break\n",
    "        if sign == 0:\n",
    "            result.append(t+': yes')\n",
    "    return result\n",
    "\n",
    "print(checkTower(tower,rule))\n",
    "#내가 짠 코드 - 너무 중첩되어있고 복잡하고 비효율적인거 같다"
   ]
  },
  {
   "cell_type": "code",
   "execution_count": 64,
   "metadata": {},
   "outputs": [
    {
     "name": "stdout",
     "output_type": "stream",
     "text": [
      "['가능', '불가능', '가능', '가능', '불가능']\n"
     ]
    }
   ],
   "source": [
    "def solution(전체블록, 규칙):\n",
    "    answer = []\n",
    "    for 부분블록 in 전체블록:\n",
    "        answer.append(블록순서체크(부분블록, 규칙))\n",
    "    return answer\n",
    "\n",
    "def 블록순서체크(부분블록, 규칙):\n",
    "    임시변수 = 0 # 첫번째 규칙 index 저장\n",
    "    for 문자 in 부분블록:\n",
    "        if 문자 in 규칙:\n",
    "            if 임시변수 > 규칙.index(문자):\n",
    "                return '불가능'\n",
    "            임시변수 = 규칙.index(문자)\n",
    "    return '가능'\n",
    "\n",
    "전체블록 = ['ABCDEF', 'BCAD', 'ADEFQRX', 'BEDFG', 'AEBFDGCH']\n",
    "규칙 = 'ABCD'\n",
    "\n",
    "print(solution(전체블록, 규칙))"
   ]
  },
  {
   "cell_type": "code",
   "execution_count": 66,
   "metadata": {},
   "outputs": [
    {
     "name": "stdout",
     "output_type": "stream",
     "text": [
      "['yes', 'no', 'yes', 'yes', 'no']\n"
     ]
    }
   ],
   "source": [
    "def solution(towers, rule):\n",
    "    result = []\n",
    "    for tower in towers:\n",
    "        result.append(checkTower(tower, rule))\n",
    "    return result\n",
    "\n",
    "# 각 문자들의 rule안 인덱스만 비교하면 됨\n",
    "def checkTower(tower,rule):\n",
    "    checkRuleIndex = 0\n",
    "    for t in tower:\n",
    "        if t in rule:\n",
    "            if checkRuleIndex > rule.index(t):\n",
    "                return 'no'\n",
    "            checkRuleIndex = rule.index(t)\n",
    "    return 'yes'\n",
    "\n",
    "전체블록 = ['ABCDEF', 'BCAD', 'ADEFQRX', 'BEDFG', 'AEBFDGCH']\n",
    "규칙 = 'ABCD'\n",
    "\n",
    "print(solution(전체블록, 규칙))"
   ]
  },
  {
   "cell_type": "code",
   "execution_count": 68,
   "metadata": {},
   "outputs": [
    {
     "name": "stdout",
     "output_type": "stream",
     "text": [
      "59\n",
      "[4, 12]\n"
     ]
    }
   ],
   "source": [
    "# 문제 67\n",
    "n = int(input())\n",
    "def solution(n):\n",
    "    i = 2\n",
    "    temp = 0\n",
    "    while True:\n",
    "        if i * (i-1) //2 < n:\n",
    "            i += 1\n",
    "        else:\n",
    "            temp = (i-1) * (i-2) //2\n",
    "            break\n",
    "    return [n-temp, i]\n",
    "\n",
    "print(solution(n))"
   ]
  },
  {
   "cell_type": "code",
   "execution_count": 82,
   "metadata": {},
   "outputs": [
    {
     "name": "stdout",
     "output_type": "stream",
     "text": [
      "['지나갔습니다', '0시간 40분', '1시간 33분']\n"
     ]
    }
   ],
   "source": [
    "# 문제 68\n",
    "bus = [\"12:30\", \"13:20\", \"14:13\"]\n",
    "time = '12:40'\n",
    "result = []\n",
    "for t in bus:\n",
    "    bush, busm = map(int,t.split(':'))\n",
    "    nowh, nowm = map(int,time.split(':'))\n",
    "    caltime = (60 * bush + busm )-(60 * nowh + nowm)\n",
    "    if caltime < 0:\n",
    "        result.append('지나갔습니다')\n",
    "    else:\n",
    "        a = caltime // 60\n",
    "        b = caltime % 60\n",
    "        result.append(str(a)+'시간 '+str(b)+'분')\n",
    "print(result)"
   ]
  },
  {
   "cell_type": "code",
   "execution_count": 123,
   "metadata": {},
   "outputs": [
    {
     "name": "stdout",
     "output_type": "stream",
     "text": [
      "100\n",
      "[[3, 97], [11, 89], [17, 83], [29, 71], [41, 59], [47, 53]]\n",
      "[47, 53]\n",
      "[3, 97]\n"
     ]
    }
   ],
   "source": [
    "## 문제 69\n",
    "\n",
    "def findAllGold(n):\n",
    "    primeList = findPrime(n)\n",
    "    result = []\n",
    "    for i in primeList:\n",
    "        for j in primeList:\n",
    "            if i + j == n:\n",
    "                result.append([i,j])\n",
    "    return result[:len(result)//2]\n",
    "    \n",
    "def findMinGold(n):\n",
    "    primeList = findPrime(n)\n",
    "    result = []\n",
    "    for i in primeList:\n",
    "        for j in primeList:\n",
    "            if i + j == n:\n",
    "                result.append([i,j])\n",
    "    return result[len(result)//2-1]\n",
    "\n",
    "def findMaxGold(n):\n",
    "    primeList = findPrime(n)\n",
    "    for i in primeList:\n",
    "        for j in primeList:\n",
    "            if i + j == n:\n",
    "                return [i,j]\n",
    "    \n",
    "    \n",
    "def findPrime(n):\n",
    "    if n == 2:\n",
    "        return [2]\n",
    "    result = [True] * (n+1)\n",
    "    for i in range(2, int(n**(1/2))+1):\n",
    "        if result[i] == True:\n",
    "            for j in range(i+i,n+1,i):\n",
    "                result[j] = False\n",
    "    return [i for i in range(2,len(result)) if result[i]]\n",
    "\n",
    "n = int(input())\n",
    "print(findAllGold(n))\n",
    "print(findMinGold(n))\n",
    "print(findMaxGold(n))"
   ]
  },
  {
   "cell_type": "code",
   "execution_count": 2,
   "metadata": {},
   "outputs": [
    {
     "name": "stdout",
     "output_type": "stream",
     "text": [
      "100\n",
      "[3, 97, 11, 89, 17, 83, 29, 71, 41, 59, 47, 53]\n",
      "47 53\n"
     ]
    }
   ],
   "source": [
    "#골드바흐의 추측\n",
    "def cal():\n",
    "    n=10000*2\n",
    "    primes=[]    \n",
    "    a = [False,False] + [True]*(n-1)\n",
    "\n",
    "    for i in range(2,n+1):\n",
    "        if a[i]:\n",
    "            primes.append(i)\n",
    "        for j in range(2*i, n+1, i):\n",
    "            a[j] = False\n",
    "            \n",
    "    return primes\n",
    "\n",
    "a = cal()\n",
    "#골드바흐파티션\n",
    "n = int(input())\n",
    "l = []\n",
    "k = []\t\n",
    "\n",
    "for i in range(2, n//2+1):    \n",
    "    if i in a and n-i in a:\n",
    "        l.append(i)\n",
    "        l.append(n-i)\n",
    "print(l)\n",
    "for i in range(0,len(l)-1,2):\n",
    "    k.append(l[i+1]-l[i])\n",
    "    \n",
    "index = k.index(min(k))*2\n",
    "print(l[index], l[index+1])"
   ]
  },
  {
   "cell_type": "code",
   "execution_count": 5,
   "metadata": {},
   "outputs": [
    {
     "name": "stdout",
     "output_type": "stream",
     "text": [
      "[[1, 6], [2, 12]]\n"
     ]
    }
   ],
   "source": [
    "# 문제 70\n",
    "a = ([1,2],[2,4])\n",
    "b = ([1,0],[0,3])\n",
    "def solution(a,b):\n",
    "    if len(a[0]) != len(b):\n",
    "        return '-1'\n",
    "    \n",
    "    result = []\n",
    "    for i in range(len(b)):\n",
    "        result.append([0]*len(a[0]))\n",
    "        \n",
    "    for i in range(len(result)):\n",
    "        for j in range(len(result[i])):\n",
    "            for k in range(len(a[i])):\n",
    "                result[i][j] += a[i][k] * b[k][j]\n",
    "    return result\n",
    "\n",
    "print(solution(a,b))"
   ]
  },
  {
   "cell_type": "code",
   "execution_count": 10,
   "metadata": {},
   "outputs": [
    {
     "name": "stdout",
     "output_type": "stream",
     "text": [
      "['E', 'A', 'C', 'B', 'D', 'F']\n"
     ]
    }
   ],
   "source": [
    "# 문제 71\n",
    "graph = {'E': set(['D', 'A']),\n",
    "         'F': set(['D']),\n",
    "         'A': set(['E', 'C', 'B']),\n",
    "         'B': set(['A']),\n",
    "         'C': set(['A']),\n",
    "         'D': set(['E','F'])}\n",
    "\n",
    "def dfs(graph, start):\n",
    "    visited = []\n",
    "    stack = [start]\n",
    "    \n",
    "    while stack:\n",
    "        n = stack.pop()\n",
    "        if n not in visited:\n",
    "            visited.append(n)\n",
    "            stack += graph[n] - set(visited)\n",
    "    return visited\n",
    "\n",
    "print(dfs(graph,'E'))"
   ]
  },
  {
   "cell_type": "code",
   "execution_count": 12,
   "metadata": {},
   "outputs": [
    {
     "name": "stdout",
     "output_type": "stream",
     "text": [
      "['E', 'D', 'F', 'A', 'C', 'B']\n"
     ]
    }
   ],
   "source": [
    "tree = {\n",
    "        'A': ['B', 'C', 'E'],\n",
    "        'B': ['A'],\n",
    "        'C': ['A'],\n",
    "        'D': ['E', 'F'],\n",
    "        'E': ['A', 'D'],\n",
    "        'F': ['D']\n",
    "}\n",
    "\n",
    "def dfs(data, start):\n",
    "    visited = []\n",
    "    stack = [start]\n",
    "    while stack:\n",
    "        n = stack.pop()\n",
    "        if n not in visited:\n",
    "            visited.append(n)\n",
    "            stack.extend(data[n])\n",
    "\n",
    "    return visited\n",
    "\n",
    "print(dfs(tree, 'E'))"
   ]
  },
  {
   "cell_type": "code",
   "execution_count": 13,
   "metadata": {},
   "outputs": [
    {
     "name": "stdout",
     "output_type": "stream",
     "text": [
      "['E', 'D', 'A', 'F', 'B', 'C']\n"
     ]
    }
   ],
   "source": [
    "#문제 72\n",
    "graph = {'E': set(['D', 'A']),\n",
    "         'F': set(['D']),\n",
    "         'A': set(['E', 'C', 'B']),\n",
    "         'B': set(['A']),\n",
    "         'C': set(['A']),\n",
    "         'D': set(['E','F'])}\n",
    "def bfs(graph, start):\n",
    "    visited = []\n",
    "    queue =[start]\n",
    "    while queue:\n",
    "        n = queue.pop(0)\n",
    "        if n not in visited:\n",
    "            visited.append(n)\n",
    "            queue += graph[n] - set(visited)\n",
    "    return visited\n",
    "\n",
    "print(bfs(graph,'E'))"
   ]
  },
  {
   "cell_type": "code",
   "execution_count": 16,
   "metadata": {},
   "outputs": [
    {
     "name": "stdout",
     "output_type": "stream",
     "text": [
      "2\n"
     ]
    }
   ],
   "source": [
    "#문제 73 bfs 이용한 최단거리 \n",
    "graph = {'A': set(['B', 'C']),\n",
    "         'B': set(['A', 'D', 'E']),\n",
    "         'C': set(['A', 'F']),\n",
    "         'D': set(['B']),\n",
    "         'E': set(['B', 'F']),\n",
    "         'F': set(['C', 'E'])}\n",
    "start = 'A'\n",
    "end = 'F'\n",
    "def solution(graph, start, end):\n",
    "    queue = [start]\n",
    "    visited = [start]\n",
    "    count = -1\n",
    "    while queue:\n",
    "        count += 1\n",
    "        size = len(queue)\n",
    "        for i in range(size):\n",
    "            node = queue.pop(0)\n",
    "            if node == end:\n",
    "                return count\n",
    "            for next_node in graph[node]:\n",
    "                if next_node not in visited:\n",
    "                    visited.append(next_node)\n",
    "                    queue.append(next_node)\n",
    "        \n",
    "print(solution(graph, start, end))    "
   ]
  },
  {
   "cell_type": "code",
   "execution_count": 22,
   "metadata": {},
   "outputs": [
    {
     "name": "stdout",
     "output_type": "stream",
     "text": [
      "6\n"
     ]
    }
   ],
   "source": [
    "#문제 74 \n",
    "graph = {1: [2, 3, 4],\n",
    "2: [1, 3, 4, 5, 6],\n",
    "3: [1, 2, 7],\n",
    "4: [1, 2, 5, 6],\n",
    "5: [2, 4, 6, 7],\n",
    "6: [2, 4, 5, 7],\n",
    "7: [3, 5, 6]} \n",
    "\n",
    "start = 1\n",
    "end = 7\n",
    "queue = [start]\n",
    "visited = []\n",
    "\n",
    "def solution(n,visited):\n",
    "    if n[-1] == end:\n",
    "        return len(visited)\n",
    "    \n",
    "    if n[-1] in visited:\n",
    "        return len(visited)\n",
    "    \n",
    "    visited.append(n[-1])\n",
    "    length = 0\n",
    "    \n",
    "    for next_node in graph[n[-1]]:\n",
    "        n.append(next_node)\n",
    "        length = max(length, solution(n, visited))\n",
    "        queue.pop(-1)\n",
    "    return length\n",
    "\n",
    "\n",
    "print(solution(queue, visited))"
   ]
  },
  {
   "cell_type": "code",
   "execution_count": 17,
   "metadata": {},
   "outputs": [
    {
     "name": "stdout",
     "output_type": "stream",
     "text": [
      "1 7\n",
      "6\n"
     ]
    }
   ],
   "source": [
    "#문제 75\n",
    "num = ['3','6','9']\n",
    "data = input()\n",
    "i = 1\n",
    "count = 0\n",
    "while True:\n",
    "    for n in num:\n",
    "        i *= n\n",
    "        if i > data:\n",
    "             break\n",
    "        count+=1\n",
    "    i "
   ]
  },
  {
   "cell_type": "code",
   "execution_count": null,
   "metadata": {},
   "outputs": [],
   "source": []
  }
 ],
 "metadata": {
  "kernelspec": {
   "display_name": "Python 3.7.6 64-bit ('base': conda)",
   "language": "python",
   "name": "python37664bitbaseconda8391ded08ec54e87b7dceb008b4b8c9b"
  },
  "language_info": {
   "codemirror_mode": {
    "name": "ipython",
    "version": 3
   },
   "file_extension": ".py",
   "mimetype": "text/x-python",
   "name": "python",
   "nbconvert_exporter": "python",
   "pygments_lexer": "ipython3",
   "version": "3.7.6"
  }
 },
 "nbformat": 4,
 "nbformat_minor": 4
}
