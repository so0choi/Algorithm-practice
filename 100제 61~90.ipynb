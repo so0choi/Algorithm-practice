{
 "cells": [
  {
   "cell_type": "code",
   "execution_count": 16,
   "metadata": {},
   "outputs": [
    {
     "name": "stdout",
     "output_type": "stream",
     "text": [
      "aaabbccccccasss\n",
      "a3b2c6a1s3\n"
     ]
    }
   ],
   "source": [
    "#문제 61\n",
    "text = input()\n",
    "result=''\n",
    "storeString = text[0]\n",
    "count = 0\n",
    "for t in text:\n",
    "    if t == storeString:\n",
    "        count += 1\n",
    "    else:\n",
    "        result += storeString +str(count)\n",
    "        storeString = t\n",
    "        count = 1\n",
    "# 마지막 문자 갯수 세고 반복문 빠져나오게 되므로 뒤에 붙여줘야함\n",
    "result += storeString+str(count)\n",
    "print(result)"
   ]
  },
  {
   "cell_type": "code",
   "execution_count": 11,
   "metadata": {},
   "outputs": [
    {
     "name": "stdout",
     "output_type": "stream",
     "text": [
      "['b', 'b']\n",
      "['aaabbcccccca']\n",
      "[('a', 'aa'), ('b', 'b'), ('c', 'ccccc'), ('a', ''), ('s', 'ss')]\n",
      "a3b2c6a1s3\n"
     ]
    }
   ],
   "source": [
    "input_data = 'aaabbccccccasss'\n",
    "rule = re.compile('[a-c]+')\n",
    "\n",
    "one = re.findall('b', input_data)\n",
    "two = re.findall(rule, input_data)\n",
    "three = re.findall('(\\\\w)(\\\\1*)', input_data)\n",
    "\n",
    "print(one)\n",
    "print(two)\n",
    "print(three)\n",
    "\n",
    "s=''\n",
    "for i,j in three:\n",
    "    s+= i+ str(len(j)+1)\n",
    "print(s)"
   ]
  },
  {
   "cell_type": "code",
   "execution_count": 18,
   "metadata": {},
   "outputs": [
    {
     "name": "stdout",
     "output_type": "stream",
     "text": [
      "20190923\n"
     ]
    }
   ],
   "source": [
    "#문제 62 \n",
    "text = 'aacdddddddddeee'\n",
    "result = ''\n",
    "result += str(text.count('a'))\n",
    "result += str(text.count('b'))\n",
    "result += str(text.count('c'))\n",
    "result += str(text.count('d'))\n",
    "result += str(text.count('b'))\n",
    "result += str(text.count('d'))\n",
    "result += str(text.count('a'))\n",
    "result += str(text.count('e'))\n",
    "print(result)\n",
    "\n",
    "#더 깔끔한 답\n",
    "# a=string.count('a') #2\n",
    "# b=string.count('b') #0\n",
    "# c=string.count('c') #1\n",
    "# d=string.count('d') #9\n",
    "# print(int(str(a)+str(b)+str(c)+str(d)+str(b)+str(d)+str(a)+str(a+1)))"
   ]
  },
  {
   "cell_type": "code",
   "execution_count": 20,
   "metadata": {},
   "outputs": [
    {
     "name": "stdout",
     "output_type": "stream",
     "text": [
      "복잡한 세상 편하게 살자\n",
      "복세편살\n"
     ]
    }
   ],
   "source": [
    "#문제 63\n",
    "text = input().split()\n",
    "result = ''\n",
    "for t in text:\n",
    "    result += t[0]\n",
    "print(result)"
   ]
  },
  {
   "cell_type": "code",
   "execution_count": 22,
   "metadata": {},
   "outputs": [
    {
     "name": "stdout",
     "output_type": "stream",
     "text": [
      "28\n",
      "4\n"
     ]
    }
   ],
   "source": [
    "#문제 64\n",
    "weight = int(input())\n",
    "result = 0\n",
    "while True:\n",
    "    if weight%7 ==0:\n",
    "        result += weight//7\n",
    "        print(result)\n",
    "        break\n",
    "    weight -= 3\n",
    "    result+=1\n",
    "    if weight < 0:\n",
    "        print(-1)\n",
    "        break"
   ]
  },
  {
   "cell_type": "code",
   "execution_count": 28,
   "metadata": {},
   "outputs": [
    {
     "name": "stdout",
     "output_type": "stream",
     "text": [
      "[[1, 'a'], ['b', 2], [3, 'c'], ['d', 4]]\n"
     ]
    }
   ],
   "source": [
    "# 문제 65\n",
    "a = [1,2,3,4]\n",
    "b = ['a','b','c','d']\n",
    "result = []\n",
    "for i in range(4):\n",
    "    if i %2 == 0:\n",
    "        result.append([a[i],b[i]])\n",
    "    else:\n",
    "        result.append([b[i],a[i]])\n",
    "print(result)"
   ]
  },
  {
   "cell_type": "code",
   "execution_count": 62,
   "metadata": {},
   "outputs": [
    {
     "name": "stdout",
     "output_type": "stream",
     "text": [
      "['ABCDEF: yes', 'BCAD: no', 'ADEFQRX: yes', 'BEDFG: yes', 'AEBFDGCH: no']\n"
     ]
    }
   ],
   "source": [
    "# 문제 66\n",
    "tower = ['ABCDEF', 'BCAD', 'ADEFQRX', 'BEDFG', 'AEBFDGCH']\n",
    "rule = \"ABCD\"\n",
    "\n",
    "def checkTower(tower,rule):\n",
    "    result = []\n",
    "    for t in tower:\n",
    "        sign = 0 \n",
    "        for i in range(len(t)):\n",
    "            for j in range(1,len(rule)):\n",
    "                if t[i] == rule[j]:\n",
    "                    for temp in t[i+1:]:\n",
    "                        if temp in rule[:j]:\n",
    "                            result.append( t+': no')\n",
    "                            sign = -1\n",
    "                            break\n",
    "                if sign == -1:\n",
    "                    break\n",
    "        if sign == 0:\n",
    "            result.append(t+': yes')\n",
    "    return result\n",
    "\n",
    "print(checkTower(tower,rule))\n",
    "#내가 짠 코드 - 너무 중첩되어있고 복잡하고 비효율적인거 같다"
   ]
  },
  {
   "cell_type": "code",
   "execution_count": 64,
   "metadata": {},
   "outputs": [
    {
     "name": "stdout",
     "output_type": "stream",
     "text": [
      "['가능', '불가능', '가능', '가능', '불가능']\n"
     ]
    }
   ],
   "source": [
    "def solution(전체블록, 규칙):\n",
    "    answer = []\n",
    "    for 부분블록 in 전체블록:\n",
    "        answer.append(블록순서체크(부분블록, 규칙))\n",
    "    return answer\n",
    "\n",
    "def 블록순서체크(부분블록, 규칙):\n",
    "    임시변수 = 0 # 첫번째 규칙 index 저장\n",
    "    for 문자 in 부분블록:\n",
    "        if 문자 in 규칙:\n",
    "            if 임시변수 > 규칙.index(문자):\n",
    "                return '불가능'\n",
    "            임시변수 = 규칙.index(문자)\n",
    "    return '가능'\n",
    "\n",
    "전체블록 = ['ABCDEF', 'BCAD', 'ADEFQRX', 'BEDFG', 'AEBFDGCH']\n",
    "규칙 = 'ABCD'\n",
    "\n",
    "print(solution(전체블록, 규칙))"
   ]
  },
  {
   "cell_type": "code",
   "execution_count": 66,
   "metadata": {},
   "outputs": [
    {
     "name": "stdout",
     "output_type": "stream",
     "text": [
      "['yes', 'no', 'yes', 'yes', 'no']\n"
     ]
    }
   ],
   "source": [
    "def solution(towers, rule):\n",
    "    result = []\n",
    "    for tower in towers:\n",
    "        result.append(checkTower(tower, rule))\n",
    "    return result\n",
    "\n",
    "# 각 문자들의 rule안 인덱스만 비교하면 됨\n",
    "def checkTower(tower,rule):\n",
    "    checkRuleIndex = 0\n",
    "    for t in tower:\n",
    "        if t in rule:\n",
    "            if checkRuleIndex > rule.index(t):\n",
    "                return 'no'\n",
    "            checkRuleIndex = rule.index(t)\n",
    "    return 'yes'\n",
    "\n",
    "전체블록 = ['ABCDEF', 'BCAD', 'ADEFQRX', 'BEDFG', 'AEBFDGCH']\n",
    "규칙 = 'ABCD'\n",
    "\n",
    "print(solution(전체블록, 규칙))"
   ]
  },
  {
   "cell_type": "code",
   "execution_count": 68,
   "metadata": {},
   "outputs": [
    {
     "name": "stdout",
     "output_type": "stream",
     "text": [
      "59\n",
      "[4, 12]\n"
     ]
    }
   ],
   "source": [
    "# 문제 67\n",
    "n = int(input())\n",
    "def solution(n):\n",
    "    i = 2\n",
    "    temp = 0\n",
    "    while True:\n",
    "        if i * (i-1) //2 < n:\n",
    "            i += 1\n",
    "        else:\n",
    "            temp = (i-1) * (i-2) //2\n",
    "            break\n",
    "    return [n-temp, i]\n",
    "\n",
    "print(solution(n))"
   ]
  },
  {
   "cell_type": "code",
   "execution_count": 82,
   "metadata": {},
   "outputs": [
    {
     "name": "stdout",
     "output_type": "stream",
     "text": [
      "['지나갔습니다', '0시간 40분', '1시간 33분']\n"
     ]
    }
   ],
   "source": [
    "# 문제 68\n",
    "bus = [\"12:30\", \"13:20\", \"14:13\"]\n",
    "time = '12:40'\n",
    "result = []\n",
    "for t in bus:\n",
    "    bush, busm = map(int,t.split(':'))\n",
    "    nowh, nowm = map(int,time.split(':'))\n",
    "    caltime = (60 * bush + busm )-(60 * nowh + nowm)\n",
    "    if caltime < 0:\n",
    "        result.append('지나갔습니다')\n",
    "    else:\n",
    "        a = caltime // 60\n",
    "        b = caltime % 60\n",
    "        result.append(str(a)+'시간 '+str(b)+'분')\n",
    "print(result)"
   ]
  },
  {
   "cell_type": "code",
   "execution_count": null,
   "metadata": {},
   "outputs": [],
   "source": [
    "# 문제 69\n",
    "n = int(input())\n",
    "def findGold(n):\n",
    "    "
   ]
  }
 ],
 "metadata": {
  "kernelspec": {
   "display_name": "Python 3.7.6 64-bit ('base': conda)",
   "language": "python",
   "name": "python37664bitbaseconda8391ded08ec54e87b7dceb008b4b8c9b"
  },
  "language_info": {
   "codemirror_mode": {
    "name": "ipython",
    "version": 3
   },
   "file_extension": ".py",
   "mimetype": "text/x-python",
   "name": "python",
   "nbconvert_exporter": "python",
   "pygments_lexer": "ipython3",
   "version": "3.7.6"
  }
 },
 "nbformat": 4,
 "nbformat_minor": 4
}
