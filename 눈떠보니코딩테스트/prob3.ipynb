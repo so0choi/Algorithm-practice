{
 "cells": [
  {
   "cell_type": "code",
   "execution_count": 3,
   "metadata": {},
   "outputs": [],
   "source": [
    "import datetime"
   ]
  },
  {
   "cell_type": "markdown",
   "metadata": {},
   "source": [
    "라이캣은 동료가 된 자바독과 함께 섬으로 향했습니다.\n",
    "항구에서 배를 기다리는데 배에 탈 수 있는 사람의 수는 시간마다 다르다는 사실을 알게 되었습니다.\n",
    "\n",
    "1. 한 배에는  탈 수 있는 인원이 정시에는 25명, 10분마다 15명씩 탈 수 있습니다.\n",
    "2. 배는 매일 9시부터 21시 전까지(21시를 포함하지 않습니다) 10분단위로 들어옵니다. \n",
    "3. 전체 대기 인원은 14,000,605명입니다. 우리는 14,000,606번째와 14,000,607번째에 배를 타게 됩니다. 앞사람이 아프거나, 대기를 못하고 빠질 경우 대기인원이 줄어들 수도 있습니다. **라이캣과 자바독이 다른 배를 타야 할 경우에는 뒷배를 타야 합니다.**\n",
    "    - 라이캣과 자바독이 일에 마지막 배, 월에 마지막 배, 연에 마지막 배를 타는 경우는 없다고 가정합니다.\n",
    "4. 1월은 1024일, 2월은 512일, 3월은 256일, 4월은 128일, 5월은 64일, 5월은 32일, 6월은 16일, 7월은 8일, 9월은 4일, 10월은 2일이며, 10월까지밖에 없습니다.\n",
    "5. 시간의 개념은 동일합니다. (하루는 24시간, 1시간 60분, 1분 60초)\n",
    "    - **현재 날짜는 2020년 1월 1일 입니다.**\n",
    "6. 배에 타는 순간 자바독이 화장실이 급하다 하여 화장실에 갔으며, 현재시간에 '분'만큼 배 출발이 늦어졌습니다.\n",
    "7. 배는 휴일도 동일하게 운항됩니다. 배는 천재지변에 영향을 받지 않습니다. 마법으로 날아다니거든요.\n",
    "8. **라이캣과 자바독이 배에 타는 날짜를 구하세요.**\n",
    "\n",
    "    ```python\n",
    "    **입력**\n",
    "    대기인원 = 14000605\n",
    "\n",
    "    **출력**\n",
    "    2025년 2월 413일 11시 0분 출발\n",
    "\n",
    "    **입력**\n",
    "    대기인원 = 1200202\n",
    "\n",
    "    **출력**\n",
    "    2020년 1월 1000일 11시 0분 출발\n",
    "\n",
    "    ```"
   ]
  },
  {
   "cell_type": "code",
   "execution_count": 9,
   "metadata": {},
   "outputs": [
    {
     "name": "stdout",
     "output_type": "stream",
     "text": [
      "2025년 2월 413일 11시 53분 출발\n"
     ]
    }
   ],
   "source": [
    "def solution(n):\n",
    "    days_per_year = sum([2**i for i in range(1,11)])\n",
    "    \n",
    "    days = n // 1200 #필요한 총 일 수\n",
    "    years = days//days_per_year # 필요 년도 수 \n",
    "    days= days % days_per_year #년도 빼고 남은 일 수\n",
    "    month = 1\n",
    "    sum_monthdays = 0\n",
    "    for i in range(10,0,-1):\n",
    "        temp_month = sum_monthdays\n",
    "        sum_monthdays+=2**i\n",
    "        if sum_monthdays > days:\n",
    "            break\n",
    "        month+=1\n",
    "    days = days - temp_month\n",
    "    \n",
    "    left_ppl = n % 1200\n",
    "    hour = left_ppl // 100 + 9\n",
    "    minute_list = [25,40,55,70,85,100]\n",
    "    left_ppl_at_time = left_ppl % 100 +1\n",
    "    for i in minute_list:\n",
    "        if i> left_ppl_at_time:\n",
    "            minute = minute_list.index(i) * 10\n",
    "            break\n",
    "    if left_ppl%100 == 9:\n",
    "        hour+=1\n",
    "        minute = 0\n",
    "        \n",
    "    minute += datetime.datetime.today().minute\n",
    "    if minute>=60:\n",
    "        minute -= 60\n",
    "        hour += 1\n",
    "        \n",
    "    print('{}년 {}월 {}일 {}시 {}분 출발'.format(2020+years,month,days,hour,minute ))\n",
    "\n",
    "n = 14000605\n",
    "solution(n)"
   ]
  }
 ],
 "metadata": {
  "kernelspec": {
   "display_name": "Python 3",
   "language": "python",
   "name": "python3"
  },
  "language_info": {
   "codemirror_mode": {
    "name": "ipython",
    "version": 3
   },
   "file_extension": ".py",
   "mimetype": "text/x-python",
   "name": "python",
   "nbconvert_exporter": "python",
   "pygments_lexer": "ipython3",
   "version": "3.7.6"
  }
 },
 "nbformat": 4,
 "nbformat_minor": 4
}
