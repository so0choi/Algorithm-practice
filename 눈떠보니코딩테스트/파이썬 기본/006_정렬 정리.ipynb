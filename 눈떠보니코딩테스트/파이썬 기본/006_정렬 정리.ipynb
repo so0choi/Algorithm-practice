{
 "cells": [
  {
   "cell_type": "code",
   "execution_count": 2,
   "metadata": {},
   "outputs": [
    {
     "name": "stdout",
     "output_type": "stream",
     "text": [
      "[10, 66, 77, 54, 32, 11, 15]\n",
      "[5]\n",
      "-----------\n",
      "[66, 77, 54, 32, 11, 15]\n",
      "[5, 10]\n",
      "-----------\n",
      "[66, 77, 54, 32, 15]\n",
      "[5, 10, 11]\n",
      "-----------\n",
      "[66, 77, 54, 32]\n",
      "[5, 10, 11, 15]\n",
      "-----------\n",
      "[66, 77, 54]\n",
      "[5, 10, 11, 15, 32]\n",
      "-----------\n",
      "[66, 77]\n",
      "[5, 10, 11, 15, 32, 54]\n",
      "-----------\n",
      "[77]\n",
      "[5, 10, 11, 15, 32, 54, 66]\n",
      "-----------\n",
      "[]\n",
      "[5, 10, 11, 15, 32, 54, 66, 77]\n",
      "-----------\n"
     ]
    }
   ],
   "source": [
    "# 선택정렬\n",
    "입력값 = [5,10,66,77,54,32,11,15]\n",
    "정렬된리스트 = []\n",
    "\n",
    "def 최솟값(list):\n",
    "    최소 = list[0]\n",
    "    for i in list:\n",
    "        if 최소 > i:\n",
    "            최소 = i\n",
    "    print(최소)\n",
    "    \n",
    "print(최솟값(입력값))\n",
    "\n",
    "while 입력값:\n",
    "    정렬된리스트.append(min(입력값))\n",
    "    입력값.pop(입력값.index(min(입력값)))\n",
    "    print(입력값)\n",
    "    print(정렬된리스트)\n",
    "    print('-----------')"
   ]
  },
  {
   "cell_type": "code",
   "execution_count": 6,
   "metadata": {},
   "outputs": [
    {
     "name": "stdout",
     "output_type": "stream",
     "text": [
      "2\n"
     ]
    }
   ],
   "source": [
    "#최솟값 찾기\n",
    "입력값 = [2,5,10,66,77,54,32,11,15]\n",
    "def 최솟값(list):\n",
    "    최소 = list[0]\n",
    "    count = 0\n",
    "    for i in list:\n",
    "        if 최소 > i:\n",
    "            최소 = i\n",
    "    return 최소\n",
    "    \n",
    "print(최솟값(입력값))"
   ]
  },
  {
   "cell_type": "code",
   "execution_count": 8,
   "metadata": {},
   "outputs": [
    {
     "name": "stdout",
     "output_type": "stream",
     "text": [
      "7\n"
     ]
    }
   ],
   "source": [
    "#최솟값의 인덱스 찾기\n",
    "입력값 = [2,5,10,66,77,54,32,1,11,15]\n",
    "def 최솟값_인덱스(list):\n",
    "    인덱스 = 0\n",
    "    최소 = list[0]\n",
    "    for i in range(len(list)):\n",
    "        if list[i] < 최소:\n",
    "            인덱스 = i\n",
    "    return 인덱스\n",
    "\n",
    "print(최솟값_인덱스(입력값))"
   ]
  },
  {
   "cell_type": "code",
   "execution_count": 10,
   "metadata": {},
   "outputs": [
    {
     "name": "stdout",
     "output_type": "stream",
     "text": [
      "[5, 10, 11, 15, 32, 54, 66, 77]\n"
     ]
    }
   ],
   "source": [
    "# 삼입정렬\n",
    "입력값 = [5,10,66,77,54,32,11,15]\n",
    "정렬된리스트 = []\n",
    "\n",
    "def 삽입값이_들어갈_인덱스(정렬된리스트, 삽입값):\n",
    "    for i in range(len(정렬된리스트)):\n",
    "        if 삽입값 < 정렬된리스트[i]:\n",
    "            return i\n",
    "    return len(정렬된리스트) #리스트의 맨 뒤에 삽입되어야 하는 경우\n",
    "\n",
    "while 입력값:\n",
    "    삽입값 = 입력값.pop(0)\n",
    "    인덱스 = 삽입값이_들어갈_인덱스(정렬된리스트, 삽입값)\n",
    "    정렬된리스트.insert(인덱스, 삽입값)\n",
    "\n",
    "print(정렬된리스트)"
   ]
  },
  {
   "cell_type": "code",
   "execution_count": 14,
   "metadata": {},
   "outputs": [
    {
     "data": {
      "text/plain": [
       "[54, 32, 11, 15]"
      ]
     },
     "execution_count": 14,
     "metadata": {},
     "output_type": "execute_result"
    }
   ],
   "source": [
    "# 병합정렬 : {O(nlog(n))}\n",
    "# 분할 / 정복\n",
    "입력값 = [5,10,66,77,54,32,11,15]\n",
    "전체인덱스 = 7\n",
    "중간값 = 7//2 #3\n",
    "입력값[:중간값]\n",
    "입력값[중간값+1:]"
   ]
  },
  {
   "cell_type": "code",
   "execution_count": 19,
   "metadata": {},
   "outputs": [
    {
     "name": "stdout",
     "output_type": "stream",
     "text": [
      "[5, 10, 11, 15, 32, 54, 66, 77]\n"
     ]
    }
   ],
   "source": [
    "def 병합정렬(입력리스트):\n",
    "    입력리스트의길이 = len(입력리스트)\n",
    "    결과값 =[]\n",
    "    if 입력리스트의길이 <=1:\n",
    "        return 입력리스트\n",
    "    중간값 = 입력리스트의길이 // 2\n",
    "    그룹하나 = 병합정렬(입력리스트[:중간값])\n",
    "    그룹둘 = 병합정렬(입력리스트[중간값:])\n",
    "    while 그룹하나 and 그룹둘:\n",
    "        if 그룹하나[0] < 그룹둘[0]:\n",
    "            결과값.append(그룹하나.pop(0))\n",
    "        else:\n",
    "            결과값.append(그룹둘.pop(0))\n",
    "    while 그룹하나:\n",
    "        결과값.append(그룹하나.pop(0))\n",
    "    while 그룹둘:\n",
    "        결과값.append(그룹둘.pop(0))\n",
    "    return 결과값\n",
    "    #return '그룹하나: {}, 그룹둘: {}\\n'.format(그룹하나, 그룹둘)\n",
    "    \n",
    "print(병합정렬([5,10,66,77,54,32,11,15]))"
   ]
  },
  {
   "cell_type": "code",
   "execution_count": null,
   "metadata": {},
   "outputs": [],
   "source": [
    "# 퀵정렬 (O(nlogn) worst: O(n^2))\n",
    "# 피봇값을 가진다. 첫번째, 마지막, 중간값을 가장 많이 사용 \n"
   ]
  },
  {
   "cell_type": "code",
   "execution_count": 21,
   "metadata": {},
   "outputs": [
    {
     "data": {
      "text/plain": [
       "[5, 10, 11, 15, 32, 54, 66, 77]"
      ]
     },
     "execution_count": 21,
     "metadata": {},
     "output_type": "execute_result"
    }
   ],
   "source": [
    "def 퀵정렬(입력리스트):\n",
    "    입력리스트의길이 = len(입력리스트)\n",
    "    if 입력리스트의길이 <=1:\n",
    "        return 입력리스트\n",
    "    피벗값 = 입력리스트.pop(0)\n",
    "    그룹하나 = []\n",
    "    그룹둘 = []\n",
    "    for i in range(입력리스트의길이-1):\n",
    "        if 입력리스트[i] < 피벗값:\n",
    "            그룹하나.append(입력리스트[i])\n",
    "        else:\n",
    "            그룹둘.append(입력리스트[i])\n",
    "    \n",
    "    return 퀵정렬(그룹하나) + [피벗값] + 퀵정렬(그룹둘)\n",
    "\n",
    "입력값 = [66,77,54,32,10,5,11,15]\n",
    "퀵정렬(입력값)"
   ]
  },
  {
   "cell_type": "code",
   "execution_count": 23,
   "metadata": {},
   "outputs": [
    {
     "name": "stdout",
     "output_type": "stream",
     "text": [
      "[5, 10, 11, 15, 32, 54, 66, 77]\n",
      "그룹하나 : [54, 32, 10, 5, 11, 15], 피벗 : 66, 그룹둘 : [77]\n",
      "그룹하나 : [32, 10, 5, 11, 15], 피벗 : 54, 그룹둘 : []\n",
      "그룹하나 : [10, 5, 11, 15], 피벗 : 32, 그룹둘 : []\n",
      "그룹하나 : [5], 피벗 : 10, 그룹둘 : [11, 15]\n",
      "그룹하나 : [], 피벗 : 11, 그룹둘 : [15]\n"
     ]
    }
   ],
   "source": [
    "g_list = []\n",
    "\n",
    "def 퀵정렬(입력리스트):\n",
    "    global g_list\n",
    "    입력리스트의길이 = len(입력리스트)\n",
    "    if 입력리스트의길이 <=1:\n",
    "        return 입력리스트\n",
    "    피벗값 = 입력리스트.pop(0)\n",
    "    그룹하나 = []\n",
    "    그룹둘 = []\n",
    "    for i in range(입력리스트의길이-1):\n",
    "        if 입력리스트[i] < 피벗값:\n",
    "            그룹하나.append(입력리스트[i])\n",
    "        else:\n",
    "            그룹둘.append(입력리스트[i])\n",
    "    \n",
    "    result = '그룹하나 : {}, 피벗 : {}, 그룹둘 : {}'.format(그룹하나, 피벗값, 그룹둘)\n",
    "    g_list.append(result)\n",
    "    return 퀵정렬(그룹하나) + [피벗값] + 퀵정렬(그룹둘)\n",
    "\n",
    "입력값 = [66,77,54,32,10,5,11,15]\n",
    "print(퀵정렬(입력값))\n",
    "for i in g_list:\n",
    "    print(i)\n",
    "    "
   ]
  }
 ],
 "metadata": {
  "kernelspec": {
   "display_name": "Python 3.7.6 64-bit ('base': conda)",
   "language": "python",
   "name": "python37664bitbaseconda8391ded08ec54e87b7dceb008b4b8c9b"
  },
  "language_info": {
   "codemirror_mode": {
    "name": "ipython",
    "version": 3
   },
   "file_extension": ".py",
   "mimetype": "text/x-python",
   "name": "python",
   "nbconvert_exporter": "python",
   "pygments_lexer": "ipython3",
   "version": "3.7.6"
  }
 },
 "nbformat": 4,
 "nbformat_minor": 4
}
