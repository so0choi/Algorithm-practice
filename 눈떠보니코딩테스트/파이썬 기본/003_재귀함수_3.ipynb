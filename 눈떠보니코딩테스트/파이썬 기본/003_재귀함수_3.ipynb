{
 "cells": [
  {
   "cell_type": "markdown",
   "metadata": {},
   "source": [
    "## 문제 접근 방법\n",
    "\n",
    "1. 반복문의 경우 bottom-up\n",
    "2. 재귀의 경우 top-bottom\n",
    "\n",
    "* 재귀의 경우 종료 조건이 꼭 있어야함"
   ]
  },
  {
   "cell_type": "code",
   "execution_count": 1,
   "metadata": {},
   "outputs": [
    {
     "name": "stdout",
     "output_type": "stream",
     "text": [
      "55\n"
     ]
    }
   ],
   "source": [
    "x = 0\n",
    "for i in range(11):\n",
    "    x += i\n",
    "print(x)"
   ]
  },
  {
   "cell_type": "code",
   "execution_count": 2,
   "metadata": {},
   "outputs": [
    {
     "name": "stdout",
     "output_type": "stream",
     "text": [
      "55\n"
     ]
    }
   ],
   "source": [
    "\n",
    "def f(n):\n",
    "    if n<=1:\n",
    "        return 1\n",
    "    else:\n",
    "        return n+ f(n-1)\n",
    "\n",
    "print(f(10))"
   ]
  },
  {
   "cell_type": "code",
   "execution_count": 3,
   "metadata": {},
   "outputs": [
    {
     "name": "stdout",
     "output_type": "stream",
     "text": [
      "##g\n",
      "##g\n",
      "##g\n",
      "##jo\n",
      "##hi\n",
      "##hi\n",
      "hello world\n",
      "##exit\n"
     ]
    }
   ],
   "source": [
    "while True:\n",
    "    if input('##') == 'exit':\n",
    "        break\n",
    "    if input('##') == 'hi':\n",
    "        print('hello world')\n",
    "    else:\n",
    "        continue"
   ]
  },
  {
   "cell_type": "code",
   "execution_count": 5,
   "metadata": {},
   "outputs": [
    {
     "name": "stdout",
     "output_type": "stream",
     "text": [
      "##z\n",
      "##z\n",
      "##z\n",
      "##hi\n",
      "hello world\n",
      "##hi\n",
      "##hi\n",
      "hello world\n",
      "##hi\n",
      "##exit\n",
      "##\n",
      "##exit\n",
      "##exit\n"
     ]
    }
   ],
   "source": [
    "def console():\n",
    "    if input('##') == 'exit':\n",
    "        return None\n",
    "    if input('##') == 'hi':\n",
    "        print('hello world')\n",
    "    console()\n",
    "console()"
   ]
  },
  {
   "cell_type": "code",
   "execution_count": 8,
   "metadata": {},
   "outputs": [
    {
     "name": "stdout",
     "output_type": "stream",
     "text": [
      "2진수로 바꿀 숫자를 입력하세요:11\n",
      "1011\n"
     ]
    }
   ],
   "source": [
    "# print(bin(11)[2:])\n",
    "# print(oct(11))\n",
    "# print(hex(11))\n",
    "\n",
    "x = int(input('2진수로 바꿀 숫자를 입력하세요:'))\n",
    "result = ''\n",
    "while True:\n",
    "    if x%2 ==0:\n",
    "        result += '0'\n",
    "    else:\n",
    "        result += '1'\n",
    "    x = x // 2\n",
    "    if x==1 or x==0:\n",
    "        result += str(x)\n",
    "        print(result[::-1])\n",
    "        break"
   ]
  },
  {
   "cell_type": "code",
   "execution_count": 12,
   "metadata": {},
   "outputs": [
    {
     "name": "stdout",
     "output_type": "stream",
     "text": [
      "1011\n"
     ]
    }
   ],
   "source": [
    "def find_bin(n):\n",
    "    if n < 2:\n",
    "        return str(n)\n",
    "    else:\n",
    "        return str(find_bin(n//2))+str(n%2)\n",
    "    \n",
    "print(find_bin(11))"
   ]
  },
  {
   "cell_type": "code",
   "execution_count": 26,
   "metadata": {},
   "outputs": [
    {
     "name": "stdout",
     "output_type": "stream",
     "text": [
      "gnoeyos"
     ]
    }
   ],
   "source": [
    "def reverse_str(text):\n",
    "    if text == '':\n",
    "        return None\n",
    "    else:\n",
    "        reverse_str(text[1:])\n",
    "        print(text[0],end='')\n",
    "        \n",
    "reverse_str('soyeong')"
   ]
  },
  {
   "cell_type": "code",
   "execution_count": 24,
   "metadata": {},
   "outputs": [
    {
     "name": "stdout",
     "output_type": "stream",
     "text": [
      "gnoeyos\n"
     ]
    }
   ],
   "source": [
    "result = ''\n",
    "for i in 'soyeong':\n",
    "    result =i+result\n",
    "    \n",
    "print(result)"
   ]
  },
  {
   "cell_type": "code",
   "execution_count": 25,
   "metadata": {},
   "outputs": [
    {
     "name": "stdout",
     "output_type": "stream",
     "text": [
      "10\n"
     ]
    }
   ],
   "source": [
    "x=0\n",
    "for i in '1234':\n",
    "    x += int(i)\n",
    "print(x)"
   ]
  },
  {
   "cell_type": "code",
   "execution_count": 33,
   "metadata": {},
   "outputs": [],
   "source": [
    "def sum(x):\n",
    "    if x < 10:\n",
    "        return x\n",
    "    return x % 10 + sum(x // 10)"
   ]
  },
  {
   "cell_type": "code",
   "execution_count": 34,
   "metadata": {},
   "outputs": [
    {
     "data": {
      "text/plain": [
       "10"
      ]
     },
     "execution_count": 34,
     "metadata": {},
     "output_type": "execute_result"
    }
   ],
   "source": [
    "sum(1234)"
   ]
  },
  {
   "cell_type": "code",
   "execution_count": 35,
   "metadata": {},
   "outputs": [
    {
     "data": {
      "text/plain": [
       "10"
      ]
     },
     "execution_count": 35,
     "metadata": {},
     "output_type": "execute_result"
    }
   ],
   "source": [
    "def sum2(text):\n",
    "    if text == '':\n",
    "        return 0\n",
    "    else:\n",
    "        return int(text[0]) + int(sum2(text[1:]))\n",
    "        \n",
    "sum2('1234')"
   ]
  },
  {
   "cell_type": "code",
   "execution_count": null,
   "metadata": {},
   "outputs": [],
   "source": []
  }
 ],
 "metadata": {
  "kernelspec": {
   "display_name": "Python 3.7.6 64-bit ('base': conda)",
   "language": "python",
   "name": "python37664bitbaseconda8391ded08ec54e87b7dceb008b4b8c9b"
  },
  "language_info": {
   "codemirror_mode": {
    "name": "ipython",
    "version": 3
   },
   "file_extension": ".py",
   "mimetype": "text/x-python",
   "name": "python",
   "nbconvert_exporter": "python",
   "pygments_lexer": "ipython3",
   "version": "3.7.6"
  }
 },
 "nbformat": 4,
 "nbformat_minor": 4
}
