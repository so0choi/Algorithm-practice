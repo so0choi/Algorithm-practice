{
 "cells": [
  {
   "cell_type": "code",
   "execution_count": 2,
   "metadata": {},
   "outputs": [],
   "source": [
    "graph = {'A':{'B':1,'C':2,'F':4},\n",
    "        'B':{'E':1,'D':2},\n",
    "        'C':{'D':2},\n",
    "        'D':{'K':2,'G':1},\n",
    "        'E':{'H':1},\n",
    "        'F':{'G':3},\n",
    "        'G':{'H':1,'J':3,'I':2},\n",
    "         'H':{'K':2,'J':1},\n",
    "         'I':{'J':2}}"
   ]
  },
  {
   "cell_type": "code",
   "execution_count": 1,
   "metadata": {},
   "outputs": [],
   "source": [
    "from collections import deque"
   ]
  },
  {
   "cell_type": "code",
   "execution_count": 46,
   "metadata": {
    "scrolled": true
   },
   "outputs": [
    {
     "name": "stdout",
     "output_type": "stream",
     "text": [
      "A 에서  D 까지 모든 경로의 비용\n",
      "{'ABD': 3, 'ACD': 4}\n",
      "최소 비용 경로\n",
      "ABD\n"
     ]
    }
   ],
   "source": [
    "from collections import deque\n",
    "\n",
    "\n",
    "#DFS로 해야겠다.??\n",
    "def whole_path(start, goal, path=[]):\n",
    "    path = path + [start]\n",
    "    if start == goal:\n",
    "        return [path]\n",
    "    if not start in graph:\n",
    "        return []\n",
    "    ans = []\n",
    "    for node in graph[start]:\n",
    "        if node not in path:\n",
    "            newpaths = whole_path(node, goal, path)\n",
    "            for newpath in newpaths:\n",
    "                ans.append(newpath)\n",
    "    return ans\n",
    "\n",
    "def get_costs(paths):\n",
    "    costs = {}\n",
    "    min_cost = 987654321\n",
    "    for path in paths:\n",
    "        cost = 0\n",
    "        for i in range(len(path)-1):\n",
    "            cost+=graph[path[i]][path[i+1]]\n",
    "        if min_cost>cost: min_cost = cost\n",
    "        costs[''.join(path)]=cost\n",
    "    costs = dict(sorted(costs.items()))\n",
    "    print(start,'에서 ',end,'까지 모든 경로의 비용')\n",
    "    print(costs)\n",
    "    return costs #경로 사전순으로 정렬된 비용 딕셔너리 반환\n",
    "\n",
    "start = 'A'\n",
    "end = 'D'\n",
    "paths = whole_path(start, end)\n",
    "costs = get_costs(paths)\n",
    "\n",
    "print('최소 비용 경로')\n",
    "for k,v in costs.items():\n",
    "    if v == min_cost:\n",
    "        print(k)"
   ]
  },
  {
   "cell_type": "code",
   "execution_count": 60,
   "metadata": {},
   "outputs": [],
   "source": [
    "# 안보고 연습\n",
    "# start 부터 end 까지의 방향 그래프에서 모든 경로 구하기\n",
    "def practice(start, end, path=[]):\n",
    "    path = path + [start]\n",
    "    if start == end: #목적지 도착\n",
    "        return [path]\n",
    "    if not start in graph: #그래프의 끝까지 갔는데 목적지가 아닌 경우\n",
    "        return []\n",
    "    paths = []\n",
    "    for node in graph[start]:\n",
    "        if node not in path:\n",
    "            newpaths = practice(node, end, path)\n",
    "            for newpath in newpaths:\n",
    "                paths.append(newpath)\n",
    "    return paths"
   ]
  },
  {
   "cell_type": "code",
   "execution_count": null,
   "metadata": {},
   "outputs": [],
   "source": []
  },
  {
   "cell_type": "code",
   "execution_count": 27,
   "metadata": {},
   "outputs": [
    {
     "name": "stdout",
     "output_type": "stream",
     "text": [
      "(3, ['A', 'B', 'C'])\n"
     ]
    }
   ],
   "source": [
    "temp = [(3,['A','B','D']),(3,['A','B','C'])]\n",
    "temp = sorted(temp, key = lambda x:x[1])\n",
    "print(temp[0])"
   ]
  },
  {
   "cell_type": "code",
   "execution_count": 38,
   "metadata": {},
   "outputs": [],
   "source": [
    "def find_all_paths(start,end,path=[]):\n",
    "    path = path + [start]\n",
    "    if start == end:\n",
    "        return [path]\n",
    "    if not start in graph:\n",
    "        return []\n",
    "    paths = []\n",
    "    for node in graph[start]:\n",
    "        if node not in path:\n",
    "            newpaths = find_all_paths(node,end,path)\n",
    "            for newpath in newpaths:\n",
    "                paths.append(newpath)\n",
    "    return paths"
   ]
  },
  {
   "cell_type": "code",
   "execution_count": 39,
   "metadata": {},
   "outputs": [],
   "source": [
    "p = find_all_paths('A','D')"
   ]
  },
  {
   "cell_type": "code",
   "execution_count": 40,
   "metadata": {},
   "outputs": [],
   "source": [
    "answer = []\n",
    "for pp in p:\n",
    "    cost = 0\n",
    "    for i in range(len(p)-1):\n",
    "        cost += graph[pp[i]][pp[i+1]]\n",
    "    answer.append(cost)"
   ]
  },
  {
   "cell_type": "code",
   "execution_count": 41,
   "metadata": {
    "scrolled": true
   },
   "outputs": [
    {
     "data": {
      "text/plain": [
       "[1, 2]"
      ]
     },
     "execution_count": 41,
     "metadata": {},
     "output_type": "execute_result"
    }
   ],
   "source": [
    "answer"
   ]
  },
  {
   "cell_type": "markdown",
   "metadata": {},
   "source": [
    "https://m.blog.naver.com/PostView.nhn?blogId=copina20&logNo=100020275833&proxyReferer=https:%2F%2Fwww.google.com%2F"
   ]
  }
 ],
 "metadata": {
  "kernelspec": {
   "display_name": "Python 3",
   "language": "python",
   "name": "python3"
  },
  "language_info": {
   "codemirror_mode": {
    "name": "ipython",
    "version": 3
   },
   "file_extension": ".py",
   "mimetype": "text/x-python",
   "name": "python",
   "nbconvert_exporter": "python",
   "pygments_lexer": "ipython3",
   "version": "3.7.6"
  }
 },
 "nbformat": 4,
 "nbformat_minor": 4
}
