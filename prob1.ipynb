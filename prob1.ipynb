{
 "cells": [
  {
   "cell_type": "code",
   "execution_count": 4,
   "metadata": {},
   "outputs": [],
   "source": [
    "text = ['   + -- + - + -   ',\n",
    "'   + --- + - +   ',\n",
    "'   + -- + - + -   ',\n",
    "'   + - + - + - +   ']"
   ]
  },
  {
   "cell_type": "code",
   "execution_count": 12,
   "metadata": {},
   "outputs": [
    {
     "name": "stdout",
     "output_type": "stream",
     "text": [
      "74\n",
      "69\n",
      "74\n",
      "85\n"
     ]
    }
   ],
   "source": [
    "for i in text:\n",
    "    print(int(i.strip().replace(' ','').replace('+','1').replace('-','0'),2))"
   ]
  },
  {
   "cell_type": "code",
   "execution_count": 13,
   "metadata": {},
   "outputs": [
    {
     "name": "stdout",
     "output_type": "stream",
     "text": [
      "J\n",
      "E\n",
      "J\n",
      "U\n"
     ]
    }
   ],
   "source": [
    "#ord() : 문자를 숫자로\n",
    "#chr() : 숫자를 문자로\n",
    "for i in text:\n",
    "    print(chr(int(i.strip().replace(' ','').replace('+','1').replace('-','0'),2)))"
   ]
  },
  {
   "cell_type": "code",
   "execution_count": 14,
   "metadata": {},
   "outputs": [],
   "source": [
    "l = []\n",
    "for i in text:\n",
    "    l.append(chr(int(i.strip().replace(' ','').replace('+','1').replace('-','0'),2)))"
   ]
  },
  {
   "cell_type": "code",
   "execution_count": 16,
   "metadata": {},
   "outputs": [
    {
     "data": {
      "text/plain": [
       "'JEJU'"
      ]
     },
     "execution_count": 16,
     "metadata": {},
     "output_type": "execute_result"
    }
   ],
   "source": [
    "''.join(l)"
   ]
  },
  {
   "cell_type": "code",
   "execution_count": 21,
   "metadata": {},
   "outputs": [
    {
     "data": {
      "text/plain": [
       "'JEJU'"
      ]
     },
     "execution_count": 21,
     "metadata": {},
     "output_type": "execute_result"
    }
   ],
   "source": [
    "''.join([chr(int(i.strip().replace(' ','').replace('+','1').replace('-','0'),2)) for i in text])"
   ]
  },
  {
   "cell_type": "code",
   "execution_count": 23,
   "metadata": {},
   "outputs": [
    {
     "data": {
      "text/plain": [
       "[0, 2, 4, 6, 8]"
      ]
     },
     "execution_count": 23,
     "metadata": {},
     "output_type": "execute_result"
    }
   ],
   "source": [
    "#list comprehention 설명\n",
    "[i for i in range(10) if i%2==0]"
   ]
  },
  {
   "cell_type": "code",
   "execution_count": 28,
   "metadata": {},
   "outputs": [
    {
     "data": {
      "text/plain": [
       "['2 X 1 = 2',\n",
       " '2 X 2 = 4',\n",
       " '2 X 3 = 6',\n",
       " '2 X 4 = 8',\n",
       " '2 X 5 = 10',\n",
       " '2 X 6 = 12',\n",
       " '2 X 7 = 14',\n",
       " '2 X 8 = 16',\n",
       " '2 X 9 = 18',\n",
       " '3 X 1 = 3',\n",
       " '3 X 2 = 6',\n",
       " '3 X 3 = 9',\n",
       " '3 X 4 = 12',\n",
       " '3 X 5 = 15',\n",
       " '3 X 6 = 18',\n",
       " '3 X 7 = 21',\n",
       " '3 X 8 = 24',\n",
       " '3 X 9 = 27',\n",
       " '4 X 1 = 4',\n",
       " '4 X 2 = 8',\n",
       " '4 X 3 = 12',\n",
       " '4 X 4 = 16',\n",
       " '4 X 5 = 20',\n",
       " '4 X 6 = 24',\n",
       " '4 X 7 = 28',\n",
       " '4 X 8 = 32',\n",
       " '4 X 9 = 36',\n",
       " '5 X 1 = 5',\n",
       " '5 X 2 = 10',\n",
       " '5 X 3 = 15',\n",
       " '5 X 4 = 20',\n",
       " '5 X 5 = 25',\n",
       " '5 X 6 = 30',\n",
       " '5 X 7 = 35',\n",
       " '5 X 8 = 40',\n",
       " '5 X 9 = 45',\n",
       " '6 X 1 = 6',\n",
       " '6 X 2 = 12',\n",
       " '6 X 3 = 18',\n",
       " '6 X 4 = 24',\n",
       " '6 X 5 = 30',\n",
       " '6 X 6 = 36',\n",
       " '6 X 7 = 42',\n",
       " '6 X 8 = 48',\n",
       " '6 X 9 = 54',\n",
       " '7 X 1 = 7',\n",
       " '7 X 2 = 14',\n",
       " '7 X 3 = 21',\n",
       " '7 X 4 = 28',\n",
       " '7 X 5 = 35',\n",
       " '7 X 6 = 42',\n",
       " '7 X 7 = 49',\n",
       " '7 X 8 = 56',\n",
       " '7 X 9 = 63',\n",
       " '8 X 1 = 8',\n",
       " '8 X 2 = 16',\n",
       " '8 X 3 = 24',\n",
       " '8 X 4 = 32',\n",
       " '8 X 5 = 40',\n",
       " '8 X 6 = 48',\n",
       " '8 X 7 = 56',\n",
       " '8 X 8 = 64',\n",
       " '8 X 9 = 72',\n",
       " '9 X 1 = 9',\n",
       " '9 X 2 = 18',\n",
       " '9 X 3 = 27',\n",
       " '9 X 4 = 36',\n",
       " '9 X 5 = 45',\n",
       " '9 X 6 = 54',\n",
       " '9 X 7 = 63',\n",
       " '9 X 8 = 72',\n",
       " '9 X 9 = 81']"
      ]
     },
     "execution_count": 28,
     "metadata": {},
     "output_type": "execute_result"
    }
   ],
   "source": [
    "[ f'{i} X {j} = {i*j}' for i in range(2,10) for j in range(1,10)] #format 형 출력"
   ]
  },
  {
   "cell_type": "code",
   "execution_count": 30,
   "metadata": {},
   "outputs": [
    {
     "data": {
      "text/plain": [
       "'~11~11~11'"
      ]
     },
     "execution_count": 30,
     "metadata": {},
     "output_type": "execute_result"
    }
   ],
   "source": [
    "'011011011'.replace('0','!').replace('!','+').replace('+','~') #replace는 결과값에 계속해서 중첩해서 쓸 수있다"
   ]
  },
  {
   "cell_type": "code",
   "execution_count": 31,
   "metadata": {},
   "outputs": [
    {
     "data": {
      "text/plain": [
       "'0000000111'"
      ]
     },
     "execution_count": 31,
     "metadata": {},
     "output_type": "execute_result"
    }
   ],
   "source": [
    "'111'.zfill(10) # zfill(n) : n자리 숫자를 만들어준다. default 채움 수는 0"
   ]
  },
  {
   "cell_type": "code",
   "execution_count": 34,
   "metadata": {},
   "outputs": [],
   "source": [
    "sample = [i.strip().replace(' ','').replace('+','1').replace('-','0') for i in text]"
   ]
  },
  {
   "cell_type": "code",
   "execution_count": 35,
   "metadata": {},
   "outputs": [
    {
     "data": {
      "text/plain": [
       "['1001010', '1000101', '1001010', '1010101']"
      ]
     },
     "execution_count": 35,
     "metadata": {},
     "output_type": "execute_result"
    }
   ],
   "source": [
    "sample"
   ]
  },
  {
   "cell_type": "code",
   "execution_count": 40,
   "metadata": {},
   "outputs": [
    {
     "data": {
      "text/plain": [
       "'JEJU'"
      ]
     },
     "execution_count": 40,
     "metadata": {},
     "output_type": "execute_result"
    }
   ],
   "source": [
    "''.join(list(map(lambda x : chr(int(x,2)), sample)))"
   ]
  },
  {
   "cell_type": "code",
   "execution_count": 41,
   "metadata": {},
   "outputs": [
    {
     "data": {
      "text/plain": [
       "'JEJU'"
      ]
     },
     "execution_count": 41,
     "metadata": {},
     "output_type": "execute_result"
    }
   ],
   "source": [
    "def f(x):\n",
    "    return chr(int(x,2))\n",
    "\n",
    "''.join(list(map(f,sample)))\n",
    "#zip도 공부할 것"
   ]
  },
  {
   "cell_type": "code",
   "execution_count": null,
   "metadata": {},
   "outputs": [],
   "source": []
  }
 ],
 "metadata": {
  "kernelspec": {
   "display_name": "Python 3.7.6 64-bit ('base': conda)",
   "language": "python",
   "name": "python37664bitbaseconda8391ded08ec54e87b7dceb008b4b8c9b"
  },
  "language_info": {
   "codemirror_mode": {
    "name": "ipython",
    "version": 3
   },
   "file_extension": ".py",
   "mimetype": "text/x-python",
   "name": "python",
   "nbconvert_exporter": "python",
   "pygments_lexer": "ipython3",
   "version": "3.7.6"
  }
 },
 "nbformat": 4,
 "nbformat_minor": 4
}
