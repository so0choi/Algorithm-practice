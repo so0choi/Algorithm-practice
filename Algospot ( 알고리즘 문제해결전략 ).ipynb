{
 "cells": [
  {
   "cell_type": "markdown",
   "metadata": {},
   "source": [
    "## 알러지가 심한 친구들"
   ]
  },
  {
   "cell_type": "code",
   "execution_count": 12,
   "metadata": {},
   "outputs": [
    {
     "name": "stdout",
     "output_type": "stream",
     "text": [
      "1\n",
      "2\n"
     ]
    }
   ],
   "source": [
    "test = int(input())\n",
    "INF = 987654321\n",
    "\n",
    "#이 메뉴로 모두가 식사를 할 수 있는지 여부를 반환\n",
    "def can_everybody_eat(menu):\n",
    "    temp_name = set(names)\n",
    "    for m in menu:\n",
    "        temp_name = temp_name - set(possible[m])\n",
    "    if temp_name:\n",
    "        return False\n",
    "    return True\n",
    "\n",
    "def select_menu(menu, food):\n",
    "    if food == (n_menu - 1):\n",
    "        if can_everybody_eat(menu):\n",
    "            return len(menu)\n",
    "        return INF\n",
    "    ret = select_menu(menu, food+1)\n",
    "    menu.append(food)\n",
    "    ret = min(ret, select_menu(menu, food+1))\n",
    "    menu.pop()\n",
    "    return ret\n",
    "\n",
    "# for _ in range(test):\n",
    "#     n_name, n_menu = map(int,input().split())\n",
    "#     names = input().split()\n",
    "#     possible = []\n",
    "#     for i in range(n_menu):\n",
    "#         possible.append(input().split()[1:])\n",
    "#     menus = [i for i in range(n_menu)]\n",
    "#     print(select_menu([], 0))\n",
    "\n",
    "n_name = 4\n",
    "n_menu = 6\n",
    "names = ['cl','bom','dara','minzy']\n",
    "possible = [[0]* n_menu for _ in range(n_name)]\n",
    "print(select_menu([],0))"
   ]
  },
  {
   "cell_type": "markdown",
   "metadata": {},
   "source": [
    "### n개의 원소 중 m개를 고르는 모든 조합을 찾는 알고리즘"
   ]
  },
  {
   "cell_type": "code",
   "execution_count": 14,
   "metadata": {},
   "outputs": [
    {
     "name": "stdout",
     "output_type": "stream",
     "text": [
      "4\n",
      "2\n",
      "[0, 1]\n",
      "[0, 2]\n",
      "[0, 3]\n",
      "[1, 2]\n",
      "[1, 3]\n",
      "[2, 3]\n"
     ]
    }
   ],
   "source": [
    "n = int(input())\n",
    "toPick = int(input())\n",
    "def pick(n, picked, toPick):\n",
    "    if toPick==0:\n",
    "        print(picked)\n",
    "        return\n",
    "    smallest = 0 if not picked else picked[-1] + 1\n",
    "    for nextt in range(smallest, n):\n",
    "        picked.append(nextt)\n",
    "        pick(n,picked,toPick-1)\n",
    "        picked.pop()\n",
    "pick(n,[],toPick)"
   ]
  },
  {
   "cell_type": "code",
   "execution_count": 21,
   "metadata": {
    "scrolled": true
   },
   "outputs": [
    {
     "name": "stdout",
     "output_type": "stream",
     "text": [
      "호랑이 말 사자 곰\n",
      "2\n",
      "0\n",
      "1\n",
      "['호랑이', '말']\n",
      "['호랑이', '사자']\n",
      "['호랑이', '곰']\n",
      "2\n",
      "['말', '사자']\n",
      "['말', '곰']\n",
      "3\n",
      "['사자', '곰']\n",
      "4\n"
     ]
    }
   ],
   "source": [
    "#응용\n",
    "item = list(input().split())\n",
    "toPick = int(input())\n",
    "def pick2(item, picked, toPick):\n",
    "    if toPick==0:\n",
    "        print(picked)\n",
    "        return\n",
    "    idx = 0 if not picked else item.index(picked[-1])+1\n",
    "    for nextt in range(idx, len(item)):\n",
    "        picked.append(item[nextt])\n",
    "        pick2(item, picked, toPick-1)\n",
    "        picked.pop()\n",
    "pick2(item, [], toPick)"
   ]
  },
  {
   "cell_type": "markdown",
   "metadata": {},
   "source": [
    "### 보글 게임"
   ]
  },
  {
   "cell_type": "code",
   "execution_count": null,
   "metadata": {},
   "outputs": [],
   "source": [
    "game = [['U','R','L','P','M'],\n",
    "        ['X','P','R','E','T'],\n",
    "        ['G','I','A','E','T'],\n",
    "        ['X','T','N','Z','Y'],\n",
    "        ['X','O','Q','R','S']]\n",
    "size = 5\n",
    "dy = [-1,-1,-1,1,1,1,0,0]\n",
    "dx = [-1,0,1,-1,0,1,-1,1]\n",
    "def hasWord(y,x,word):\n",
    "    if not (0<=y<5 and 0<=x<=5):\n",
    "        return False\n",
    "    if game[y][x]!=word[0]:\n",
    "        return False\n",
    "    if len(word)==1:\n",
    "        return True\n",
    "    for direction in range(0,8):\n",
    "        nextY, nextX = y+dy[direction], x+dx[direction]\n",
    "        if hasWord(nextY, nextX, word[1:]):\n",
    "            return True\n",
    "    return False"
   ]
  },
  {
   "cell_type": "markdown",
   "metadata": {},
   "source": [
    "### 소풍"
   ]
  },
  {
   "cell_type": "code",
   "execution_count": 4,
   "metadata": {},
   "outputs": [
    {
     "name": "stdout",
     "output_type": "stream",
     "text": [
      "3\n",
      "2 1\n",
      "0 1\n",
      "1\n",
      "2 1\n",
      "0 1\n",
      "1\n",
      "2 1\n",
      "0 1\n",
      "1\n"
     ]
    }
   ],
   "source": [
    "import sys\n",
    "sys.setrecursionlimit(10**8)\n",
    "\n",
    "C = int(input()) #test case 수\n",
    "\n",
    "def countPairings(taken = [False]*10):\n",
    "    firstFree = -1\n",
    "    for i in range(n):\n",
    "        if not taken[i]:\n",
    "            firstFree = i\n",
    "            break\n",
    "    if firstFree == -1: return 1 #모든 학생이 짝을 찾은 경우 프로그램 종료\n",
    "    ret = 0\n",
    "    for pairWith in range(firstFree+1, n):\n",
    "        if not taken[pairWith] and areFriends[firstFree][pairWith]:\n",
    "            taken[firstFree] = taken[pairWith] = True\n",
    "            ret += countPairings(taken)\n",
    "            taken[firstFree] = taken[pairWith] = False\n",
    "    return ret\n",
    "\n",
    "for _ in range(C):\n",
    "    n,m = map(int, input().split()) #학생 수 , 친구 쌍의 수\n",
    "    areFriends = [[False]*10 for _ in range(10)] #학생 수 최대 10\n",
    "    temp = list(map(int, input().split()))\n",
    "    idx = 0\n",
    "    for _ in range(m):\n",
    "        a,b = temp[idx], temp[idx+1]\n",
    "        areFriends[a][b] = True\n",
    "        areFriends[b][a] =True\n",
    "        idx+=2\n",
    "    print(countPairings())"
   ]
  }
 ],
 "metadata": {
  "kernelspec": {
   "display_name": "Python 3",
   "language": "python",
   "name": "python3"
  }
 },
 "nbformat": 4,
 "nbformat_minor": 4
}
