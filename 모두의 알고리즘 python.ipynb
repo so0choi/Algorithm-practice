{
 "cells": [
  {
   "cell_type": "code",
   "execution_count": 3,
   "metadata": {},
   "outputs": [
    {
     "name": "stdout",
     "output_type": "stream",
     "text": [
      "120\n"
     ]
    }
   ],
   "source": [
    "def factorial(n):\n",
    "    if n == 1:\n",
    "        return 1\n",
    "    return n * factorial(n-1)\n",
    "print(factorial(5))"
   ]
  },
  {
   "cell_type": "code",
   "execution_count": 4,
   "metadata": {},
   "outputs": [
    {
     "name": "stdout",
     "output_type": "stream",
     "text": [
      "55\n"
     ]
    }
   ],
   "source": [
    "def sumfact(n):\n",
    "    if n == 1:\n",
    "        return 1\n",
    "    return n + sumfact(n-1)\n",
    "print(sumfact(10))"
   ]
  },
  {
   "cell_type": "code",
   "execution_count": 6,
   "metadata": {},
   "outputs": [
    {
     "name": "stdout",
     "output_type": "stream",
     "text": [
      "5\n",
      "4\n",
      "3\n",
      "2\n",
      "1\n",
      "9\n"
     ]
    }
   ],
   "source": [
    "data = [7,3,4,2,9,1]\n",
    "def findMax(data, length):\n",
    "    if length == 1:\n",
    "        return data[0]\n",
    "    print(length-1)\n",
    "    return max(data[length-1], findMax(data, length-1))\n",
    "print(findMax(data, len(data)))"
   ]
  },
  {
   "cell_type": "code",
   "execution_count": 8,
   "metadata": {},
   "outputs": [
    {
     "name": "stdout",
     "output_type": "stream",
     "text": [
      "6\n"
     ]
    }
   ],
   "source": [
    "def find_gcd(m,n):\n",
    "    if m%n==0:\n",
    "        return n\n",
    "    return find_gcd(n,m%n)\n",
    "\n",
    "print(find_gcd(30,12))"
   ]
  },
  {
   "cell_type": "code",
   "execution_count": 11,
   "metadata": {},
   "outputs": [
    {
     "name": "stdout",
     "output_type": "stream",
     "text": [
      "5\n"
     ]
    }
   ],
   "source": [
    "def find_fibo(n):\n",
    "    if n == 0:\n",
    "        return 0\n",
    "    elif n == 1:\n",
    "        return 1\n",
    "    return find_fibo(n-2) + find_fibo(n-1)\n",
    "\n",
    "print(find_fibo(5))"
   ]
  },
  {
   "cell_type": "code",
   "execution_count": 27,
   "metadata": {},
   "outputs": [
    {
     "name": "stdout",
     "output_type": "stream",
     "text": [
      "3\n",
      "7\n",
      "1 3\n",
      "1 2\n",
      "3 2\n",
      "1 3\n",
      "2 1\n",
      "2 3\n",
      "1 3\n"
     ]
    }
   ],
   "source": [
    "move = []\n",
    "def hanoi(n, start, mid, target):\n",
    "    if n == 1:\n",
    "        move.append(str(start)+' '+str(target))\n",
    "        return\n",
    "    hanoi(n-1, start, target, mid)\n",
    "    move.append(str(start)+' '+str(target))\n",
    "    hanoi(n-1, mid, start, target)\n",
    "n = int(input())\n",
    "if n < 20:\n",
    "    hanoi(n,1,2,3)\n",
    "    print(len(move))\n",
    "    if n < 20:\n",
    "        for m in move:\n",
    "            print(m)\n",
    "else:\n",
    "    print(2**n-1)"
   ]
  },
  {
   "cell_type": "code",
   "execution_count": 29,
   "metadata": {},
   "outputs": [
    {
     "name": "stdout",
     "output_type": "stream",
     "text": [
      "?\n"
     ]
    }
   ],
   "source": [
    "stu_no = [39,14,67,105]\n",
    "stu_name = ['justin','john','mike','summer']\n",
    "def get_st_name(no):\n",
    "    for i in range(len(stu_no)):\n",
    "        if stu_no[i]==no:\n",
    "            return stu_name[i]\n",
    "    return '?'\n",
    "\n",
    "print(get_st_name(15))"
   ]
  },
  {
   "cell_type": "code",
   "execution_count": 33,
   "metadata": {},
   "outputs": [
    {
     "name": "stdout",
     "output_type": "stream",
     "text": [
      "[5, 4, 3, 2, 1]\n"
     ]
    }
   ],
   "source": [
    "# 선택 정렬 알고리즘\n",
    "def select_sort(arr):\n",
    "    n = len(arr)\n",
    "    for i in range(n-1):\n",
    "        min_idx = i\n",
    "        for j in range(i+1,n):\n",
    "            if arr[j] >arr[min_idx]:\n",
    "                min_idx = j\n",
    "        arr[i], arr[min_idx]= arr[min_idx], arr[i]\n",
    "    return arr\n",
    "\n",
    "print(select_sort([2,4,5,1,3]))"
   ]
  },
  {
   "cell_type": "code",
   "execution_count": 38,
   "metadata": {},
   "outputs": [
    {
     "name": "stdout",
     "output_type": "stream",
     "text": [
      "[5, 4, 3, 2, 1]\n"
     ]
    }
   ],
   "source": [
    "# 삽입 정렬\n",
    "def insert_sort(arr):\n",
    "    n = len(arr)\n",
    "    for i in range(1,n):\n",
    "        key = arr[i]\n",
    "        j = i-1\n",
    "        while j>=0 and arr[j]<key:\n",
    "            arr[j+1] = arr[j]\n",
    "            j-=1\n",
    "        arr[j+1] = key\n",
    "    return arr\n",
    "\n",
    "print(insert_sort([2,4,5,1,3]))"
   ]
  },
  {
   "cell_type": "code",
   "execution_count": 49,
   "metadata": {},
   "outputs": [
    {
     "name": "stdout",
     "output_type": "stream",
     "text": [
      "[10, 9, 8, 7, 6, 5, 4, 3, 2, 1]\n"
     ]
    }
   ],
   "source": [
    "# 병합 정렬\n",
    "def merge_sort(arr):\n",
    "    if len(arr)<=1:\n",
    "        return\n",
    "    mid = len(arr)//2\n",
    "    group1 = arr[:mid]\n",
    "    group2 = arr[mid:]\n",
    "    merge_sort(group1)\n",
    "    merge_sort(group2)\n",
    "    i1 = i2 = ia = 0\n",
    "    while group1 and group2:\n",
    "        if group1[0]>group2[0]:\n",
    "            arr[ia]=group1.pop(0)\n",
    "        else:\n",
    "            arr[ia]=group2.pop(0)\n",
    "        ia+=1\n",
    "    while group1:\n",
    "        arr[ia]=group1.pop(0)\n",
    "        ia+=1\n",
    "    while group2:\n",
    "        arr[ia]=group2.pop(0)\n",
    "        ia+=1\n",
    "\n",
    "data = [6,8,3,9,10,1,2,4,7,5]\n",
    "merge_sort(data)\n",
    "print(data)"
   ]
  },
  {
   "cell_type": "code",
   "execution_count": 52,
   "metadata": {},
   "outputs": [
    {
     "name": "stdout",
     "output_type": "stream",
     "text": [
      "[1, 2, 3, 4, 5, 6, 7, 8, 9, 10]\n"
     ]
    }
   ],
   "source": [
    "# 퀵 정렬\n",
    "def quick_sort(arr,start,end):\n",
    "    if end-start <= 0:\n",
    "        return arr\n",
    "    pivot = arr[end]\n",
    "    i = start\n",
    "    for j in range(start,end):\n",
    "        if arr[j]<= pivot:\n",
    "            arr[i], arr[j] = arr[j],arr[i]\n",
    "            i+=1\n",
    "    arr[i],arr[end] = arr[end],arr[i]\n",
    "    quick_sort(arr,start,i-1)\n",
    "    quick_sort(arr,i+1,end)\n",
    "\n",
    "data = [6,8,3,9,10,1,2,4,7,5]\n",
    "quick_sort(data,0,len(data)-1)\n",
    "print(data)"
   ]
  },
  {
   "cell_type": "code",
   "execution_count": 63,
   "metadata": {},
   "outputs": [
    {
     "name": "stdout",
     "output_type": "stream",
     "text": [
      "[5, 4, 3, 3, 2, 1]\n"
     ]
    }
   ],
   "source": [
    "#bubble 정렬\n",
    "def bubble_sort(arr):\n",
    "    for i in range(len(arr)-1):\n",
    "        for j in range(len(arr)-1-i):\n",
    "            if arr[j]<arr[j+1]:\n",
    "                arr[j+1],arr[j] = arr[j],arr[j+1]\n",
    "    \n",
    "data = [2,4,5,1,3,3]\n",
    "bubble_sort(data)\n",
    "print(data)"
   ]
  },
  {
   "cell_type": "code",
   "execution_count": 65,
   "metadata": {},
   "outputs": [
    {
     "name": "stdout",
     "output_type": "stream",
     "text": [
      "-1\n"
     ]
    }
   ],
   "source": [
    "#이분탐색\n",
    "data = [1,4,9,16,25,36,49,64,81]\n",
    "def binary_search(arr,n):\n",
    "    start = 0\n",
    "    end = len(arr) -1\n",
    "    while start <= end:\n",
    "        mid = (start+end)//2\n",
    "        if n == arr[mid]:\n",
    "            return mid\n",
    "        elif n < arr[mid]:\n",
    "            end = mid-1\n",
    "        else:\n",
    "            start = mid +1\n",
    "    return -1\n",
    "\n",
    "print(binary_search(data,15))"
   ]
  },
  {
   "cell_type": "code",
   "execution_count": 99,
   "metadata": {},
   "outputs": [
    {
     "name": "stdout",
     "output_type": "stream",
     "text": [
      "-1\n"
     ]
    }
   ],
   "source": [
    "#재귀 이분 탐색\n",
    "data = [1,4,9,16,25,36,49,64,81]\n",
    "def bin_search(arr, start,end, n):\n",
    "    if start > end:\n",
    "        return -1\n",
    "    mid = (start+end)//2\n",
    "    if arr[mid] == n:\n",
    "        return mid\n",
    "    elif arr[mid] < n:\n",
    "        return bin_search(arr,mid+1,end,n)\n",
    "    else:\n",
    "        return bin_search(arr,start,mid-1,n)\n",
    "    return -1\n",
    "        \n",
    "print(bin_search(data,0,len(data)-1,17))"
   ]
  },
  {
   "cell_type": "code",
   "execution_count": 103,
   "metadata": {},
   "outputs": [
    {
     "data": {
      "text/plain": [
       "False"
      ]
     },
     "execution_count": 103,
     "metadata": {},
     "output_type": "execute_result"
    }
   ],
   "source": [
    "#회문찾기\n",
    "def palindrome(s):\n",
    "    queue = []\n",
    "    stack = []\n",
    "    for x in s:\n",
    "        queue.append(x)\n",
    "        stack.append(x)\n",
    "    while queue:\n",
    "        if queue.pop(0) != stack.pop():\n",
    "            return False\n",
    "    return True\n",
    "\n",
    "palindrome('wowa')"
   ]
  },
  {
   "cell_type": "code",
   "execution_count": 101,
   "metadata": {},
   "outputs": [
    {
     "data": {
      "text/plain": [
       "True"
      ]
     },
     "execution_count": 101,
     "metadata": {},
     "output_type": "execute_result"
    }
   ],
   "source": [
    "'a'.isalpha()"
   ]
  },
  {
   "cell_type": "code",
   "execution_count": 108,
   "metadata": {},
   "outputs": [
    {
     "data": {
      "text/plain": [
       "True"
      ]
     },
     "execution_count": 108,
     "metadata": {},
     "output_type": "execute_result"
    }
   ],
   "source": [
    "def isPalindrome(s):\n",
    "    for i in range(len(s)//2):\n",
    "        if s[i] != s[len(s)-i-1]:\n",
    "            return False\n",
    "    return True\n",
    "\n",
    "isPalindrome('woaow')"
   ]
  },
  {
   "cell_type": "code",
   "execution_count": 110,
   "metadata": {},
   "outputs": [
    {
     "name": "stdout",
     "output_type": "stream",
     "text": [
      "['tom', 'jerry']\n"
     ]
    }
   ],
   "source": [
    "def find_dup(d):\n",
    "    dic = dict()\n",
    "    for i in d:\n",
    "        if i in dic:\n",
    "            dic[i]+=1\n",
    "        else:\n",
    "            dic[i]=1\n",
    "    return [k for k in dic.keys() if dic[k]!=1]\n",
    "\n",
    "name = ['tom','jerry','mike','tom','jerry']\n",
    "print(find_dup(name))"
   ]
  },
  {
   "cell_type": "code",
   "execution_count": 117,
   "metadata": {},
   "outputs": [
    {
     "name": "stdout",
     "output_type": "stream",
     "text": [
      "Summer 0\n",
      "John 1\n",
      "Justin 1\n",
      "Mike 1\n",
      "May 2\n",
      "Kim 3\n"
     ]
    }
   ],
   "source": [
    "# 그래프에서 모든 인접 노드 찾기\n",
    "def print_all_friends(g,start):\n",
    "    qu = []\n",
    "    done = set()\n",
    "    qu.append((start,0))\n",
    "    done.add(start)\n",
    "    while qu:\n",
    "        p,d = qu.pop(0)\n",
    "        print(p,d)\n",
    "        for x in g[p]:\n",
    "            if x not in done:\n",
    "                qu.append((x,d+1))\n",
    "                done.add(x)\n",
    "fr_info = {\n",
    "    'Summer' : ['John','Justin','Mike'],\n",
    "    'John' : ['Summer','Justin'],\n",
    "    'Justin': ['John','Summer','Mike','May'],\n",
    "    'Mike':['Summer','Justin'],\n",
    "    'May':['Summer','Kim'],\n",
    "    'Kim':['May'],\n",
    "    'Tom':['Jerry'],\n",
    "    'Jerry':['Tom']\n",
    "}\n",
    "print_all_friends(fr_info, 'Summer')"
   ]
  },
  {
   "cell_type": "code",
   "execution_count": 118,
   "metadata": {},
   "outputs": [
    {
     "name": "stdout",
     "output_type": "stream",
     "text": [
      "1\n",
      "2\n",
      "3\n",
      "4\n",
      "5\n"
     ]
    }
   ],
   "source": [
    "graph = {\n",
    "    1:[2,3],\n",
    "    2:[1,4,5],\n",
    "    3:[1],\n",
    "    4:[2,5],\n",
    "    5:[2]\n",
    "}\n",
    "def print_all_nodes(g,start):\n",
    "    done = set()\n",
    "    qu = []\n",
    "    done.add(start)\n",
    "    qu.append(start)\n",
    "    while qu:\n",
    "        p = qu.pop(0)\n",
    "        print(p)\n",
    "        for x in g[p]:\n",
    "            if x not in done:\n",
    "                qu.append(x)\n",
    "                done.add(x)\n",
    "                \n",
    "print_all_nodes(graph,1)"
   ]
  },
  {
   "cell_type": "code",
   "execution_count": 120,
   "metadata": {},
   "outputs": [
    {
     "name": "stdout",
     "output_type": "stream",
     "text": [
      "['a']\n",
      "['ae']\n",
      "['aei']\n",
      "['aeim']\n",
      "['aeimn']\n",
      "['aeimnj']\n",
      "['aeimnjf', 'aeimnjk']\n",
      "['aeimnjk', 'aeimnjfb', 'aeimnjfg']\n",
      "['aeimnjfb', 'aeimnjfg', 'aeimnjko']\n",
      "['aeimnjfg', 'aeimnjko', 'aeimnjfbc']\n",
      "['aeimnjko', 'aeimnjfbc', 'aeimnjfgh']\n",
      "['aeimnjfbc', 'aeimnjfgh']\n",
      "['aeimnjfgh', 'aeimnjfbcd']\n",
      "['aeimnjfbcd', 'aeimnjfghl']\n",
      "['aeimnjfghl']\n",
      "['aeimnjfghlp']\n",
      "aeimnjfghlp\n"
     ]
    }
   ],
   "source": [
    "#미로찾기\n",
    "maze = {\n",
    "    'a':['e'],\n",
    "    'b':['c','f'],\n",
    "    'c':['b','d'],\n",
    "    'd':['c'],\n",
    "    'e':['a','i'],\n",
    "    'f':['b','g','j'],\n",
    "    'g':['f','h'],\n",
    "    'h':['g','l'],\n",
    "    'i':['e','m'],\n",
    "    'j':['f','k','n'],\n",
    "    'k':['j','o'],\n",
    "    'l':['h','p'],\n",
    "    'm':['i','n'],\n",
    "    'n':['m','j'],\n",
    "    'o':['k'],\n",
    "    'p':['l']\n",
    "}\n",
    "\n",
    "def find_exit(maze,start,end):\n",
    "    qu = []\n",
    "    done = set()\n",
    "    qu.append(start)\n",
    "    done.add(start)\n",
    "    while qu:\n",
    "        print(qu)\n",
    "        p = qu.pop(0)\n",
    "        v = p[-1] #이동경로의 마지막 문자가 현재 처리해야 할 꼭짓점\n",
    "        if v == end:\n",
    "            return p\n",
    "        for x in maze[v]:\n",
    "            if x not in done:\n",
    "                qu.append(p+x)\n",
    "                done.add(x)\n",
    "    return '?'\n",
    "\n",
    "print(find_exit(maze,'a','p'))\n",
    "        "
   ]
  },
  {
   "cell_type": "code",
   "execution_count": 122,
   "metadata": {},
   "outputs": [
    {
     "name": "stdout",
     "output_type": "stream",
     "text": [
      "29\n",
      "29\n"
     ]
    }
   ],
   "source": [
    "#가짜 동전 찾기\n",
    "def weigh(a,b,c,d):\n",
    "    fake = 29\n",
    "    if a <= fake and fake <= b:\n",
    "        return -1\n",
    "    if c<= fake and fake<=d:\n",
    "        return 1\n",
    "    return 0\n",
    "\n",
    "def find_fakecoin1(left,right):\n",
    "    for i in range(left+1,right+1):\n",
    "        result = weigh(left,left,i,i)\n",
    "        if result == -1:\n",
    "            return left\n",
    "        elif result==1:\n",
    "            return i\n",
    "    return -1\n",
    "\n",
    "def find_fakecoin2(left,right):\n",
    "    if left == right:\n",
    "        return left\n",
    "    half = (right-left+1)//2\n",
    "    g1_left = left\n",
    "    g1_right = left+half-1\n",
    "    g2_left = left+half\n",
    "    g2_right = g2_left+half-1\n",
    "    result = weigh(g1_left,g1_right,g2_left,g2_right)\n",
    "    if result == -1:\n",
    "        return find_fakecoin(g1_left, g1_right)\n",
    "    elif result == 1:\n",
    "        return find_fakecoin(g2_left,g2_right)\n",
    "    else:\n",
    "        return right\n",
    "n = 100\n",
    "print(find_fakecoin1(0,n-1))\n",
    "print(find_fakecoin2(0,n-1))"
   ]
  },
  {
   "cell_type": "code",
   "execution_count": 123,
   "metadata": {},
   "outputs": [
    {
     "name": "stdout",
     "output_type": "stream",
     "text": [
      "2400\n"
     ]
    }
   ],
   "source": [
    "# 최대 이익 내기\n",
    "stock = [10300,9600,9800,8200,7800,8300,9500,9800,10200,9500]\n",
    "def max_profit(prices):\n",
    "    n = len(prices)\n",
    "    max_profit = 0\n",
    "    min_price = prices[0]\n",
    "    for i in range(1,n):\n",
    "        profit = prices[i] - min_price\n",
    "        if profit > max_profit:\n",
    "            max_profit = profit\n",
    "        if min_price > prices[i]:\n",
    "            min_price = prices[i]\n",
    "    return max_profit\n",
    "print(max_profit(stock))"
   ]
  },
  {
   "cell_type": "code",
   "execution_count": null,
   "metadata": {},
   "outputs": [],
   "source": []
  }
 ],
 "metadata": {
  "kernelspec": {
   "display_name": "Python 3",
   "language": "python",
   "name": "python3"
  },
  "language_info": {
   "codemirror_mode": {
    "name": "ipython",
    "version": 3
   },
   "file_extension": ".py",
   "mimetype": "text/x-python",
   "name": "python",
   "nbconvert_exporter": "python",
   "pygments_lexer": "ipython3",
   "version": "3.7.6"
  }
 },
 "nbformat": 4,
 "nbformat_minor": 4
}
