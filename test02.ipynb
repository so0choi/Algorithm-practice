{
 "cells": [
  {
   "cell_type": "code",
   "execution_count": 3,
   "metadata": {},
   "outputs": [
    {
     "name": "stdout",
     "output_type": "stream",
     "text": [
      "120\n"
     ]
    }
   ],
   "source": [
    "def factorial(n):\n",
    "    if n == 1:\n",
    "        return 1\n",
    "    return n * factorial(n-1)\n",
    "print(factorial(5))"
   ]
  },
  {
   "cell_type": "code",
   "execution_count": 4,
   "metadata": {},
   "outputs": [
    {
     "name": "stdout",
     "output_type": "stream",
     "text": [
      "55\n"
     ]
    }
   ],
   "source": [
    "def sumfact(n):\n",
    "    if n == 1:\n",
    "        return 1\n",
    "    return n + sumfact(n-1)\n",
    "print(sumfact(10))"
   ]
  },
  {
   "cell_type": "code",
   "execution_count": 6,
   "metadata": {},
   "outputs": [
    {
     "name": "stdout",
     "output_type": "stream",
     "text": [
      "5\n",
      "4\n",
      "3\n",
      "2\n",
      "1\n",
      "9\n"
     ]
    }
   ],
   "source": [
    "data = [7,3,4,2,9,1]\n",
    "def findMax(data, length):\n",
    "    if length == 1:\n",
    "        return data[0]\n",
    "    print(length-1)\n",
    "    return max(data[length-1], findMax(data, length-1))\n",
    "print(findMax(data, len(data)))"
   ]
  },
  {
   "cell_type": "code",
   "execution_count": 8,
   "metadata": {},
   "outputs": [
    {
     "name": "stdout",
     "output_type": "stream",
     "text": [
      "6\n"
     ]
    }
   ],
   "source": [
    "def find_gcd(m,n):\n",
    "    if m%n==0:\n",
    "        return n\n",
    "    return find_gcd(n,m%n)\n",
    "\n",
    "print(find_gcd(30,12))"
   ]
  },
  {
   "cell_type": "code",
   "execution_count": 11,
   "metadata": {},
   "outputs": [
    {
     "name": "stdout",
     "output_type": "stream",
     "text": [
      "5\n"
     ]
    }
   ],
   "source": [
    "def find_fibo(n):\n",
    "    if n == 0:\n",
    "        return 0\n",
    "    elif n == 1:\n",
    "        return 1\n",
    "    return find_fibo(n-2) + find_fibo(n-1)\n",
    "\n",
    "print(find_fibo(5))"
   ]
  },
  {
   "cell_type": "code",
   "execution_count": 27,
   "metadata": {},
   "outputs": [
    {
     "name": "stdout",
     "output_type": "stream",
     "text": [
      "3\n",
      "7\n",
      "1 3\n",
      "1 2\n",
      "3 2\n",
      "1 3\n",
      "2 1\n",
      "2 3\n",
      "1 3\n"
     ]
    }
   ],
   "source": [
    "move = []\n",
    "def hanoi(n, start, mid, target):\n",
    "    if n == 1:\n",
    "        move.append(str(start)+' '+str(target))\n",
    "        return\n",
    "    hanoi(n-1, start, target, mid)\n",
    "    move.append(str(start)+' '+str(target))\n",
    "    hanoi(n-1, mid, start, target)\n",
    "n = int(input())\n",
    "if n < 20:\n",
    "    hanoi(n,1,2,3)\n",
    "    print(len(move))\n",
    "    if n < 20:\n",
    "        for m in move:\n",
    "            print(m)\n",
    "else:\n",
    "    print(2**n-1)"
   ]
  }
 ],
 "metadata": {
  "kernelspec": {
   "display_name": "Python 3",
   "language": "python",
   "name": "python3"
  },
  "language_info": {
   "codemirror_mode": {
    "name": "ipython",
    "version": 3
   },
   "file_extension": ".py",
   "mimetype": "text/x-python",
   "name": "python",
   "nbconvert_exporter": "python",
   "pygments_lexer": "ipython3",
   "version": "3.7.6"
  }
 },
 "nbformat": 4,
 "nbformat_minor": 4
}
