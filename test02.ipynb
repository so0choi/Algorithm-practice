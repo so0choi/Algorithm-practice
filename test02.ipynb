{
 "cells": [
  {
   "cell_type": "code",
   "execution_count": 1,
   "metadata": {},
   "outputs": [
    {
     "name": "stdout",
     "output_type": "stream",
     "text": [
      "5\n",
      "5\n",
      "2\n",
      "3\n",
      "4\n",
      "1\n",
      "1\n",
      "2\n",
      "3\n",
      "4\n",
      "5\n"
     ]
    }
   ],
   "source": [
    "n = int(input())\n",
    "data = []\n",
    "for _ in range(n):\n",
    "    data.append(int(input()))\n",
    "for d in sorted(data):\n",
    "    print(d)"
   ]
  },
  {
   "cell_type": "code",
   "execution_count": 5,
   "metadata": {},
   "outputs": [
    {
     "name": "stdout",
     "output_type": "stream",
     "text": [
      "1 2 3 2 1 4 5 6\n",
      "mixed\n"
     ]
    }
   ],
   "source": [
    "#2920\n",
    "data = list(map(int,input().split()))\n",
    "if data[0]==1:\n",
    "    for i in range(1,8):\n",
    "        if data[i]!=data[i-1]+1:\n",
    "            print('mixed')\n",
    "            break\n",
    "    else:\n",
    "        print('ascending')\n",
    "elif data[0]==8:\n",
    "    for i in range(1,8):\n",
    "        if data[i]!= data[i-1]-1:\n",
    "            print('mixed')\n",
    "            break\n",
    "    else:\n",
    "        print('descending')\n",
    "else:\n",
    "    print('mixed')\n",
    "    \n",
    "81 83"
   ]
  },
  {
   "cell_type": "code",
   "execution_count": 6,
   "metadata": {},
   "outputs": [
    {
     "name": "stdout",
     "output_type": "stream",
     "text": [
      "1000 100\n",
      "10\n",
      "0\n"
     ]
    }
   ],
   "source": [
    "money, n = map(int,input().split())\n",
    "a,b = divmod(money,n)\n",
    "print(a)\n",
    "print(b)"
   ]
  },
  {
   "cell_type": "code",
   "execution_count": null,
   "metadata": {},
   "outputs": [],
   "source": [
    "# 1260\n",
    "n,m,start = map(int,input().split())\n",
    "# n : 정점 수\n",
    "# m : 간선 수\n",
    "graph = [[0]*(n+1) for i in range]\n",
    "for _ in range(m):\n",
    "    "
   ]
  },
  {
   "cell_type": "code",
   "execution_count": 16,
   "metadata": {},
   "outputs": [
    {
     "name": "stdout",
     "output_type": "stream",
     "text": [
      "1 0 2 0 2 4\n",
      "2 2\n"
     ]
    }
   ],
   "source": [
    "a,b,c,d,e,f = map(int,input().split())\n",
    "if a==0 and b==0 and d==0 and e==0:\n",
    "    x=0\n",
    "    y=0\n",
    "elif a == 0:\n",
    "    y = c//b\n",
    "    x= (f-e*y)/d\n",
    "elif b == 0:\n",
    "    x = c//a\n",
    "    y = (f-d*x)/e\n",
    "elif d == 0:\n",
    "    y = f//e\n",
    "    x = (c-b*y)/a\n",
    "elif e == 0:\n",
    "    x = f//d\n",
    "    y = (c-a*x)/b\n",
    "else:\n",
    "    x = (c/b-f/e)/(a/b-d/e)\n",
    "    y = (c/a-f/d)/(b/a-e/d)\n",
    "print(int(x),int(y))"
   ]
  },
  {
   "cell_type": "code",
   "execution_count": 18,
   "metadata": {},
   "outputs": [
    {
     "name": "stdout",
     "output_type": "stream",
     "text": [
      "[2, 4, 7, 1, 3]\n",
      "[2, 4, 1, 7, 3]\n",
      "[2, 4, 1, 3, 7]\n",
      "[2, 1, 4, 3, 7]\n",
      "[2, 1, 3, 4, 7]\n",
      "[1, 2, 3, 4, 7]\n",
      "[1, 2, 3, 4, 7]\n"
     ]
    }
   ],
   "source": [
    "#bubble sort\n",
    "def bubble(data):\n",
    "    for j in range(len(data)-1,0,-1):\n",
    "        for i in range(j):\n",
    "            if data[i]>data[i+1]:\n",
    "                data[i],data[i+1] = data[i+1],data[i]\n",
    "                print(data)\n",
    "    print(data)\n",
    "l = [4,2,7,1,3]\n",
    "bubble(l)"
   ]
  },
  {
   "cell_type": "code",
   "execution_count": 27,
   "metadata": {},
   "outputs": [
    {
     "name": "stdout",
     "output_type": "stream",
     "text": [
      "[1, 2, 3, 4, 7]\n"
     ]
    }
   ],
   "source": [
    "def select(data):\n",
    "    for j in range(len(data)):\n",
    "        idx = j\n",
    "        for i in range(j+1,len(data)):\n",
    "            if data[i] < data[idx]:\n",
    "                idx = i\n",
    "        if idx!=j:\n",
    "            data[idx],data[j] = data[j],data[idx]\n",
    "    print(data)\n",
    "l = [4,2,7,1,3]\n",
    "select(l)"
   ]
  },
  {
   "cell_type": "code",
   "execution_count": 32,
   "metadata": {},
   "outputs": [
    {
     "name": "stdout",
     "output_type": "stream",
     "text": [
      "[1, 2, 3, 4, 5, 7]\n"
     ]
    }
   ],
   "source": [
    "# 삽입 정렬\n",
    "def insert_sort(data):\n",
    "    for i in range(1,len(data)):\n",
    "        position = i\n",
    "        temp_val  = data[i]\n",
    "        while position > 0 and data[position-1] > temp_val:\n",
    "            data[position] = data[position-1]\n",
    "            position-=1\n",
    "        data[position] = temp_val\n",
    "    print(data)\n",
    "    \n",
    "l = [4,1,3,7,2,5]\n",
    "insert_sort(l)"
   ]
  },
  {
   "cell_type": "code",
   "execution_count": 36,
   "metadata": {},
   "outputs": [
    {
     "name": "stdout",
     "output_type": "stream",
     "text": [
      "{([)]}\n",
      "error\n"
     ]
    }
   ],
   "source": [
    "# 괄호 linter\n",
    "word = input()\n",
    "def linter(word):\n",
    "    brace = []\n",
    "    brace_dic = {')':'(',']':'[','}':'{'}\n",
    "    brace_open = brace_dic.values()\n",
    "    brace_close = brace_dic.keys()\n",
    "    for w in word:\n",
    "        if w in brace_open:\n",
    "            brace.append(w)\n",
    "        elif w in brace_close:\n",
    "            if not brace.pop() == brace_dic[w]:\n",
    "                return 'error'\n",
    "                break\n",
    "    return 'correct'\n",
    "\n",
    "print(linter(word))"
   ]
  },
  {
   "cell_type": "code",
   "execution_count": 39,
   "metadata": {},
   "outputs": [
    {
     "name": "stdout",
     "output_type": "stream",
     "text": [
      "(((([나이키]품절 {할인 (농구)[]잔디 }))[]))\n",
      "{'나이키': 5, '품절 ': 4, '할인 ': 5, '농구': 6, '잔디 ': 5}\n",
      "['농구', '나이키', '할인 ', '잔디 ', '품절 ']\n"
     ]
    }
   ],
   "source": [
    "word= input()\n",
    "def find_brace(word):\n",
    "    brace_open = ['(','[','{']\n",
    "    brace_close = [')',']','}']\n",
    "    depth = 0\n",
    "    word_dic = {}\n",
    "    temp_word = ''\n",
    "    for w in word:\n",
    "        if w in brace_open:\n",
    "            if temp_word:\n",
    "                word_dic[temp_word] = depth\n",
    "                temp_word=''\n",
    "            depth+=1\n",
    "        elif w in brace_close:\n",
    "            if temp_word:\n",
    "                word_dic[temp_word] = depth\n",
    "                temp_word = ''\n",
    "            depth-=1\n",
    "        else:\n",
    "            temp_word += w\n",
    "    print(word_dic)\n",
    "    ans = sorted(word_dic.keys(), key = lambda x:word_dic[x], reverse = True)\n",
    "    print(ans)\n",
    "find_brace(word)"
   ]
  }
 ],
 "metadata": {
  "kernelspec": {
   "display_name": "Python 3",
   "language": "python",
   "name": "python3"
  },
  "language_info": {
   "codemirror_mode": {
    "name": "ipython",
    "version": 3
   },
   "file_extension": ".py",
   "mimetype": "text/x-python",
   "name": "python",
   "nbconvert_exporter": "python",
   "pygments_lexer": "ipython3",
   "version": "3.7.6"
  }
 },
 "nbformat": 4,
 "nbformat_minor": 4
}
