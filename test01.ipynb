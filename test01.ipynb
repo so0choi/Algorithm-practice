{
 "cells": [
  {
   "cell_type": "code",
   "execution_count": 5,
   "metadata": {},
   "outputs": [
    {
     "name": "stdout",
     "output_type": "stream",
     "text": [
      "True\n"
     ]
    }
   ],
   "source": [
    "def solution(name_list):\n",
    "  s = set(name_list)\n",
    "  for search in s:\n",
    "    match = 0\n",
    "    for name in name_list:\n",
    "      if search in name:\n",
    "        match+=1\n",
    "    if match > 1:\n",
    "      return True\n",
    "  return False\n",
    "\n",
    "print(solution(['너굴','너굴너굴']))"
   ]
  },
  {
   "cell_type": "code",
   "execution_count": 7,
   "metadata": {},
   "outputs": [
    {
     "name": "stdout",
     "output_type": "stream",
     "text": [
      "1 1\n"
     ]
    }
   ],
   "source": [
    "print(*divmod(4,3))"
   ]
  },
  {
   "cell_type": "code",
   "execution_count": 8,
   "metadata": {},
   "outputs": [],
   "source": [
    "import numpy as np"
   ]
  },
  {
   "cell_type": "code",
   "execution_count": 9,
   "metadata": {},
   "outputs": [
    {
     "name": "stdout",
     "output_type": "stream",
     "text": [
      "[[0. 0. 0.]\n",
      " [0. 0. 0.]\n",
      " [0. 0. 0.]]\n"
     ]
    },
    {
     "data": {
      "text/plain": [
       "array([[1., 4., 7.],\n",
       "       [2., 5., 8.],\n",
       "       [3., 6., 9.]])"
      ]
     },
     "execution_count": 9,
     "metadata": {},
     "output_type": "execute_result"
    }
   ],
   "source": [
    "\n",
    "def solution(mylist):\n",
    "    N=len(mylist)\n",
    "    answer = np.zeros((N,N))\n",
    "    print(answer)\n",
    "    for i in range(N):\n",
    "        for j in range(N):\n",
    "            answer[i][j] = mylist[j][i]\n",
    "    return answer\n",
    "solution( [ [1,2,3], [4,5,6], [7,8,9] ])"
   ]
  },
  {
   "cell_type": "code",
   "execution_count": 16,
   "metadata": {},
   "outputs": [
    {
     "name": "stdout",
     "output_type": "stream",
     "text": [
      "(1, 4, 7)\n",
      "(2, 5, 8)\n",
      "(3, 6, 9)\n",
      "[[1, 4, 7], [2, 5, 8], [3, 6, 9]]\n"
     ]
    }
   ],
   "source": [
    "mylist = [ [1,2,3], [4,5,6], [7,8,9] ]\n",
    "new_list = list(map(list, zip(*mylist)))\n",
    "\n",
    "for z in zip(*mylist):\n",
    "    print(z)\n",
    "print(new_list)"
   ]
  },
  {
   "cell_type": "code",
   "execution_count": 18,
   "metadata": {},
   "outputs": [
    {
     "name": "stdout",
     "output_type": "stream",
     "text": [
      "('A', 'x', '1')\n",
      "('A', 'x', '2')\n",
      "('A', 'x', '3')\n",
      "('A', 'x', '4')\n",
      "('A', 'y', '1')\n",
      "('A', 'y', '2')\n",
      "('A', 'y', '3')\n",
      "('A', 'y', '4')\n",
      "('B', 'x', '1')\n",
      "('B', 'x', '2')\n",
      "('B', 'x', '3')\n",
      "('B', 'x', '4')\n",
      "('B', 'y', '1')\n",
      "('B', 'y', '2')\n",
      "('B', 'y', '3')\n",
      "('B', 'y', '4')\n",
      "('C', 'x', '1')\n",
      "('C', 'x', '2')\n",
      "('C', 'x', '3')\n",
      "('C', 'x', '4')\n",
      "('C', 'y', '1')\n",
      "('C', 'y', '2')\n",
      "('C', 'y', '3')\n",
      "('C', 'y', '4')\n",
      "('D', 'x', '1')\n",
      "('D', 'x', '2')\n",
      "('D', 'x', '3')\n",
      "('D', 'x', '4')\n",
      "('D', 'y', '1')\n",
      "('D', 'y', '2')\n",
      "('D', 'y', '3')\n",
      "('D', 'y', '4')\n"
     ]
    }
   ],
   "source": [
    "import itertools\n",
    "\n",
    "iterable1 = 'ABCD'\n",
    "iterable2 = 'xy'\n",
    "iterable3 = '1234'\n",
    "for i in itertools.product(iterable1, iterable2, iterable3):\n",
    "    print(i)"
   ]
  },
  {
   "cell_type": "code",
   "execution_count": 22,
   "metadata": {},
   "outputs": [
    {
     "name": "stdout",
     "output_type": "stream",
     "text": [
      "대한민국\n",
      "스웨덴\n",
      "미국\n",
      "서울\n",
      "스톡홀름\n",
      "워싱턴\n"
     ]
    }
   ],
   "source": [
    "from itertools import chain\n",
    "country = ['대한민국','스웨덴', '미국']\n",
    "capital = ['서울','스톡홀름','워싱턴']\n",
    "c = chain(country, capital)\n",
    "for i in c:\n",
    "    print(i)"
   ]
  },
  {
   "cell_type": "code",
   "execution_count": 23,
   "metadata": {},
   "outputs": [
    {
     "data": {
      "text/plain": [
       "[1, 2, 3, 4, 5, 6]"
      ]
     },
     "execution_count": 23,
     "metadata": {},
     "output_type": "execute_result"
    }
   ],
   "source": [
    "from functools import reduce\n",
    "my_list = [[1, 2], [3, 4], [5, 6]]\n",
    "list(reduce(lambda x, y: x+y, my_list))\n"
   ]
  },
  {
   "cell_type": "code",
   "execution_count": 30,
   "metadata": {},
   "outputs": [
    {
     "name": "stdout",
     "output_type": "stream",
     "text": [
      "5\n"
     ]
    }
   ],
   "source": [
    "def solution(n, lost, reserve):\n",
    "    m = len(lost)\n",
    "    lost.sort()\n",
    "    idx = 0\n",
    "    for _ in range(m):\n",
    "        target = lost[idx]-1\n",
    "        if target in reserve:\n",
    "            lost.pop(idx)\n",
    "            reserve.pop(reserve.index(target))\n",
    "        else:\n",
    "            idx+=1\n",
    "    if lost:\n",
    "        m = len(lost)\n",
    "        idx = 0\n",
    "        for _ in range(m):\n",
    "            target = lost[idx]+1\n",
    "            if target in reserve:\n",
    "                lost.pop(idx)\n",
    "                reserve.pop(reserve.index(target))\n",
    "            else:\n",
    "                idx+=1\n",
    "    return n - len(lost)\n",
    "            \n",
    "n=5\n",
    "lost = [2,4]\n",
    "reserve = [1,3,5]\n",
    "print(solution(n, lost, reserve))"
   ]
  }
 ],
 "metadata": {
  "kernelspec": {
   "display_name": "Python 3",
   "language": "python",
   "name": "python3"
  },
  "language_info": {
   "codemirror_mode": {
    "name": "ipython",
    "version": 3
   },
   "file_extension": ".py",
   "mimetype": "text/x-python",
   "name": "python",
   "nbconvert_exporter": "python",
   "pygments_lexer": "ipython3",
   "version": "3.7.6"
  }
 },
 "nbformat": 4,
 "nbformat_minor": 4
}
