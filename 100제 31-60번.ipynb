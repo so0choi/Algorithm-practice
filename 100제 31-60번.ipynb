{
 "cells": [
  {
   "cell_type": "code",
   "execution_count": 6,
   "metadata": {},
   "outputs": [
    {
     "name": "stdout",
     "output_type": "stream",
     "text": [
      "   안녕  나는   소영      \n",
      "3\n"
     ]
    }
   ],
   "source": [
    "#문제 32\n",
    "text = input().split()\n",
    "print(len(text))"
   ]
  },
  {
   "cell_type": "code",
   "execution_count": 8,
   "metadata": {},
   "outputs": [
    {
     "name": "stdout",
     "output_type": "stream",
     "text": [
      "1 2 3 4 5\n",
      "5 4 3 2 1 "
     ]
    }
   ],
   "source": [
    "# 문제 33\n",
    "num = list(map(int, input().split()))\n",
    "for i in num[::-1]:\n",
    "    print(i,end=' ')"
   ]
  },
  {
   "cell_type": "code",
   "execution_count": 11,
   "metadata": {},
   "outputs": [
    {
     "name": "stdout",
     "output_type": "stream",
     "text": [
      "176 156 155 165 166 169\n",
      "no\n"
     ]
    }
   ],
   "source": [
    "#문제 34\n",
    "height = list(map(int, input().split()))\n",
    "for i in range(len(height)-1):\n",
    "    if height[i]> height[i+1]:\n",
    "        print('no')\n",
    "        break"
   ]
  },
  {
   "cell_type": "code",
   "execution_count": 12,
   "metadata": {},
   "outputs": [
    {
     "name": "stdout",
     "output_type": "stream",
     "text": [
      "176 156 155 165 166 169\n",
      "NO\n"
     ]
    }
   ],
   "source": [
    "user_input = input()\n",
    "\n",
    "l = list(user_input.strip().split())\n",
    "l = [int (i) for i in l]\n",
    "\n",
    "if l != sorted(l):\n",
    "    print(\"NO\")\n",
    "else:\n",
    "    print(\"YES\")"
   ]
  },
  {
   "cell_type": "code",
   "execution_count": 14,
   "metadata": {},
   "outputs": [
    {
     "name": "stdout",
     "output_type": "stream",
     "text": [
      "100\n",
      "1000\n",
      "10000\n"
     ]
    }
   ],
   "source": [
    "#문제 35\n",
    "def one(n):\n",
    "    def two(val):\n",
    "        return val**n\n",
    "    return two\n",
    "\n",
    "a = one(2)\n",
    "b = one(3)\n",
    "c = one(4)\n",
    "print(a(10))\n",
    "print(b(10))\n",
    "print(c(10))"
   ]
  },
  {
   "cell_type": "code",
   "execution_count": 16,
   "metadata": {},
   "outputs": [
    {
     "name": "stdout",
     "output_type": "stream",
     "text": [
      "2\n",
      "2 4 6 8 10 12 14 16 18 "
     ]
    }
   ],
   "source": [
    "#문제 36\n",
    "n = int(input())\n",
    "for i in range(1,10):\n",
    "    print(n*i, end=' ')"
   ]
  },
  {
   "cell_type": "code",
   "execution_count": 17,
   "metadata": {},
   "outputs": [
    {
     "name": "stdout",
     "output_type": "stream",
     "text": [
      "원범 원범 혜원 혜원 혜원 혜원 유진 유진\n",
      "혜원가 총 4표로 반장이 되었습니다\n"
     ]
    }
   ],
   "source": [
    "#문제 37\n",
    "name = input().split()\n",
    "max_count = name.count(name[0])\n",
    "max_name=name[0]\n",
    "for n in name:\n",
    "    if max_count < name.count(n):\n",
    "        max_count = name.count(n)\n",
    "        max_name = n\n",
    "print('{}가 총 {}표로 반장이 되었습니다'.format(max_name, max_count))"
   ]
  },
  {
   "cell_type": "code",
   "execution_count": 18,
   "metadata": {},
   "outputs": [
    {
     "name": "stdout",
     "output_type": "stream",
     "text": [
      "원범 원범 혜원 혜원 혜원 혜원 유진 유진\n",
      "혜원가 총 4표로 반장이 되었습니다.\n"
     ]
    }
   ],
   "source": [
    "data = input().split()\n",
    "count = 0\n",
    "for i in range(len(data)):\n",
    "    if data.count(data[i-1]) < data.count(data[i]):\n",
    "        count = i\n",
    "print(\"{}가 총 {}표로 반장이 되었습니다.\".format(data[count], data.count(data[count])))"
   ]
  },
  {
   "cell_type": "code",
   "execution_count": 8,
   "metadata": {},
   "outputs": [
    {
     "name": "stdout",
     "output_type": "stream",
     "text": [
      "1 1 1 1 1 1 1\n",
      "7\n"
     ]
    }
   ],
   "source": [
    "# 문제 38\n",
    "data = list(map(int, input().split()))\n",
    "sorted_data = sorted(data,reverse=True)\n",
    "count = 1\n",
    "candy = 1\n",
    "for i in range(len(sorted_data)-1):\n",
    "    if count>3:\n",
    "        candy-=1\n",
    "        break\n",
    "    if sorted_data[i] != sorted_data[i+1]:\n",
    "        count+=1\n",
    "    candy+=1\n",
    "\n",
    "print(candy)"
   ]
  },
  {
   "cell_type": "code",
   "execution_count": 15,
   "metadata": {},
   "outputs": [
    {
     "name": "stdout",
     "output_type": "stream",
     "text": [
      "querty\n",
      "euerty\n"
     ]
    }
   ],
   "source": [
    "#문제 39\n",
    "data = input()\n",
    "print(data.replace('q','e'))"
   ]
  },
  {
   "cell_type": "code",
   "execution_count": 17,
   "metadata": {},
   "outputs": [
    {
     "name": "stdout",
     "output_type": "stream",
     "text": [
      "50\n",
      "5\n",
      "20\n",
      "20\n",
      "20\n",
      "20\n",
      "20\n",
      "2\n"
     ]
    }
   ],
   "source": [
    "#문제 40\n",
    "max_w = int(input())\n",
    "people = int(input())\n",
    "count = 0\n",
    "total = max_w\n",
    "for i in range(people):\n",
    "    n = int(input())\n",
    "    total -= n\n",
    "    if total >= 0:\n",
    "        count+=1\n",
    "\n",
    "print(count)"
   ]
  },
  {
   "cell_type": "code",
   "execution_count": 24,
   "metadata": {},
   "outputs": [
    {
     "name": "stdout",
     "output_type": "stream",
     "text": [
      "37\n",
      "yes\n"
     ]
    }
   ],
   "source": [
    "# 문제 41 (소수 판별)\n",
    "n = int(input())\n",
    "def check_prime(n):\n",
    "    i = 2\n",
    "    while i < n:\n",
    "        if n%i ==0:\n",
    "            break\n",
    "        i = i+1\n",
    "    if i==n:\n",
    "        print('yes')\n",
    "    else:\n",
    "        print('no')\n",
    "check_prime(n)"
   ]
  },
  {
   "cell_type": "code",
   "execution_count": 34,
   "metadata": {},
   "outputs": [
    {
     "name": "stdout",
     "output_type": "stream",
     "text": [
      "13\n",
      "[2, 3, 5, 7, 11, 13]\n"
     ]
    }
   ],
   "source": [
    "# 에라토스테네스의 체 ( n 이하의 소수 출력 )\n",
    "n = int(input())\n",
    "\n",
    "def era(n):\n",
    "    nlist = [True] * (n+1)\n",
    "    limit = int(n ** 0.5) #n의 최대 약수는 sqrt(n)이하 이므로 i=sqrt(n) 까지를 검사\n",
    "    for i in range(2, limit+1):\n",
    "        if nlist[i] == True:\n",
    "            for j in range(i+i, n+1, i):\n",
    "                nlist[j] = False\n",
    "    return [i for i in range(2,n+1) if nlist[i]!=False]\n",
    "\n",
    "print(era(n))"
   ]
  },
  {
   "cell_type": "code",
   "execution_count": 35,
   "metadata": {},
   "outputs": [],
   "source": [
    "import datetime"
   ]
  },
  {
   "cell_type": "code",
   "execution_count": 40,
   "metadata": {},
   "outputs": [
    {
     "name": "stdout",
     "output_type": "stream",
     "text": [
      "6 30\n",
      "TUE\n"
     ]
    }
   ],
   "source": [
    "# 문제 42\n",
    "a,b = map(int,input().split())\n",
    "\n",
    "def what_day(a,b):\n",
    "    days = ['MON','TUE','WED','THU','FRI','SAT','SUN']\n",
    "    return days[datetime.date(2020,a,b).weekday()]\n",
    "          \n",
    "print(what_day(a,b))"
   ]
  },
  {
   "cell_type": "code",
   "execution_count": 46,
   "metadata": {},
   "outputs": [
    {
     "name": "stdout",
     "output_type": "stream",
     "text": [
      "5\n",
      "101\n"
     ]
    }
   ],
   "source": [
    "# 문제 43\n",
    "n = int(input())\n",
    "ans = ''\n",
    "while n > 0:\n",
    "    ans = str(n%2) + ans\n",
    "    n = n//2\n",
    "print(ans)"
   ]
  },
  {
   "cell_type": "code",
   "execution_count": 48,
   "metadata": {},
   "outputs": [
    {
     "name": "stdout",
     "output_type": "stream",
     "text": [
      "3849\n",
      "24\n"
     ]
    }
   ],
   "source": [
    "# 문제 44\n",
    "n = int(input())\n",
    "sum = 0\n",
    "while n > 0:\n",
    "    sum += n%10\n",
    "    n = n//10\n",
    "print(sum)"
   ]
  },
  {
   "cell_type": "code",
   "execution_count": 50,
   "metadata": {},
   "outputs": [
    {
     "name": "stdout",
     "output_type": "stream",
     "text": [
      "123\n",
      "6\n"
     ]
    }
   ],
   "source": [
    "n = input()\n",
    "result = 0\n",
    "for i in n:\n",
    "    result += int(i)\n",
    "print(result)"
   ]
  },
  {
   "cell_type": "code",
   "execution_count": 51,
   "metadata": {},
   "outputs": [],
   "source": [
    "import time"
   ]
  },
  {
   "cell_type": "code",
   "execution_count": 55,
   "metadata": {},
   "outputs": [
    {
     "name": "stdout",
     "output_type": "stream",
     "text": [
      "['_STRUCT_TM_ITEMS', '__doc__', '__loader__', '__name__', '__package__', '__spec__', 'altzone', 'asctime', 'clock', 'ctime', 'daylight', 'get_clock_info', 'gmtime', 'localtime', 'mktime', 'monotonic', 'monotonic_ns', 'perf_counter', 'perf_counter_ns', 'process_time', 'process_time_ns', 'sleep', 'strftime', 'strptime', 'struct_time', 'thread_time', 'thread_time_ns', 'time', 'time_ns', 'timezone', 'tzname']\n"
     ]
    }
   ],
   "source": [
    "# 문제 45\n",
    "print(dir(time))"
   ]
  },
  {
   "cell_type": "code",
   "execution_count": 58,
   "metadata": {},
   "outputs": [
    {
     "name": "stdout",
     "output_type": "stream",
     "text": [
      "1593505063.9175234\n",
      "2020\n"
     ]
    }
   ],
   "source": [
    "t = time.time()\n",
    "print(t)\n",
    "t = int(t//(3600*24*365))+1970\n",
    "print(t)"
   ]
  },
  {
   "cell_type": "code",
   "execution_count": 64,
   "metadata": {},
   "outputs": [
    {
     "name": "stdout",
     "output_type": "stream",
     "text": [
      "901\n"
     ]
    }
   ],
   "source": [
    "text = ''\n",
    "for i in range(1,101):\n",
    "    text+=str(i)\n",
    "sum=0\n",
    "for t in text:\n",
    "    sum+=int(t)\n",
    "print(sum)"
   ]
  },
  {
   "cell_type": "code",
   "execution_count": 66,
   "metadata": {},
   "outputs": [
    {
     "name": "stdout",
     "output_type": "stream",
     "text": [
      "{('이호', '01050443904'), ('이준', '01050412904'), ('이준호', '01050342904'), ('이호준', '01050442903'), ('이호상', '01051442904')}\n",
      "5\n"
     ]
    }
   ],
   "source": [
    "#문제 47\n",
    "\n",
    "people = [\n",
    "         ('이호준', '01050442903'),\n",
    "         ('이호상', '01051442904'),\n",
    "         ('이준호', '01050342904'),\n",
    "         ('이호준', '01050442903'),\n",
    "         ('이준', '01050412904'),\n",
    "         ('이호', '01050443904'),\n",
    "         ('이호준', '01050442903'),\n",
    "         ]\n",
    "people_set = set(people)\n",
    "print(people_set)\n",
    "print(len(people_set))"
   ]
  },
  {
   "cell_type": "code",
   "execution_count": 72,
   "metadata": {},
   "outputs": [
    {
     "name": "stdout",
     "output_type": "stream",
     "text": [
      "aabbCDe\n",
      "AABBcdE"
     ]
    }
   ],
   "source": [
    "#문제 48\n",
    "text = input()\n",
    "result = []\n",
    "for t in text:\n",
    "    if t.isupper() == True:\n",
    "        result.append(t.lower())\n",
    "    else:\n",
    "        result.append(t.upper())\n",
    "for t in result:\n",
    "    print(t,end='')"
   ]
  },
  {
   "cell_type": "code",
   "execution_count": 74,
   "metadata": {
    "scrolled": true
   },
   "outputs": [
    {
     "name": "stdout",
     "output_type": "stream",
     "text": [
      "10 9 8 7 6 5 4 3 2 1\n",
      "10\n"
     ]
    }
   ],
   "source": [
    "# 문제 49\n",
    "l = list(map(int, input().split()))\n",
    "print(max(l))"
   ]
  },
  {
   "cell_type": "code",
   "execution_count": 75,
   "metadata": {},
   "outputs": [
    {
     "name": "stdout",
     "output_type": "stream",
     "text": [
      "5\n",
      "4 2 3 8 5\n",
      "2 3 4 5 8 "
     ]
    }
   ],
   "source": [
    "# 문제 50\n",
    "def bubble(n,data):\n",
    "    for i in range(n-1):\n",
    "        for j in range(i+1, n):\n",
    "            if data[i] > data[j]:\n",
    "                data[i],data[j] = data[j],data[i]\n",
    "    for i in range(n):\n",
    "        print(data[i], end=' ')\n",
    "        \n",
    "n = int(input())\n",
    "data = list(map(int, input().split()))\n",
    "\n",
    "bubble(n,data)"
   ]
  },
  {
   "cell_type": "code",
   "execution_count": 86,
   "metadata": {},
   "outputs": [
    {
     "name": "stdout",
     "output_type": "stream",
     "text": [
      "[2, 3, 4, 5, 8]\n"
     ]
    }
   ],
   "source": [
    "#문제 51\n",
    "def merge(data):\n",
    "    n = len(data)\n",
    "    if len(data) <=1:\n",
    "        return data\n",
    "    \n",
    "    mid = n//2\n",
    "    #이부분 놓쳤음!!! 제대로 확인 할 것...\n",
    "    group1 = merge(data[:mid])\n",
    "    group2 = merge(data[mid:])\n",
    "    result = []\n",
    "    \n",
    "    while group1 and group2:\n",
    "        if group1[0] < group2[0]:\n",
    "            result.append(group1.pop(0))\n",
    "        else:\n",
    "            result.append(group2.pop(0))\n",
    "            \n",
    "    while group1:\n",
    "        result.append(group1.pop(0))\n",
    "    while group2:\n",
    "        result.append(group2.pop(0))\n",
    "        \n",
    "    return result\n",
    "\n",
    "n = 5\n",
    "data = [4,2,3,8,5]\n",
    "print(merge(data))"
   ]
  },
  {
   "cell_type": "code",
   "execution_count": 89,
   "metadata": {},
   "outputs": [
    {
     "name": "stdout",
     "output_type": "stream",
     "text": [
      "[2, 3, 4, 5, 8]\n"
     ]
    }
   ],
   "source": [
    "#문제 52\n",
    "\n",
    "def quicksort(data):\n",
    "    n = len(data)\n",
    "    if n <= 1:\n",
    "        return data\n",
    "    pivot = data.pop(n//2)\n",
    "    group1 = []\n",
    "    group2 = []\n",
    "    \n",
    "    for i in range(n-1):\n",
    "        if data[i] < pivot:\n",
    "            group1.append(data[i])\n",
    "        else:\n",
    "            group2.append(data[i])\n",
    "    return quicksort(group1) + [pivot] + quicksort(group2)\n",
    "\n",
    "data = [4,2,3,8,5]\n",
    "print(quicksort(data))"
   ]
  },
  {
   "cell_type": "code",
   "execution_count": 94,
   "metadata": {},
   "outputs": [
    {
     "name": "stdout",
     "output_type": "stream",
     "text": [
      "([{}]])\n",
      "no\n"
     ]
    }
   ],
   "source": [
    "#문제 53\n",
    "data = input()\n",
    "open_ = ['(','[','{']\n",
    "close_ = [')',']','}']\n",
    "count\n",
    "for i in range(3):\n",
    "    count_o = data.count(open_[i])\n",
    "    count_c = data.count(close_[i])\n",
    "    if count_o != count_c:\n",
    "        print('no')\n",
    "        break\n",
    "    if i == 2:\n",
    "        print('yes')"
   ]
  },
  {
   "cell_type": "code",
   "execution_count": 101,
   "metadata": {},
   "outputs": [
    {
     "name": "stdout",
     "output_type": "stream",
     "text": [
      "1 4 2 6 3\n",
      "no\n"
     ]
    }
   ],
   "source": [
    "#문제 54\n",
    "num = list(map(int, input().split()))\n",
    "s_num = sorted(num)\n",
    "for i in range(1,len(s_num)):\n",
    "    if s_num[i] != s_num[i-1]+1:\n",
    "        print('no')\n",
    "        break\n",
    "    if i == len(s_num)-1:\n",
    "        print('yes')"
   ]
  },
  {
   "cell_type": "code",
   "execution_count": 107,
   "metadata": {},
   "outputs": [
    {
     "name": "stdout",
     "output_type": "stream",
     "text": [
      "3\n",
      "7\n",
      "[['A', 'C'], ['A', 'B'], ['C', 'B'], ['A', 'C'], ['B', 'A'], ['B', 'C'], ['A', 'C']]\n"
     ]
    }
   ],
   "source": [
    "#문제 55\n",
    "process = []\n",
    "def hanoi(num, start, target, mid):\n",
    "    if num ==1:\n",
    "        process.append([start,target])\n",
    "        return None\n",
    "    hanoi(num-1, start, mid, target)\n",
    "    process.append([start,target])\n",
    "    hanoi(num-1,mid,target,start)\n",
    "    \n",
    "user_input = int(input())\n",
    "hanoi(user_input,'A','C','B')\n",
    "\n",
    "print(len(process))\n",
    "print(process)"
   ]
  },
  {
   "cell_type": "code",
   "execution_count": 129,
   "metadata": {},
   "outputs": [
    {
     "name": "stdout",
     "output_type": "stream",
     "text": [
      "England 22023\n"
     ]
    }
   ],
   "source": [
    "# 문제 56\n",
    "nationWidth = {'korea': 220877, \n",
    "               'Rusia': 17098242,'China': 9596961,'France': 543965,'Japan': 377915,'England' : 242900 }\n",
    "difference = []\n",
    "k = nationWidth.pop('korea')\n",
    "diff = abs(k - list(nationWidth.values())[0])\n",
    "ans = list(nationWidth.keys())[0]\n",
    "for key,val in nationWidth.items():\n",
    "    if abs(k - val) < diff:\n",
    "        diff = abs(k-val)\n",
    "        ans = key\n",
    "print(key,diff)"
   ]
  },
  {
   "cell_type": "code",
   "execution_count": 133,
   "metadata": {},
   "outputs": [
    {
     "name": "stdout",
     "output_type": "stream",
     "text": [
      "301\n"
     ]
    }
   ],
   "source": [
    "# 문제 57\n",
    "sum = 0\n",
    "for i in range(1001):\n",
    "    sum += str(i).count('1')\n",
    "    \n",
    "print(sum)"
   ]
  },
  {
   "cell_type": "code",
   "execution_count": 134,
   "metadata": {},
   "outputs": [
    {
     "name": "stdout",
     "output_type": "stream",
     "text": [
      "301\n"
     ]
    }
   ],
   "source": [
    "def count_one(n):\n",
    "    return str(list(range(n+1))).count('1')\n",
    "\n",
    "print(count_one(1000))"
   ]
  },
  {
   "cell_type": "code",
   "execution_count": 10,
   "metadata": {},
   "outputs": [
    {
     "name": "stdout",
     "output_type": "stream",
     "text": [
      "123456789\n",
      "123,456,789\n"
     ]
    }
   ],
   "source": [
    "## 문제 58\n",
    "n = input()\n",
    "\n",
    "def comma(n):\n",
    "    if len(n) <= 3:\n",
    "        return n\n",
    "    else:\n",
    "        return comma(n[:-3]) + ',' + n[-3:]\n",
    "\n",
    "print(comma(n))"
   ]
  },
  {
   "cell_type": "code",
   "execution_count": 11,
   "metadata": {},
   "outputs": [
    {
     "name": "stdout",
     "output_type": "stream",
     "text": [
      "123456789\n",
      "123,456,789\n"
     ]
    }
   ],
   "source": [
    "n = int(input())\n",
    "result = format(n,',')\n",
    "print(result)"
   ]
  },
  {
   "cell_type": "code",
   "execution_count": 21,
   "metadata": {},
   "outputs": [
    {
     "name": "stdout",
     "output_type": "stream",
     "text": [
      "hi\n",
      "========================hi========================\n"
     ]
    }
   ],
   "source": [
    "# 문제 59\n",
    "data = input()\n",
    "print(\"{0:=^50}\".format(data))"
   ]
  },
  {
   "cell_type": "code",
   "execution_count": 26,
   "metadata": {},
   "outputs": [
    {
     "name": "stdout",
     "output_type": "stream",
     "text": [
      "번호: 1, 이름: 강은지\n",
      "번호: 2, 이름: 김유정\n",
      "번호: 3, 이름: 박현서\n",
      "번호: 4, 이름: 최성훈\n",
      "번호: 5, 이름: 홍유진\n",
      "번호: 6, 이름: 박지호\n",
      "번호: 7, 이름: 권윤일\n",
      "번호: 8, 이름: 김채리\n",
      "번호: 9, 이름: 한지호\n",
      "번호: 10, 이름: 김진이\n",
      "번호: 11, 이름: 김민호\n",
      "번호: 12, 이름: 강채연\n"
     ]
    }
   ],
   "source": [
    "#문제 60\n",
    "student = ['강은지','김유정','박현서','최성훈','홍유진','박지호','권윤일','김채리','한지호','김진이','김민호','강채연']\n",
    "data = enumerate(student,1)\n",
    "for d in data:\n",
    "    print('번호: {}, 이름: {}'.format(d[0],d[1]))"
   ]
  }
 ],
 "metadata": {
  "kernelspec": {
   "display_name": "Python 3.7.6 64-bit ('base': conda)",
   "language": "python",
   "name": "python37664bitbaseconda8391ded08ec54e87b7dceb008b4b8c9b"
  },
  "language_info": {
   "codemirror_mode": {
    "name": "ipython",
    "version": 3
   },
   "file_extension": ".py",
   "mimetype": "text/x-python",
   "name": "python",
   "nbconvert_exporter": "python",
   "pygments_lexer": "ipython3",
   "version": "3.7.6"
  }
 },
 "nbformat": 4,
 "nbformat_minor": 4
}
