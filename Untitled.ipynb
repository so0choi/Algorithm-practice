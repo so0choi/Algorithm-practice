{
 "cells": [
  {
   "cell_type": "code",
   "execution_count": 1,
   "metadata": {},
   "outputs": [
    {
     "name": "stdout",
     "output_type": "stream",
     "text": [
      "5\n",
      "5\n",
      "2\n",
      "3\n",
      "4\n",
      "1\n",
      "1\n",
      "2\n",
      "3\n",
      "4\n",
      "5\n"
     ]
    }
   ],
   "source": [
    "n = int(input())\n",
    "data = []\n",
    "for _ in range(n):\n",
    "    data.append(int(input()))\n",
    "for d in sorted(data):\n",
    "    print(d)"
   ]
  },
  {
   "cell_type": "code",
   "execution_count": 5,
   "metadata": {},
   "outputs": [
    {
     "name": "stdout",
     "output_type": "stream",
     "text": [
      "1 2 3 2 1 4 5 6\n",
      "mixed\n"
     ]
    }
   ],
   "source": [
    "#2920\n",
    "data = list(map(int,input().split()))\n",
    "if data[0]==1:\n",
    "    for i in range(1,8):\n",
    "        if data[i]!=data[i-1]+1:\n",
    "            print('mixed')\n",
    "            break\n",
    "    else:\n",
    "        print('ascending')\n",
    "elif data[0]==8:\n",
    "    for i in range(1,8):\n",
    "        if data[i]!= data[i-1]-1:\n",
    "            print('mixed')\n",
    "            break\n",
    "    else:\n",
    "        print('descending')\n",
    "else:\n",
    "    print('mixed')\n",
    "    \n",
    "81 83"
   ]
  },
  {
   "cell_type": "code",
   "execution_count": 6,
   "metadata": {},
   "outputs": [
    {
     "name": "stdout",
     "output_type": "stream",
     "text": [
      "1000 100\n",
      "10\n",
      "0\n"
     ]
    }
   ],
   "source": [
    "money, n = map(int,input().split())\n",
    "a,b = divmod(money,n)\n",
    "print(a)\n",
    "print(b)"
   ]
  },
  {
   "cell_type": "code",
   "execution_count": null,
   "metadata": {},
   "outputs": [],
   "source": [
    "# 1260\n",
    "n,m,start = map(int,input().split())\n",
    "# n : 정점 수\n",
    "# m : 간선 수\n",
    "graph = [[0]*(n+1) for i in range]\n",
    "for _ in range(m):\n",
    "    "
   ]
  }
 ],
 "metadata": {
  "kernelspec": {
   "display_name": "Python 3",
   "language": "python",
   "name": "python3"
  },
  "language_info": {
   "codemirror_mode": {
    "name": "ipython",
    "version": 3
   },
   "file_extension": ".py",
   "mimetype": "text/x-python",
   "name": "python",
   "nbconvert_exporter": "python",
   "pygments_lexer": "ipython3",
   "version": "3.7.6"
  }
 },
 "nbformat": 4,
 "nbformat_minor": 4
}
