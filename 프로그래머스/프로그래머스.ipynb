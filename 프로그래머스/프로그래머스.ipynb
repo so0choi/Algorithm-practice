{
 "cells": [
  {
   "cell_type": "code",
   "execution_count": null,
   "metadata": {},
   "outputs": [],
   "source": []
  },
  {
   "cell_type": "code",
   "execution_count": 86,
   "metadata": {},
   "outputs": [
    {
     "name": "stdout",
     "output_type": "stream",
     "text": [
      "[4, 5, 6]\n",
      "deque([0, 7])\n",
      "1\n",
      "\n",
      "[4, 5, 6]\n",
      "deque([7, 0])\n",
      "2\n",
      "\n",
      "[5, 6]\n",
      "deque([0, 4])\n",
      "3\n",
      "\n",
      "[6]\n",
      "deque([4, 5])\n",
      "4\n",
      "\n",
      "[6]\n",
      "deque([5, 0])\n",
      "5\n",
      "\n",
      "[]\n",
      "deque([0, 6])\n",
      "6\n",
      "\n"
     ]
    },
    {
     "data": {
      "text/plain": [
       "8"
      ]
     },
     "execution_count": 86,
     "metadata": {},
     "output_type": "execute_result"
    }
   ],
   "source": [
    "from collections import deque\n",
    "\n",
    "def solution(bridge_length, weight, truck_weights):\n",
    "    bridge = deque([0]*bridge_length)\n",
    "    time = 0\n",
    "    b_weight = 0\n",
    "    while truck_weights:\n",
    "        if b_weight==0:\n",
    "            bridge[-1]=truck_weights[0]\n",
    "            b_weight = truck_weights[0]\n",
    "            del truck_weights[0]\n",
    "        else:\n",
    "            #트럭을 한칸씩 앞으로 움직여야한다\n",
    "            if bridge[0] != 0:\n",
    "                    b_weight -= bridge[0]\n",
    "                    \n",
    "            bridge.popleft()\n",
    "            bridge.append(0)\n",
    "                \n",
    "            if b_weight + truck_weights[0] <= weight: #무게가 되면\n",
    "                bridge[-1]=(truck_weights[0]) # 다리에 트럭 올리기\n",
    "                b_weight += bridge[-1]\n",
    "                del truck_weights[0]\n",
    "        print(truck_weights)\n",
    "        print(bridge)\n",
    "\n",
    "        time+=1\n",
    "        print(time)\n",
    "        print()\n",
    "    time += bridge_length\n",
    "    return time\n",
    "bridge_length = 2\n",
    "weight = 10\n",
    "truck_weights = [7,4,5,6]\n",
    "solution(bridge_length, weight, truck_weights)"
   ]
  },
  {
   "cell_type": "code",
   "execution_count": 96,
   "metadata": {},
   "outputs": [],
   "source": [
    "from itertools import permutations"
   ]
  },
  {
   "cell_type": "code",
   "execution_count": 152,
   "metadata": {},
   "outputs": [
    {
     "name": "stdout",
     "output_type": "stream",
     "text": [
      "00000\n"
     ]
    }
   ],
   "source": [
    "def solution(numbers):\n",
    "    s_numbers = list(map(str,numbers))\n",
    "    s_numbers = sorted(s_numbers,key = lambda x:x*3, reverse=True)\n",
    "    answer = ''.join(str(s) for s in s_numbers)\n",
    "    if answer[0] == '0': \n",
    "        answer = '0'\n",
    "    return answer\n",
    "\n",
    "print(solution([0, 0, 0,0,0]))\n",
    "# 맨 앞자리가 제일 큰 것\n",
    "# "
   ]
  },
  {
   "cell_type": "code",
   "execution_count": 169,
   "metadata": {},
   "outputs": [
    {
     "name": "stdout",
     "output_type": "stream",
     "text": [
      "[4]\n",
      "[4, 3]\n",
      "[4, 3, 1]\n",
      "[4, 3]\n",
      "[4]\n",
      "[4, 2]\n",
      "[4, 2]\n",
      "[4, 2, 4]\n",
      "4\n"
     ]
    }
   ],
   "source": [
    "def solution(board, moves):\n",
    "    answer = 0\n",
    "    N = len(board)\n",
    "    catch = []\n",
    "    for move in moves:\n",
    "        for i in range(N):\n",
    "            if board[i][move-1] != 0:  \n",
    "                doll = board[i][move-1]\n",
    "                if not catch :\n",
    "                    catch.append(doll)\n",
    "                else:\n",
    "                    if catch[-1]==doll:\n",
    "                        answer+=2\n",
    "                        catch.pop()\n",
    "                    else:\n",
    "                        catch.append(doll)\n",
    "                board[i][move-1]=0\n",
    "                break\n",
    "    return answer\n",
    "\n",
    "board, moves = [[[0, 0, 0, 0, 0], [0, 0, 1, 0, 3], [0, 2, 5, 0, 1], [4, 2, 4, 4, 2], [3, 5, 1, 3, 1]], [1, 5, 3, 5, 1, 2, 1, 4]]\n",
    "\n",
    "print(solution(board,moves))"
   ]
  },
  {
   "cell_type": "code",
   "execution_count": 182,
   "metadata": {},
   "outputs": [
    {
     "name": "stdout",
     "output_type": "stream",
     "text": [
      "1\n",
      "2\n"
     ]
    },
    {
     "ename": "IndexError",
     "evalue": "list index out of range",
     "output_type": "error",
     "traceback": [
      "\u001b[1;31m------------------------------------------------------------\u001b[0m",
      "\u001b[1;31mIndexError\u001b[0m                 Traceback (most recent call last)",
      "\u001b[1;32m<ipython-input-182-c4cee1a995e1>\u001b[0m in \u001b[0;36m<module>\u001b[1;34m\u001b[0m\n\u001b[0;32m     14\u001b[0m \u001b[1;33m\u001b[0m\u001b[0m\n\u001b[0;32m     15\u001b[0m \u001b[0manswers\u001b[0m \u001b[1;33m=\u001b[0m \u001b[1;33m[\u001b[0m\u001b[1;36m4\u001b[0m\u001b[1;33m,\u001b[0m\u001b[1;36m1\u001b[0m\u001b[1;33m]\u001b[0m\u001b[1;33m\u001b[0m\u001b[1;33m\u001b[0m\u001b[0m\n\u001b[1;32m---> 16\u001b[1;33m \u001b[0mprint\u001b[0m\u001b[1;33m(\u001b[0m\u001b[0msolution\u001b[0m\u001b[1;33m(\u001b[0m\u001b[0manswers\u001b[0m\u001b[1;33m)\u001b[0m\u001b[1;33m)\u001b[0m\u001b[1;33m\u001b[0m\u001b[1;33m\u001b[0m\u001b[0m\n\u001b[0m",
      "\u001b[1;32m<ipython-input-182-c4cee1a995e1>\u001b[0m in \u001b[0;36msolution\u001b[1;34m(answers)\u001b[0m\n\u001b[0;32m      7\u001b[0m         \u001b[0mj\u001b[0m\u001b[1;33m=\u001b[0m\u001b[1;36m0\u001b[0m\u001b[1;33m\u001b[0m\u001b[1;33m\u001b[0m\u001b[0m\n\u001b[0;32m      8\u001b[0m         \u001b[1;32mfor\u001b[0m \u001b[0mi\u001b[0m \u001b[1;32min\u001b[0m \u001b[0mrange\u001b[0m\u001b[1;33m(\u001b[0m\u001b[0mN\u001b[0m\u001b[1;33m)\u001b[0m\u001b[1;33m:\u001b[0m\u001b[1;33m\u001b[0m\u001b[1;33m\u001b[0m\u001b[0m\n\u001b[1;32m----> 9\u001b[1;33m             \u001b[1;32mif\u001b[0m \u001b[0msupo\u001b[0m\u001b[1;33m[\u001b[0m\u001b[0ms\u001b[0m\u001b[1;33m]\u001b[0m\u001b[1;33m[\u001b[0m\u001b[0mj\u001b[0m\u001b[1;33m]\u001b[0m \u001b[1;33m==\u001b[0m \u001b[0manswers\u001b[0m\u001b[1;33m[\u001b[0m\u001b[0mi\u001b[0m\u001b[1;33m]\u001b[0m\u001b[1;33m:\u001b[0m\u001b[1;33m\u001b[0m\u001b[1;33m\u001b[0m\u001b[0m\n\u001b[0m\u001b[0;32m     10\u001b[0m                 \u001b[0manswer\u001b[0m\u001b[1;33m[\u001b[0m\u001b[0ms\u001b[0m\u001b[1;33m]\u001b[0m\u001b[1;33m+=\u001b[0m\u001b[1;36m1\u001b[0m\u001b[1;33m\u001b[0m\u001b[1;33m\u001b[0m\u001b[0m\n\u001b[0;32m     11\u001b[0m             \u001b[0mj\u001b[0m\u001b[1;33m=\u001b[0m\u001b[1;36m0\u001b[0m \u001b[1;32mif\u001b[0m \u001b[0mj\u001b[0m\u001b[1;33m+\u001b[0m\u001b[1;36m1\u001b[0m \u001b[1;33m==\u001b[0m \u001b[0mM\u001b[0m \u001b[1;32melse\u001b[0m \u001b[0mj\u001b[0m\u001b[1;33m+\u001b[0m\u001b[1;36m1\u001b[0m\u001b[1;33m\u001b[0m\u001b[1;33m\u001b[0m\u001b[0m\n",
      "\u001b[1;31mIndexError\u001b[0m: list index out of range"
     ]
    }
   ],
   "source": [
    "def solution(answers):\n",
    "    answer = [0]*3\n",
    "    N = len(answer)\n",
    "    supo = [[1,2,3,4,5],[2,1,2,3,2,4,2,5],[3,3,1,1,2,2,4,4,5,5]]\n",
    "    for s in range(3):\n",
    "        M = len(supo[s])\n",
    "        j=0\n",
    "        for i in range(N):\n",
    "            if supo[s][j] == answers[i]:\n",
    "                answer[s]+=1\n",
    "            j=0 if j+1 == M else j+1\n",
    "            print(j)\n",
    "    return [i+1 for i in range(3) if answer[i]==max(answer)]\n",
    "\n",
    "answers = [4,1]\n",
    "print(solution(answers))"
   ]
  },
  {
   "cell_type": "code",
   "execution_count": 183,
   "metadata": {},
   "outputs": [],
   "source": [
    "import datetime"
   ]
  },
  {
   "cell_type": "code",
   "execution_count": 187,
   "metadata": {},
   "outputs": [
    {
     "data": {
      "text/plain": [
       "'TUE'"
      ]
     },
     "execution_count": 187,
     "metadata": {},
     "output_type": "execute_result"
    }
   ],
   "source": [
    "def solution(a,b):\n",
    "    date = datetime.datetime(2016,a,b)\n",
    "    day = ['MON','TUE','WED','THU','FRI','SAT','SUN']\n",
    "    return day[date.weekday()]\n",
    "solution(5,24)"
   ]
  },
  {
   "cell_type": "code",
   "execution_count": 199,
   "metadata": {},
   "outputs": [
    {
     "data": {
      "text/plain": [
       "23"
      ]
     },
     "execution_count": 199,
     "metadata": {},
     "output_type": "execute_result"
    }
   ],
   "source": [
    "def solution(dartResult):\n",
    "    darts = []\n",
    "    N = len(dartResult)\n",
    "    bonus = {'S':1,'D':2,'T':3}\n",
    "    temp = ''\n",
    "    for i in range(N):\n",
    "        if dartResult[i] >= '0' and dartResult[i] <='9':\n",
    "            temp+=dartResult[i]\n",
    "        else:\n",
    "            if dartResult[i] >= 'A' and dartResult[i] <='Z':\n",
    "                darts.append(int(temp)**bonus[dartResult[i]])\n",
    "            elif dartResult[i]=='*':\n",
    "                if len(darts) >= 2:\n",
    "                    darts[-2] *= 2\n",
    "                darts[-1] *= 2\n",
    "            elif dartResult[i]=='#':\n",
    "                darts[-1] *= -1\n",
    "            temp=''\n",
    "    return sum(darts)\n",
    "        \n",
    "solution('1S*2T*3S')"
   ]
  },
  {
   "cell_type": "code",
   "execution_count": null,
   "metadata": {},
   "outputs": [],
   "source": [
    "import re\n",
    "def solution(dartResult):\n",
    "    bonus = {'S' : 1, 'D' : 2, 'T' : 3}\n",
    "    option = {'' : 1, '*' : 2, '#' : -1}\n",
    "    p = re.compile('(\\d+)([SDT])([*#]?)')\n",
    "    dart = p.findall(dartResult)\n",
    "    for i in range(len(dart)):\n",
    "        if dart[i][2] == '*' and i > 0:\n",
    "            dart[i-1] *= 2\n",
    "        dart[i] = int(dart[i][0]) ** bonus[dart[i][1]] * option[dart[i][2]]\n",
    "\n",
    "    answer = sum(dart)\n",
    "    return answer"
   ]
  },
  {
   "cell_type": "markdown",
   "metadata": {},
   "source": [
    "# 파이썬 소수찾기\n",
    "에라토스테네스의 체를 이렇게 표현하다니.."
   ]
  },
  {
   "cell_type": "code",
   "execution_count": null,
   "metadata": {},
   "outputs": [],
   "source": [
    "def solution(n):\n",
    "    num=set(range(2,n+1))\n",
    "\n",
    "    for i in range(2,n+1):\n",
    "        if i in num:\n",
    "            num-=set(range(2*i,n+1,i))\n",
    "    return len(num)"
   ]
  },
  {
   "cell_type": "code",
   "execution_count": null,
   "metadata": {},
   "outputs": [],
   "source": [
    "def solution(n):\n",
    "    answer = 0\n",
    "    eratos = [False,False] + [True]*(n-1)\n",
    "    for i in range(2,n+1):\n",
    "        if eratos[i]:\n",
    "            for j in range(i+i,n+1,i):\n",
    "                eratos[j] = False\n",
    "    return len([i for i in eratos if i])"
   ]
  },
  {
   "cell_type": "markdown",
   "metadata": {},
   "source": [
    "[실패율]"
   ]
  },
  {
   "cell_type": "code",
   "execution_count": 235,
   "metadata": {},
   "outputs": [
    {
     "name": "stdout",
     "output_type": "stream",
     "text": [
      "[1, 3, 2, 1, 0]\n",
      "[0.5, 0.5, 0.42857142857142855, 0.125, 0]\n",
      "[3, 4, 2, 1, 5]\n"
     ]
    },
    {
     "data": {
      "text/plain": [
       "[-1, -1, -1, -1, -1]"
      ]
     },
     "execution_count": 235,
     "metadata": {},
     "output_type": "execute_result"
    }
   ],
   "source": [
    "def solution(N, stages):\n",
    "    result = [0]*N\n",
    "    M = len(stages)\n",
    "    if N+1 in stages:\n",
    "        stages[stages.index(N+1)]-=1\n",
    "        result[N-1]-=1\n",
    "    for i in range(M):\n",
    "        result[stages[i]-1]+=1\n",
    "    answer = []\n",
    "    for i in range(N):\n",
    "        if not result[i]==0:\n",
    "            answer.append( result[i] / (M-sum(result[:i])))\n",
    "        else:\n",
    "            answer.append(0)\n",
    "    \n",
    "    s_answer=sorted(answer,reverse=True)\n",
    "    print(s_answer)\n",
    "    realresult=[]\n",
    "    for s in s_answer:\n",
    "        for i in range(5):\n",
    "            if s==answer[i]:\n",
    "                realresult.append(i+1)\n",
    "                answer[i]=-1\n",
    "                break\n",
    "    print(realresult)\n",
    "    return realresult\n",
    "\n",
    "N = 5\n",
    "stages = [2, 1, 2, 6, 2, 4, 3, 3]\n",
    "solution(N,stages)"
   ]
  },
  {
   "cell_type": "code",
   "execution_count": 236,
   "metadata": {},
   "outputs": [],
   "source": [
    "import collections"
   ]
  },
  {
   "cell_type": "code",
   "execution_count": 238,
   "metadata": {},
   "outputs": [
    {
     "name": "stdout",
     "output_type": "stream",
     "text": [
      "(1, 3, 5)\n",
      "(2, 4, 6)\n"
     ]
    }
   ],
   "source": [
    "v = [[1,2],[3,4],[5,6]]\n",
    "for i in zip(*v):\n",
    "    print(i)"
   ]
  },
  {
   "cell_type": "code",
   "execution_count": 242,
   "metadata": {},
   "outputs": [
    {
     "name": "stdout",
     "output_type": "stream",
     "text": [
      "100\n",
      "1\n",
      "3\n"
     ]
    }
   ],
   "source": [
    "a = 3\n",
    "l = [1,2,3]\n",
    "\n",
    "def func():\n",
    "    a = 100\n",
    "    b = 'python'\n",
    "    print(a)\n",
    "    print(l[0])\n",
    "    \n",
    "func()\n",
    "print(a)"
   ]
  },
  {
   "cell_type": "code",
   "execution_count": null,
   "metadata": {},
   "outputs": [],
   "source": []
  },
  {
   "cell_type": "code",
   "execution_count": null,
   "metadata": {},
   "outputs": [],
   "source": []
  }
 ],
 "metadata": {
  "kernelspec": {
   "display_name": "Python 3.7.6 64-bit ('base': conda)",
   "language": "python",
   "name": "python37664bitbaseconda8391ded08ec54e87b7dceb008b4b8c9b"
  },
  "language_info": {
   "codemirror_mode": {
    "name": "ipython",
    "version": 3
   },
   "file_extension": ".py",
   "mimetype": "text/x-python",
   "name": "python",
   "nbconvert_exporter": "python",
   "pygments_lexer": "ipython3",
   "version": "3.7.6"
  }
 },
 "nbformat": 4,
 "nbformat_minor": 4
}
