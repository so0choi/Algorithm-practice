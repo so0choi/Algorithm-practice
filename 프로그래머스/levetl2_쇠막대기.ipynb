{
 "cells": [
  {
   "cell_type": "code",
   "execution_count": null,
   "metadata": {},
   "outputs": [],
   "source": [
    "def solution(arrangement):\n",
    "    board = []\n",
    "    last = False\n",
    "    answer = 0\n",
    "    for a in arrangement:\n",
    "        if a == ')':\n",
    "            if last:\n",
    "                board.pop()\n",
    "                answer+=1\n",
    "            else:\n",
    "                board.pop()\n",
    "                answer+=len(board)\n",
    "                last = True\n",
    "        else:\n",
    "            board.append(a)\n",
    "            last = False\n",
    "\n",
    "    return answer"
   ]
  }
 ],
 "metadata": {
  "kernelspec": {
   "display_name": "Python 3",
   "language": "python",
   "name": "python3"
  },
  "language_info": {
   "codemirror_mode": {
    "name": "ipython",
    "version": 3
   },
   "file_extension": ".py",
   "mimetype": "text/x-python",
   "name": "python",
   "nbconvert_exporter": "python",
   "pygments_lexer": "ipython3",
   "version": "3.7.6"
  }
 },
 "nbformat": 4,
 "nbformat_minor": 4
}
