{
 "cells": [
  {
   "cell_type": "code",
   "execution_count": null,
   "metadata": {},
   "outputs": [],
   "source": [
    "def solution(name):\n",
    "    answer = 0\n",
    "    n = list(name)\n",
    "    idx = 0\n",
    "    while True:\n",
    "        # 위아래로 조이스틱 조작\n",
    "        count = ord(n[idx]) - ord('A') if ord(n[idx]) - ord('A') < 14 else ord('Z') - ord(n[idx]) +1 \n",
    "        n[idx] = 'A' #조작이 끝난 글자는 A로 변경\n",
    "        answer += count\n",
    "        #다음 조작할 글자로 index를 이동시키기\n",
    "        if not all(e=='A' for e in n):\n",
    "            ridx = lidx = 0\n",
    "            position_count = rcount = lcount = 1\n",
    "            i = 1\n",
    "            while idx+i < len(n):\n",
    "                if n[idx+i]!='A':\n",
    "                    ridx = idx+i\n",
    "                    break\n",
    "                rcount += 1\n",
    "                i+=1\n",
    "            i=1\n",
    "            while idx - i >= -len(n):\n",
    "                if n[idx-i]!='A':\n",
    "                    lidx = idx-i\n",
    "                    break\n",
    "                lcount += 1\n",
    "                i+=1\n",
    "            print(rcount, lcount)\n",
    "            if rcount > lcount:\n",
    "                position_count = lcount\n",
    "                idx = lidx\n",
    "            else:\n",
    "                position_count = rcount\n",
    "                idx = ridx\n",
    "            print(idx)\n",
    "            # 이동 거리만큼 조작횟수 추가\n",
    "            answer += position_count\n",
    "        else:\n",
    "            break\n",
    "    return answer"
   ]
  },
  {
   "cell_type": "code",
   "execution_count": null,
   "metadata": {},
   "outputs": [],
   "source": []
  }
 ],
 "metadata": {
  "kernelspec": {
   "display_name": "Python 3",
   "language": "python",
   "name": "python3"
  },
  "language_info": {
   "codemirror_mode": {
    "name": "ipython",
    "version": 3
   },
   "file_extension": ".py",
   "mimetype": "text/x-python",
   "name": "python",
   "nbconvert_exporter": "python",
   "pygments_lexer": "ipython3",
   "version": "3.7.6"
  }
 },
 "nbformat": 4,
 "nbformat_minor": 4
}
