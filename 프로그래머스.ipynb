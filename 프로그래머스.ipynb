{
 "cells": [
  {
   "cell_type": "code",
   "execution_count": null,
   "metadata": {},
   "outputs": [],
   "source": []
  },
  {
   "cell_type": "code",
   "execution_count": 86,
   "metadata": {},
   "outputs": [
    {
     "name": "stdout",
     "output_type": "stream",
     "text": [
      "[4, 5, 6]\n",
      "deque([0, 7])\n",
      "1\n",
      "\n",
      "[4, 5, 6]\n",
      "deque([7, 0])\n",
      "2\n",
      "\n",
      "[5, 6]\n",
      "deque([0, 4])\n",
      "3\n",
      "\n",
      "[6]\n",
      "deque([4, 5])\n",
      "4\n",
      "\n",
      "[6]\n",
      "deque([5, 0])\n",
      "5\n",
      "\n",
      "[]\n",
      "deque([0, 6])\n",
      "6\n",
      "\n"
     ]
    },
    {
     "data": {
      "text/plain": [
       "8"
      ]
     },
     "execution_count": 86,
     "metadata": {},
     "output_type": "execute_result"
    }
   ],
   "source": [
    "from collections import deque\n",
    "\n",
    "def solution(bridge_length, weight, truck_weights):\n",
    "    bridge = deque([0]*bridge_length)\n",
    "    time = 0\n",
    "    b_weight = 0\n",
    "    while truck_weights:\n",
    "        if b_weight==0:\n",
    "            bridge[-1]=truck_weights[0]\n",
    "            b_weight = truck_weights[0]\n",
    "            del truck_weights[0]\n",
    "        else:\n",
    "            #트럭을 한칸씩 앞으로 움직여야한다\n",
    "            if bridge[0] != 0:\n",
    "                    b_weight -= bridge[0]\n",
    "                    \n",
    "            bridge.popleft()\n",
    "            bridge.append(0)\n",
    "                \n",
    "            if b_weight + truck_weights[0] <= weight: #무게가 되면\n",
    "                bridge[-1]=(truck_weights[0]) # 다리에 트럭 올리기\n",
    "                b_weight += bridge[-1]\n",
    "                del truck_weights[0]\n",
    "        print(truck_weights)\n",
    "        print(bridge)\n",
    "\n",
    "        time+=1\n",
    "        print(time)\n",
    "        print()\n",
    "    time += bridge_length\n",
    "    return time\n",
    "bridge_length = 2\n",
    "weight = 10\n",
    "truck_weights = [7,4,5,6]\n",
    "solution(bridge_length, weight, truck_weights)"
   ]
  },
  {
   "cell_type": "code",
   "execution_count": 96,
   "metadata": {},
   "outputs": [],
   "source": [
    "from itertools import permutations"
   ]
  },
  {
   "cell_type": "code",
   "execution_count": 152,
   "metadata": {},
   "outputs": [
    {
     "name": "stdout",
     "output_type": "stream",
     "text": [
      "00000\n"
     ]
    }
   ],
   "source": [
    "def solution(numbers):\n",
    "    s_numbers = list(map(str,numbers))\n",
    "    s_numbers = sorted(s_numbers,key = lambda x:x*3, reverse=True)\n",
    "    answer = ''.join(str(s) for s in s_numbers)\n",
    "    if answer[0] == '0': \n",
    "        answer = '0'\n",
    "    return answer\n",
    "\n",
    "print(solution([0, 0, 0,0,0]))\n",
    "# 맨 앞자리가 제일 큰 것\n",
    "# "
   ]
  },
  {
   "cell_type": "code",
   "execution_count": null,
   "metadata": {},
   "outputs": [],
   "source": []
  }
 ],
 "metadata": {
  "kernelspec": {
   "display_name": "Python 3.7.6 64-bit ('base': conda)",
   "language": "python",
   "name": "python37664bitbaseconda8391ded08ec54e87b7dceb008b4b8c9b"
  },
  "language_info": {
   "codemirror_mode": {
    "name": "ipython",
    "version": 3
   },
   "file_extension": ".py",
   "mimetype": "text/x-python",
   "name": "python",
   "nbconvert_exporter": "python",
   "pygments_lexer": "ipython3",
   "version": "3.7.6"
  }
 },
 "nbformat": 4,
 "nbformat_minor": 4
}
