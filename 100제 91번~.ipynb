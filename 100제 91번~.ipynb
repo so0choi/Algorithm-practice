{
 "cells": [
  {
   "cell_type": "code",
   "execution_count": 2,
   "metadata": {},
   "outputs": [],
   "source": [
    "import random as rand"
   ]
  },
  {
   "cell_type": "code",
   "execution_count": 17,
   "metadata": {},
   "outputs": [
    {
     "name": "stdout",
     "output_type": "stream",
     "text": [
      "1 반\n",
      "평균 :  49\n",
      "1등 :  99\n",
      "2 반\n",
      "평균 :  45\n",
      "1등 :  93\n",
      "3 반\n",
      "평균 :  48\n",
      "1등 :  100\n",
      "4 반\n",
      "평균 :  53\n",
      "1등 :  89\n",
      "5 반\n",
      "평균 :  53\n",
      "1등 :  99\n",
      "6 반\n",
      "평균 :  49\n",
      "1등 :  91\n",
      "7 반\n",
      "평균 :  49\n",
      "1등 :  93\n",
      "------------\n",
      "전교평균 :  49\n"
     ]
    }
   ],
   "source": [
    "# 문제 91\n",
    "totalScore = []\n",
    "for j in range(7):\n",
    "    classScore = []\n",
    "    for k in range(30):\n",
    "        scores = []\n",
    "        for i in range(5):\n",
    "            scores.append(rand.randint(1, 100))\n",
    "        classScore.append(scores)\n",
    "    totalScore.append(classScore)\n",
    "\n",
    "index = 1\n",
    "maxinClass = []\n",
    "avgClass= []\n",
    "for t in totalScore:\n",
    "    each = []\n",
    "    for c in t:\n",
    "        each.append(sum(c)//len(c))\n",
    "        maxinClass.append(max(c))\n",
    "    print(index,'반')\n",
    "    print('평균 : ',sum(each)//len(each))\n",
    "    avgClass.append(sum(each)//len(each))\n",
    "    print('1등 : ',maxinClass[index-1])\n",
    "    index+=1\n",
    "\n",
    "print('------------')\n",
    "print('전교평균 : ',sum(avgClass)//len(avgClass))\n"
   ]
  },
  {
   "cell_type": "code",
   "execution_count": 29,
   "metadata": {},
   "outputs": [
    {
     "name": "stdout",
     "output_type": "stream",
     "text": [
      "38\n",
      "24\n",
      "62\n",
      "36\n",
      "43\n"
     ]
    }
   ],
   "source": [
    "#문제 93\n",
    "\n",
    "page = ['BCBAEBCE','ABCABCABC','ABCDABEABCDE','ABCEDF','ABCDABEA']\n",
    "frame = [3,3,4,0,3]\n",
    "def process(page, frame):\n",
    "    if frame == 0:\n",
    "        return len(page)*6\n",
    "    stack = []\n",
    "    count = 0\n",
    "    for p in page:\n",
    "        if p in stack:\n",
    "            count+=1\n",
    "        else:\n",
    "            count+=6\n",
    "            if len(stack)==frame:\n",
    "                stack.pop(0)\n",
    "            stack.append(p)\n",
    "    return count\n",
    "\n",
    "for p,f in zip(page,frame):\n",
    "    print(process(p,f))\n",
    "    \n"
   ]
  },
  {
   "cell_type": "code",
   "execution_count": 33,
   "metadata": {},
   "outputs": [
    {
     "name": "stdout",
     "output_type": "stream",
     "text": [
      "33\n",
      "24\n",
      "36\n"
     ]
    }
   ],
   "source": [
    "#문제 94\n",
    "page = ['BCBAEBCE','ABCABCABC','ABCEDF']\n",
    "frame = [3,3,0]\n",
    "def LRU(page,frame):\n",
    "    stack = []\n",
    "    count = 0\n",
    "    if frame == 0:\n",
    "        return len(page)*6\n",
    "    for p in page:\n",
    "        if p in stack:\n",
    "            count+=1\n",
    "            stack.append(stack.pop(stack.index(p)))\n",
    "        else:\n",
    "            if len(stack) >= frame:\n",
    "                stack.pop(0)\n",
    "            stack.append(p)\n",
    "            count+=6\n",
    "    return count\n",
    "for p,f in zip(page,frame):\n",
    "    print(LRU(p,f))"
   ]
  },
  {
   "cell_type": "code",
   "execution_count": 34,
   "metadata": {},
   "outputs": [],
   "source": [
    "import numpy as np"
   ]
  },
  {
   "cell_type": "code",
   "execution_count": 55,
   "metadata": {},
   "outputs": [
    {
     "name": "stdout",
     "output_type": "stream",
     "text": [
      "[[0, 0, 0, 0], [0, 0, 0, 0], [0, 0, 0, 0], [0, 0, 0, 0]]\n",
      "[1 2 3 3]\n",
      "[2 1 0 1]\n",
      "[1 2 1 2]\n",
      "[0 1 0 2]\n"
     ]
    }
   ],
   "source": [
    "#문제 95\n",
    "stamp = [\n",
    "[1,1,1,2],\n",
    "[2,0,0,0],\n",
    "[1,1,1,1],\n",
    "[0,0,0,0]\n",
    "]\n",
    "result = np.array(stamp)\n",
    "rotate = 1\n",
    "def rot(stamp):\n",
    "    temp = [[0]*len(stamp) for _ in range(len(stamp))]\n",
    "    print(temp)\n",
    "    for i in range(len(stamp)):\n",
    "        for j in range(len(stamp)):\n",
    "            temp[j][len(stamp)-i-1] = stamp[i][j]\n",
    "    return temp\n",
    "\n",
    "for i in range(rotate):\n",
    "    stamp = rot(stamp)\n",
    "    \n",
    "sumset = np.array(stamp)\n",
    "for t in result+sumset:\n",
    "    print(t)"
   ]
  },
  {
   "cell_type": "code",
   "execution_count": 69,
   "metadata": {},
   "outputs": [
    {
     "name": "stdout",
     "output_type": "stream",
     "text": [
      "[0, 0, 0, 0, 0]\n",
      "[0, 1, 0, 0, 0]\n",
      "[0, 1, 0, 0, 0]\n",
      "[0, 0, 1, 0, 0]\n",
      "[0, 0, 0, 1, 0]\n",
      "0 2\n",
      "[0, 0, '#', '#', '#']\n",
      "[0, 1, '#', '#', '#']\n",
      "[0, 1, '#', '#', '#']\n",
      "[0, 0, 1, 0, 0]\n",
      "[0, 0, 0, 1, 0]\n"
     ]
    }
   ],
   "source": [
    "# 문제 96\n",
    "farm = [[0,0,0,0,0],[0,1,0,0,0],[0,1,0,0,0],[0,0,1,0,0],[0,0,0,1,0]]\n",
    "\n",
    "for f in farm:\n",
    "    print(f)\n",
    "farmS = np.array(farm)\n",
    "def findPlace(farm):\n",
    "    N= len(farm)\n",
    "    for i in range(N,0,-1):\n",
    "        for j in range(N-i):\n",
    "            for k in range(N-i):\n",
    "                if 1 not in farmS[j:j+i+1,k:k+i+1]:\n",
    "                    print(j,k)\n",
    "                    return [i,j,k] #i : 밭 크기 j: 밭 시작점\n",
    "            \n",
    "newFarm = farm.copy()\n",
    "n,startx,starty = findPlace(farmS)\n",
    "for i in range(n+1):\n",
    "    for j in range(n+1):\n",
    "        newFarm[startx+i][starty+j] = '#'\n",
    "\n",
    "for n in newFarm:\n",
    "    print(n)"
   ]
  },
  {
   "cell_type": "code",
   "execution_count": null,
   "metadata": {},
   "outputs": [],
   "source": [
    "#문제 97\n"
   ]
  },
  {
   "cell_type": "code",
   "execution_count": null,
   "metadata": {},
   "outputs": [],
   "source": []
  }
 ],
 "metadata": {
  "kernelspec": {
   "display_name": "Python 3",
   "language": "python",
   "name": "python3"
  },
  "language_info": {
   "codemirror_mode": {
    "name": "ipython",
    "version": 3
   },
   "file_extension": ".py",
   "mimetype": "text/x-python",
   "name": "python",
   "nbconvert_exporter": "python",
   "pygments_lexer": "ipython3",
   "version": "3.7.6"
  }
 },
 "nbformat": 4,
 "nbformat_minor": 4
}
