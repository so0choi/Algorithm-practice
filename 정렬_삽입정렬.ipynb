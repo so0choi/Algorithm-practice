{
 "cells": [
  {
   "cell_type": "code",
   "execution_count": 2,
   "metadata": {},
   "outputs": [
    {
     "name": "stdout",
     "output_type": "stream",
     "text": [
      "[10, 66, 77, 54, 32, 11, 15]\n",
      "[5]\n",
      "-----------\n",
      "[66, 77, 54, 32, 11, 15]\n",
      "[5, 10]\n",
      "-----------\n",
      "[66, 77, 54, 32, 15]\n",
      "[5, 10, 11]\n",
      "-----------\n",
      "[66, 77, 54, 32]\n",
      "[5, 10, 11, 15]\n",
      "-----------\n",
      "[66, 77, 54]\n",
      "[5, 10, 11, 15, 32]\n",
      "-----------\n",
      "[66, 77]\n",
      "[5, 10, 11, 15, 32, 54]\n",
      "-----------\n",
      "[77]\n",
      "[5, 10, 11, 15, 32, 54, 66]\n",
      "-----------\n",
      "[]\n",
      "[5, 10, 11, 15, 32, 54, 66, 77]\n",
      "-----------\n"
     ]
    }
   ],
   "source": [
    "# 선택정렬\n",
    "입력값 = [5,10,66,77,54,32,11,15]\n",
    "정렬된리스트 = []\n",
    "\n",
    "def 최솟값(list):\n",
    "    최소 = list[0]\n",
    "    for i in list:\n",
    "        if 최소 > i:\n",
    "            최소 = i\n",
    "    print(최소)\n",
    "    \n",
    "print(최솟값(입력값))\n",
    "\n",
    "while 입력값:\n",
    "    정렬된리스트.append(min(입력값))\n",
    "    입력값.pop(입력값.index(min(입력값)))\n",
    "    print(입력값)\n",
    "    print(정렬된리스트)\n",
    "    print('-----------')"
   ]
  },
  {
   "cell_type": "code",
   "execution_count": 6,
   "metadata": {},
   "outputs": [
    {
     "name": "stdout",
     "output_type": "stream",
     "text": [
      "2\n"
     ]
    }
   ],
   "source": [
    "#최솟값 찾기\n",
    "입력값 = [2,5,10,66,77,54,32,11,15]\n",
    "def 최솟값(list):\n",
    "    최소 = list[0]\n",
    "    count = 0\n",
    "    for i in list:\n",
    "        if 최소 > i:\n",
    "            최소 = i\n",
    "    return 최소\n",
    "    \n",
    "print(최솟값(입력값))"
   ]
  },
  {
   "cell_type": "code",
   "execution_count": 8,
   "metadata": {},
   "outputs": [
    {
     "name": "stdout",
     "output_type": "stream",
     "text": [
      "7\n"
     ]
    }
   ],
   "source": [
    "#최솟값의 인덱스 찾기\n",
    "입력값 = [2,5,10,66,77,54,32,1,11,15]\n",
    "def 최솟값_인덱스(list):\n",
    "    인덱스 = 0\n",
    "    최소 = list[0]\n",
    "    for i in range(len(list)):\n",
    "        if list[i] < 최소:\n",
    "            인덱스 = i\n",
    "    return 인덱스\n",
    "\n",
    "print(최솟값_인덱스(입력값))"
   ]
  },
  {
   "cell_type": "code",
   "execution_count": 9,
   "metadata": {},
   "outputs": [
    {
     "name": "stdout",
     "output_type": "stream",
     "text": [
      "[5, 10, 11, 15, 32, 54, 66, 77]\n"
     ]
    }
   ],
   "source": [
    "# 삼입정렬\n",
    "입력값 = [5,10,66,77,54,32,11,15]\n",
    "정렬된리스트 = []\n",
    "\n",
    "def 삽입값이_들어갈_인덱스(정렬된리스트, 삽입값):\n",
    "    for i in range(len(정렬된리스트)):\n",
    "        if 삽입값 < 정렬된리스트[i]:\n",
    "            return i\n",
    "    return len(정렬된리스트) #리스트의 맨 뒤에 삽입되어야 하는 경우\n",
    "\n",
    "while 입력값:\n",
    "    삽입값 = 입력값.pop(0)\n",
    "    인덱스 = 삽입값이_들어갈_인덱스(정렬된리스트, 삽입값)\n",
    "    정렬된리스트.insert(인덱스, 삽입값)\n",
    "\n",
    "print(정렬된리스트)"
   ]
  }
 ],
 "metadata": {
  "kernelspec": {
   "display_name": "Python 3.7.6 64-bit ('base': conda)",
   "language": "python",
   "name": "python37664bitbaseconda8391ded08ec54e87b7dceb008b4b8c9b"
  },
  "language_info": {
   "codemirror_mode": {
    "name": "ipython",
    "version": 3
   },
   "file_extension": ".py",
   "mimetype": "text/x-python",
   "name": "python",
   "nbconvert_exporter": "python",
   "pygments_lexer": "ipython3",
   "version": "3.7.6"
  }
 },
 "nbformat": 4,
 "nbformat_minor": 4
}
